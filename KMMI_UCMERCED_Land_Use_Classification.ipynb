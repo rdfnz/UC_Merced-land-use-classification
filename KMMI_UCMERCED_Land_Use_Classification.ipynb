{
  "nbformat": 4,
  "nbformat_minor": 0,
  "metadata": {
    "colab": {
      "name": "KMMI UCMERCED Land Use Classification.ipynb",
      "provenance": [],
      "collapsed_sections": []
    },
    "kernelspec": {
      "name": "python3",
      "display_name": "Python 3"
    },
    "language_info": {
      "name": "python"
    },
    "accelerator": "GPU"
  },
  "cells": [
    {
      "cell_type": "markdown",
      "metadata": {
        "id": "B1dZmm5FRX6C"
      },
      "source": [
        "##1. Download Dataset"
      ]
    },
    {
      "cell_type": "markdown",
      "metadata": {
        "id": "BKdBDWmIVJjN"
      },
      "source": [
        "Download the ucmerced landuse dataset with 21 classes where each class has 100 images. The 21 classes are:\n",
        "* agricultural\n",
        "* airplane\n",
        "* baseballdiamond\n",
        "* beach\n",
        "* buildings\n",
        "* chaparral\n",
        "* denseresidential\n",
        "* forest\n",
        "* freeway\n",
        "* golf course\n",
        "* harbor\n",
        "* intersection\n",
        "* mediumresidential\n",
        "* mobilehomepark\n",
        "* overpass\n",
        "* parking lot\n",
        "* river\n",
        "* runway\n",
        "* sparseresidential\n",
        "* storage tanks\n",
        "* tennis court\n",
        "\n",
        "Where each image has a size of 256x256 RGB pixels."
      ]
    },
    {
      "cell_type": "code",
      "metadata": {
        "colab": {
          "base_uri": "https://localhost:8080/"
        },
        "id": "o7BsPKQc004d",
        "outputId": "c6780dc6-0e10-4972-f961-6491b62c532f"
      },
      "source": [
        "!wget http://weegee.vision.ucmerced.edu/datasets/UCMerced_LandUse.zip"
      ],
      "execution_count": 1,
      "outputs": [
        {
          "output_type": "stream",
          "name": "stdout",
          "text": [
            "--2021-10-01 13:51:13--  http://weegee.vision.ucmerced.edu/datasets/UCMerced_LandUse.zip\n",
            "Resolving weegee.vision.ucmerced.edu (weegee.vision.ucmerced.edu)... 169.236.184.65\n",
            "Connecting to weegee.vision.ucmerced.edu (weegee.vision.ucmerced.edu)|169.236.184.65|:80... connected.\n",
            "HTTP request sent, awaiting response... 200 OK\n",
            "Length: 332468434 (317M) [application/zip]\n",
            "Saving to: ‘UCMerced_LandUse.zip’\n",
            "\n",
            "UCMerced_LandUse.zi 100%[===================>] 317.07M  48.7MB/s    in 10s     \n",
            "\n",
            "2021-10-01 13:51:23 (30.6 MB/s) - ‘UCMerced_LandUse.zip’ saved [332468434/332468434]\n",
            "\n"
          ]
        }
      ]
    },
    {
      "cell_type": "markdown",
      "metadata": {
        "id": "nOT0ayWpRcA-"
      },
      "source": [
        "##2. Mount Google Drive"
      ]
    },
    {
      "cell_type": "markdown",
      "metadata": {
        "id": "06dHBRsid-sF"
      },
      "source": [
        "Mount colab to google drive to save and load trained model."
      ]
    },
    {
      "cell_type": "code",
      "metadata": {
        "colab": {
          "base_uri": "https://localhost:8080/"
        },
        "id": "Twm1QgjfCCy2",
        "outputId": "a8ef26bf-a8d3-4391-dbb1-27d0740b26d5"
      },
      "source": [
        "from google.colab import drive\n",
        "drive.mount('/content/drive')"
      ],
      "execution_count": 3,
      "outputs": [
        {
          "output_type": "stream",
          "name": "stdout",
          "text": [
            "Mounted at /content/drive\n"
          ]
        }
      ]
    },
    {
      "cell_type": "markdown",
      "metadata": {
        "id": "7KDnxEFkRfpt"
      },
      "source": [
        "##3. Import Important Library"
      ]
    },
    {
      "cell_type": "code",
      "metadata": {
        "id": "mVniydPeFb3z"
      },
      "source": [
        "import os\n",
        "from skimage.io import imread, imsave\n",
        "import shutil\n",
        "import numpy as np\n",
        "import tensorflow as tf\n",
        "from tensorflow.keras.models import Sequential, Model\n",
        "from tensorflow.keras.applications.mobilenet import MobileNet\n",
        "from tensorflow.keras.optimizers import Adam\n",
        "from tensorflow.keras.callbacks import ModelCheckpoint\n",
        "import matplotlib.pyplot as plt\n",
        "from sklearn.metrics import accuracy_score, classification_report\n",
        "import cv2\n",
        "import matplotlib.pyplot as plt"
      ],
      "execution_count": 4,
      "outputs": []
    },
    {
      "cell_type": "markdown",
      "metadata": {
        "id": "GDq6suEORjRv"
      },
      "source": [
        "##4. Extract Dataset"
      ]
    },
    {
      "cell_type": "markdown",
      "metadata": {
        "id": "y1KX4sEqeGYG"
      },
      "source": [
        "Make data directory for the extracted dataset"
      ]
    },
    {
      "cell_type": "code",
      "metadata": {
        "id": "OZw1VcBKCSMJ"
      },
      "source": [
        "try:\n",
        "  os.mkdir('data')\n",
        "except:\n",
        "  print(\"Error, there is already a 'data' folder\")"
      ],
      "execution_count": 5,
      "outputs": []
    },
    {
      "cell_type": "markdown",
      "metadata": {
        "id": "FKFRMflReUic"
      },
      "source": [
        "Extract dataset to '/content/data'"
      ]
    },
    {
      "cell_type": "code",
      "metadata": {
        "id": "pdz6euz_Db3M"
      },
      "source": [
        "import zipfile\n",
        "with zipfile.ZipFile(\"/content/UCMerced_LandUse.zip\", 'r') as zip_ref:\n",
        "    zip_ref.extractall(\"/content\")"
      ],
      "execution_count": 6,
      "outputs": []
    },
    {
      "cell_type": "markdown",
      "metadata": {
        "id": "bhVVzaT4eYNd"
      },
      "source": [
        "Get the label from the dataset"
      ]
    },
    {
      "cell_type": "code",
      "metadata": {
        "colab": {
          "base_uri": "https://localhost:8080/"
        },
        "id": "m6PIw7qkHMLl",
        "outputId": "a2da4214-d778-4b17-b5fc-bac1228890c6"
      },
      "source": [
        "labels = os.listdir(\"/content/UCMerced_LandUse/Images\")\n",
        "labels.sort()\n",
        "labels"
      ],
      "execution_count": 7,
      "outputs": [
        {
          "output_type": "execute_result",
          "data": {
            "text/plain": [
              "['agricultural',\n",
              " 'airplane',\n",
              " 'baseballdiamond',\n",
              " 'beach',\n",
              " 'buildings',\n",
              " 'chaparral',\n",
              " 'denseresidential',\n",
              " 'forest',\n",
              " 'freeway',\n",
              " 'golfcourse',\n",
              " 'harbor',\n",
              " 'intersection',\n",
              " 'mediumresidential',\n",
              " 'mobilehomepark',\n",
              " 'overpass',\n",
              " 'parkinglot',\n",
              " 'river',\n",
              " 'runway',\n",
              " 'sparseresidential',\n",
              " 'storagetanks',\n",
              " 'tenniscourt']"
            ]
          },
          "metadata": {},
          "execution_count": 7
        }
      ]
    },
    {
      "cell_type": "markdown",
      "metadata": {
        "id": "wjsi4pi7Ro8X"
      },
      "source": [
        "##5. Divide Dataset into Training, Validation, Testing"
      ]
    },
    {
      "cell_type": "markdown",
      "metadata": {
        "id": "_CWPB-YQecXm"
      },
      "source": [
        "Randomly selects images from the dataset and divides them into Train, Validation, and Test with a ratio of 80:10:10"
      ]
    },
    {
      "cell_type": "code",
      "metadata": {
        "id": "E6JvQ-BBG9Po"
      },
      "source": [
        "def complement (a,b):\n",
        "    f2=[]\n",
        "    for x in a:\n",
        "        x=os.path.splitext(x)[0]+'.tif'\n",
        "        if x not in b:\n",
        "            f2.append(x)\n",
        "    return (f2)"
      ],
      "execution_count": 8,
      "outputs": []
    },
    {
      "cell_type": "code",
      "metadata": {
        "colab": {
          "base_uri": "https://localhost:8080/"
        },
        "id": "5l5YcBWsFzaI",
        "outputId": "793668e6-b75c-4615-ea77-f7ea8ae606cd"
      },
      "source": [
        "train_data_size=80\n",
        "validate_data_size=10\n",
        "test_data_size=10\n",
        "for j in labels:\n",
        "    path=os.path.join('/content/UCMerced_LandUse/Images',j)\n",
        "    path1_train=os.path.join('data','train',j)\n",
        "    path1_validate=os.path.join('data','validation',j)\n",
        "    path1_test=os.path.join('data','test',j)\n",
        "    \n",
        "    try:\n",
        "      shutil.rmtree(path1_train)\n",
        "      os.makedirs(path1_train)\n",
        "      shutil.rmtree(path1_validate)\n",
        "      os.makedirs(path1_validate)\n",
        "      shutil.rmtree(path1_test) \n",
        "      os.makedirs(path1_test) \n",
        "    except:\n",
        "      os.makedirs(path1_train) \n",
        "      os.makedirs(path1_validate) \n",
        "      os.makedirs(path1_test) \n",
        "    \n",
        "    \n",
        "    files1= os.listdir(path)\n",
        "    files1=files1[1:len(files1)]\n",
        "    files1= np.random.permutation(files1)\n",
        "    for i in range(0,train_data_size):\n",
        "        file=os.path.join(path,files1[i])\n",
        "        img1=imread(file)\n",
        "        n=os.path.splitext(file)\n",
        "        n=n[0].split('/')\n",
        "        n1=os.path.join(path1_train, n[-1] +'.png')\n",
        "        imsave(n1,img1)\n",
        "\n",
        "    print(path1_train, len(os.listdir(path1_train)))\n",
        "    validate_data0 = complement(files1, os.listdir(path1_train))\n",
        "    \n",
        "    validate_data = np.random.permutation(validate_data0)\n",
        "    for i in range( 0, validate_data_size):\n",
        "        file=os.path.join(path,validate_data[i])\n",
        "        img1=imread(file)\n",
        "        n=os.path.splitext(file)\n",
        "        n=n[0].split('/')\n",
        "        n1=os.path.join(path1_validate, n[-1] +'.png')\n",
        "        imsave(n1,img1)\n",
        "    print(path1_validate, len(os.listdir(path1_validate))) \n",
        "    \n",
        "    test_data0 = complement(validate_data0, os.listdir(path1_validate))\n",
        "    test_data = np.random.permutation(test_data0)\n",
        "    for i in range(0, test_data_size):\n",
        "        file=os.path.join(path,test_data[i])\n",
        "        img1=imread(file)\n",
        "        n=os.path.splitext(file)\n",
        "        n=n[0].split('/')\n",
        "        n1=os.path.join(path1_test, n[-1] +'.png')\n",
        "        imsave(n1,img1)\n",
        "        \n",
        "    print(path1_test, len(os.listdir(path1_test)))"
      ],
      "execution_count": 9,
      "outputs": [
        {
          "output_type": "stream",
          "name": "stderr",
          "text": [
            "/usr/local/lib/python3.7/dist-packages/ipykernel_launcher.py:32: UserWarning: data/train/agricultural/agricultural55.png is a low contrast image\n"
          ]
        },
        {
          "output_type": "stream",
          "name": "stdout",
          "text": [
            "data/train/agricultural 80\n",
            "data/validation/agricultural 10\n",
            "data/test/agricultural 10\n",
            "data/train/airplane 80\n",
            "data/validation/airplane 10\n",
            "data/test/airplane 10\n",
            "data/train/baseballdiamond 80\n",
            "data/validation/baseballdiamond 10\n",
            "data/test/baseballdiamond 10\n",
            "data/train/beach 80\n",
            "data/validation/beach 10\n",
            "data/test/beach 10\n",
            "data/train/buildings 80\n",
            "data/validation/buildings 10\n",
            "data/test/buildings 10\n",
            "data/train/chaparral 80\n",
            "data/validation/chaparral 10\n",
            "data/test/chaparral 10\n",
            "data/train/denseresidential 80\n",
            "data/validation/denseresidential 10\n",
            "data/test/denseresidential 10\n",
            "data/train/forest 80\n",
            "data/validation/forest 10\n",
            "data/test/forest 10\n",
            "data/train/freeway 80\n",
            "data/validation/freeway 10\n",
            "data/test/freeway 10\n",
            "data/train/golfcourse 80\n",
            "data/validation/golfcourse 10\n",
            "data/test/golfcourse 10\n",
            "data/train/harbor 80\n",
            "data/validation/harbor 10\n",
            "data/test/harbor 10\n",
            "data/train/intersection 80\n",
            "data/validation/intersection 10\n",
            "data/test/intersection 10\n",
            "data/train/mediumresidential 80\n",
            "data/validation/mediumresidential 10\n",
            "data/test/mediumresidential 10\n",
            "data/train/mobilehomepark 80\n",
            "data/validation/mobilehomepark 10\n",
            "data/test/mobilehomepark 10\n",
            "data/train/overpass 80\n",
            "data/validation/overpass 10\n",
            "data/test/overpass 10\n",
            "data/train/parkinglot 80\n",
            "data/validation/parkinglot 10\n",
            "data/test/parkinglot 10\n",
            "data/train/river 80\n",
            "data/validation/river 10\n",
            "data/test/river 10\n",
            "data/train/runway 80\n",
            "data/validation/runway 10\n",
            "data/test/runway 10\n",
            "data/train/sparseresidential 80\n",
            "data/validation/sparseresidential 10\n",
            "data/test/sparseresidential 10\n",
            "data/train/storagetanks 80\n",
            "data/validation/storagetanks 10\n",
            "data/test/storagetanks 10\n",
            "data/train/tenniscourt 80\n",
            "data/validation/tenniscourt 10\n",
            "data/test/tenniscourt 10\n"
          ]
        }
      ]
    },
    {
      "cell_type": "markdown",
      "metadata": {
        "id": "WpkeM3kSRv6Y"
      },
      "source": [
        "##6. Preprocess Image for Training"
      ]
    },
    {
      "cell_type": "markdown",
      "metadata": {
        "id": "ci85pMjWex1s"
      },
      "source": [
        "Image preprocessing for training, validation, and testing using imagedatagen."
      ]
    },
    {
      "cell_type": "code",
      "metadata": {
        "colab": {
          "base_uri": "https://localhost:8080/"
        },
        "id": "Arq7z7s3H5vS",
        "outputId": "3eb28472-9071-4493-a84c-2e5f96da1b95"
      },
      "source": [
        "from keras.preprocessing.image import ImageDataGenerator\n",
        "\n",
        "base_directory=path=os.path.join('/content/UCMerced_LandUse/Images')\n",
        "train_dir=os.path.join('data','train')\n",
        "validation_dir=os.path.join('data','validation')\n",
        "test_dir=os.path.join('data','test')\n",
        "\n",
        "train_datagen = ImageDataGenerator(\n",
        "        rescale=1. / 255,\n",
        "        rotation_range=40,\n",
        "        width_shift_range=0.2,\n",
        "        height_shift_range=0.2,\n",
        "        shear_range=0.2,\n",
        "        zoom_range=0.2,\n",
        "        horizontal_flip=True,\n",
        "        fill_mode='nearest'\n",
        "    )\n",
        "\n",
        "train_generator = train_datagen.flow_from_directory(\n",
        "        train_dir,\n",
        "        target_size=(150, 150),\n",
        "        batch_size=32,\n",
        "        color_mode='rgb',\n",
        "        class_mode='categorical'\n",
        "    )\n",
        "\n",
        "validation_datagen = ImageDataGenerator(rescale=1.0 / 255.)\n",
        "validation_generator = validation_datagen.flow_from_directory(\n",
        "        validation_dir,\n",
        "        target_size=(150, 150),\n",
        "        batch_size=32,\n",
        "        color_mode='rgb',\n",
        "        class_mode='categorical'\n",
        "    )\n",
        "\n",
        "test_datagen = ImageDataGenerator(rescale=1.0 / 255.)\n",
        "test_generator = test_datagen.flow_from_directory(\n",
        "        test_dir,\n",
        "        target_size=(150, 150),\n",
        "        batch_size=1,\n",
        "        color_mode='rgb',\n",
        "        class_mode='categorical'\n",
        "    )\n",
        "X_test = []\n",
        "y_test = []\n",
        "for i in range (len(test_generator)):\n",
        "  x,y = test_generator[i]\n",
        "  X_test.append(x)\n",
        "  y_test.append(y)\n",
        "X_test = np.array(X_test).reshape(210,150,150,3)\n",
        "y_test = np.array(y_test).reshape(210,21)\n",
        "y_test_class = [np.argmax(y) for y in y_test]\n",
        "class_label = {v: k for k, v in test_generator.class_indices.items()}\n",
        "class_label"
      ],
      "execution_count": 10,
      "outputs": [
        {
          "output_type": "stream",
          "name": "stdout",
          "text": [
            "Found 1680 images belonging to 21 classes.\n",
            "Found 210 images belonging to 21 classes.\n",
            "Found 210 images belonging to 21 classes.\n"
          ]
        },
        {
          "output_type": "execute_result",
          "data": {
            "text/plain": [
              "{0: 'agricultural',\n",
              " 1: 'airplane',\n",
              " 2: 'baseballdiamond',\n",
              " 3: 'beach',\n",
              " 4: 'buildings',\n",
              " 5: 'chaparral',\n",
              " 6: 'denseresidential',\n",
              " 7: 'forest',\n",
              " 8: 'freeway',\n",
              " 9: 'golfcourse',\n",
              " 10: 'harbor',\n",
              " 11: 'intersection',\n",
              " 12: 'mediumresidential',\n",
              " 13: 'mobilehomepark',\n",
              " 14: 'overpass',\n",
              " 15: 'parkinglot',\n",
              " 16: 'river',\n",
              " 17: 'runway',\n",
              " 18: 'sparseresidential',\n",
              " 19: 'storagetanks',\n",
              " 20: 'tenniscourt'}"
            ]
          },
          "metadata": {},
          "execution_count": 10
        }
      ]
    },
    {
      "cell_type": "markdown",
      "metadata": {
        "id": "_pvtLmni_Nnx"
      },
      "source": [
        "##7. Build CNN Model"
      ]
    },
    {
      "cell_type": "markdown",
      "metadata": {
        "id": "XbLEJrz3P4NN"
      },
      "source": [
        "###7.1 Train CNN Model"
      ]
    },
    {
      "cell_type": "markdown",
      "metadata": {
        "id": "XO-CoTt_e_dZ"
      },
      "source": [
        "Train CNN model and save the model to google drive"
      ]
    },
    {
      "cell_type": "code",
      "metadata": {
        "colab": {
          "base_uri": "https://localhost:8080/"
        },
        "id": "X3OO726U_NCV",
        "outputId": "6c004fb2-d05d-4a42-fafc-d757ccb7a685"
      },
      "source": [
        "model = Sequential()\n",
        "model.add(tf.keras.layers.Conv2D(32, kernel_size=(3, 3),activation='relu',input_shape=(150,150,3),\n",
        "               data_format='channels_last'))\n",
        "model.add(tf.keras.layers.MaxPooling2D(pool_size=(2,2)))\n",
        "model.add(tf.keras.layers.Conv2D(32, (3, 3), activation='relu'))\n",
        "model.add(tf.keras.layers.MaxPooling2D(pool_size=(2,2)))\n",
        "model.add(tf.keras.layers.Dropout(0.25))\n",
        "model.add(tf.keras.layers.Flatten())\n",
        "model.add(tf.keras.layers.Dense(128, activation='relu'))\n",
        "model.add(tf.keras.layers.Dropout(0.5))\n",
        "model.add(tf.keras.layers.Dense(21, activation='softmax'))\n",
        "model.compile(loss='categorical_crossentropy',\n",
        "            optimizer='adam',\n",
        "            metrics=['accuracy'])\n",
        "\n",
        "history = model.fit(\n",
        "    train_generator,\n",
        "    epochs=100,\n",
        "    validation_data=validation_generator,\n",
        "    callbacks=[\n",
        "            ModelCheckpoint(\n",
        "                filepath='bestCNNmodel.h5',\n",
        "                monitor='accuracy',\n",
        "                mode='max',\n",
        "                save_best_only=True,\n",
        "                save_weights_only=False,\n",
        "                verbose=1\n",
        "            )\n",
        "        ])\n"
      ],
      "execution_count": 12,
      "outputs": [
        {
          "output_type": "stream",
          "name": "stdout",
          "text": [
            "Epoch 1/100\n",
            "53/53 [==============================] - 48s 296ms/step - loss: 3.0905 - accuracy: 0.0452 - val_loss: 2.9276 - val_accuracy: 0.0857\n",
            "\n",
            "Epoch 00001: accuracy improved from -inf to 0.04524, saving model to bestCNNmodel.h5\n",
            "Epoch 2/100\n",
            "53/53 [==============================] - 15s 289ms/step - loss: 2.9413 - accuracy: 0.0780 - val_loss: 2.8974 - val_accuracy: 0.0762\n",
            "\n",
            "Epoch 00002: accuracy improved from 0.04524 to 0.07798, saving model to bestCNNmodel.h5\n",
            "Epoch 3/100\n",
            "53/53 [==============================] - 15s 289ms/step - loss: 2.8701 - accuracy: 0.1179 - val_loss: 2.8310 - val_accuracy: 0.1190\n",
            "\n",
            "Epoch 00003: accuracy improved from 0.07798 to 0.11786, saving model to bestCNNmodel.h5\n",
            "Epoch 4/100\n",
            "53/53 [==============================] - 15s 290ms/step - loss: 2.7653 - accuracy: 0.1458 - val_loss: 2.6424 - val_accuracy: 0.2143\n",
            "\n",
            "Epoch 00004: accuracy improved from 0.11786 to 0.14583, saving model to bestCNNmodel.h5\n",
            "Epoch 5/100\n",
            "53/53 [==============================] - 15s 288ms/step - loss: 2.6395 - accuracy: 0.1911 - val_loss: 2.7423 - val_accuracy: 0.1952\n",
            "\n",
            "Epoch 00005: accuracy improved from 0.14583 to 0.19107, saving model to bestCNNmodel.h5\n",
            "Epoch 6/100\n",
            "53/53 [==============================] - 15s 288ms/step - loss: 2.6214 - accuracy: 0.2131 - val_loss: 2.4398 - val_accuracy: 0.2905\n",
            "\n",
            "Epoch 00006: accuracy improved from 0.19107 to 0.21310, saving model to bestCNNmodel.h5\n",
            "Epoch 7/100\n",
            "53/53 [==============================] - 15s 289ms/step - loss: 2.4933 - accuracy: 0.2345 - val_loss: 2.3081 - val_accuracy: 0.3286\n",
            "\n",
            "Epoch 00007: accuracy improved from 0.21310 to 0.23452, saving model to bestCNNmodel.h5\n",
            "Epoch 8/100\n",
            "53/53 [==============================] - 15s 287ms/step - loss: 2.3965 - accuracy: 0.2405 - val_loss: 2.6252 - val_accuracy: 0.2286\n",
            "\n",
            "Epoch 00008: accuracy improved from 0.23452 to 0.24048, saving model to bestCNNmodel.h5\n",
            "Epoch 9/100\n",
            "53/53 [==============================] - 15s 289ms/step - loss: 2.3302 - accuracy: 0.2792 - val_loss: 2.0694 - val_accuracy: 0.3714\n",
            "\n",
            "Epoch 00009: accuracy improved from 0.24048 to 0.27917, saving model to bestCNNmodel.h5\n",
            "Epoch 10/100\n",
            "53/53 [==============================] - 15s 288ms/step - loss: 2.2512 - accuracy: 0.2917 - val_loss: 2.0852 - val_accuracy: 0.3190\n",
            "\n",
            "Epoch 00010: accuracy improved from 0.27917 to 0.29167, saving model to bestCNNmodel.h5\n",
            "Epoch 11/100\n",
            "53/53 [==============================] - 15s 290ms/step - loss: 2.1535 - accuracy: 0.2905 - val_loss: 1.8587 - val_accuracy: 0.4143\n",
            "\n",
            "Epoch 00011: accuracy did not improve from 0.29167\n",
            "Epoch 12/100\n",
            "53/53 [==============================] - 15s 286ms/step - loss: 2.0937 - accuracy: 0.3310 - val_loss: 1.9375 - val_accuracy: 0.3810\n",
            "\n",
            "Epoch 00012: accuracy improved from 0.29167 to 0.33095, saving model to bestCNNmodel.h5\n",
            "Epoch 13/100\n",
            "53/53 [==============================] - 15s 287ms/step - loss: 2.0890 - accuracy: 0.3405 - val_loss: 1.7773 - val_accuracy: 0.4762\n",
            "\n",
            "Epoch 00013: accuracy improved from 0.33095 to 0.34048, saving model to bestCNNmodel.h5\n",
            "Epoch 14/100\n",
            "53/53 [==============================] - 15s 287ms/step - loss: 2.0473 - accuracy: 0.3512 - val_loss: 1.8185 - val_accuracy: 0.4476\n",
            "\n",
            "Epoch 00014: accuracy improved from 0.34048 to 0.35119, saving model to bestCNNmodel.h5\n",
            "Epoch 15/100\n",
            "53/53 [==============================] - 15s 287ms/step - loss: 2.0002 - accuracy: 0.3679 - val_loss: 1.8004 - val_accuracy: 0.4286\n",
            "\n",
            "Epoch 00015: accuracy improved from 0.35119 to 0.36786, saving model to bestCNNmodel.h5\n",
            "Epoch 16/100\n",
            "53/53 [==============================] - 15s 285ms/step - loss: 1.8963 - accuracy: 0.3857 - val_loss: 1.5613 - val_accuracy: 0.5429\n",
            "\n",
            "Epoch 00016: accuracy improved from 0.36786 to 0.38571, saving model to bestCNNmodel.h5\n",
            "Epoch 17/100\n",
            "53/53 [==============================] - 15s 284ms/step - loss: 1.8406 - accuracy: 0.4161 - val_loss: 1.5843 - val_accuracy: 0.5333\n",
            "\n",
            "Epoch 00017: accuracy improved from 0.38571 to 0.41607, saving model to bestCNNmodel.h5\n",
            "Epoch 18/100\n",
            "53/53 [==============================] - 15s 289ms/step - loss: 1.8089 - accuracy: 0.4065 - val_loss: 1.4708 - val_accuracy: 0.5714\n",
            "\n",
            "Epoch 00018: accuracy did not improve from 0.41607\n",
            "Epoch 19/100\n",
            "53/53 [==============================] - 15s 288ms/step - loss: 1.7788 - accuracy: 0.4244 - val_loss: 1.4224 - val_accuracy: 0.5619\n",
            "\n",
            "Epoch 00019: accuracy improved from 0.41607 to 0.42440, saving model to bestCNNmodel.h5\n",
            "Epoch 20/100\n",
            "53/53 [==============================] - 16s 294ms/step - loss: 1.7532 - accuracy: 0.4446 - val_loss: 1.5495 - val_accuracy: 0.5190\n",
            "\n",
            "Epoch 00020: accuracy improved from 0.42440 to 0.44464, saving model to bestCNNmodel.h5\n",
            "Epoch 21/100\n",
            "53/53 [==============================] - 15s 291ms/step - loss: 1.7016 - accuracy: 0.4500 - val_loss: 1.3958 - val_accuracy: 0.5238\n",
            "\n",
            "Epoch 00021: accuracy improved from 0.44464 to 0.45000, saving model to bestCNNmodel.h5\n",
            "Epoch 22/100\n",
            "53/53 [==============================] - 16s 297ms/step - loss: 1.7090 - accuracy: 0.4506 - val_loss: 1.3776 - val_accuracy: 0.5762\n",
            "\n",
            "Epoch 00022: accuracy improved from 0.45000 to 0.45060, saving model to bestCNNmodel.h5\n",
            "Epoch 23/100\n",
            "53/53 [==============================] - 16s 296ms/step - loss: 1.6306 - accuracy: 0.4756 - val_loss: 1.3290 - val_accuracy: 0.6190\n",
            "\n",
            "Epoch 00023: accuracy improved from 0.45060 to 0.47560, saving model to bestCNNmodel.h5\n",
            "Epoch 24/100\n",
            "53/53 [==============================] - 15s 288ms/step - loss: 1.6084 - accuracy: 0.4827 - val_loss: 1.2145 - val_accuracy: 0.6524\n",
            "\n",
            "Epoch 00024: accuracy improved from 0.47560 to 0.48274, saving model to bestCNNmodel.h5\n",
            "Epoch 25/100\n",
            "53/53 [==============================] - 15s 286ms/step - loss: 1.5929 - accuracy: 0.4774 - val_loss: 1.2522 - val_accuracy: 0.6190\n",
            "\n",
            "Epoch 00025: accuracy did not improve from 0.48274\n",
            "Epoch 26/100\n",
            "53/53 [==============================] - 16s 299ms/step - loss: 1.5538 - accuracy: 0.4988 - val_loss: 1.1142 - val_accuracy: 0.6476\n",
            "\n",
            "Epoch 00026: accuracy improved from 0.48274 to 0.49881, saving model to bestCNNmodel.h5\n",
            "Epoch 27/100\n",
            "53/53 [==============================] - 16s 301ms/step - loss: 1.5305 - accuracy: 0.4970 - val_loss: 1.2100 - val_accuracy: 0.6190\n",
            "\n",
            "Epoch 00027: accuracy did not improve from 0.49881\n",
            "Epoch 28/100\n",
            "53/53 [==============================] - 16s 298ms/step - loss: 1.5109 - accuracy: 0.5095 - val_loss: 1.2085 - val_accuracy: 0.6095\n",
            "\n",
            "Epoch 00028: accuracy improved from 0.49881 to 0.50952, saving model to bestCNNmodel.h5\n",
            "Epoch 29/100\n",
            "53/53 [==============================] - 16s 298ms/step - loss: 1.4924 - accuracy: 0.5089 - val_loss: 1.2619 - val_accuracy: 0.6048\n",
            "\n",
            "Epoch 00029: accuracy did not improve from 0.50952\n",
            "Epoch 30/100\n",
            "53/53 [==============================] - 16s 306ms/step - loss: 1.4591 - accuracy: 0.5196 - val_loss: 1.0369 - val_accuracy: 0.6905\n",
            "\n",
            "Epoch 00030: accuracy improved from 0.50952 to 0.51964, saving model to bestCNNmodel.h5\n",
            "Epoch 31/100\n",
            "53/53 [==============================] - 16s 295ms/step - loss: 1.4468 - accuracy: 0.5125 - val_loss: 1.0324 - val_accuracy: 0.6762\n",
            "\n",
            "Epoch 00031: accuracy did not improve from 0.51964\n",
            "Epoch 32/100\n",
            "53/53 [==============================] - 16s 302ms/step - loss: 1.3668 - accuracy: 0.5500 - val_loss: 0.9821 - val_accuracy: 0.7048\n",
            "\n",
            "Epoch 00032: accuracy improved from 0.51964 to 0.55000, saving model to bestCNNmodel.h5\n",
            "Epoch 33/100\n",
            "53/53 [==============================] - 16s 305ms/step - loss: 1.3459 - accuracy: 0.5440 - val_loss: 1.0014 - val_accuracy: 0.6714\n",
            "\n",
            "Epoch 00033: accuracy did not improve from 0.55000\n",
            "Epoch 34/100\n",
            "53/53 [==============================] - 16s 298ms/step - loss: 1.3775 - accuracy: 0.5512 - val_loss: 1.1143 - val_accuracy: 0.6429\n",
            "\n",
            "Epoch 00034: accuracy improved from 0.55000 to 0.55119, saving model to bestCNNmodel.h5\n",
            "Epoch 35/100\n",
            "53/53 [==============================] - 16s 299ms/step - loss: 1.3542 - accuracy: 0.5536 - val_loss: 1.0236 - val_accuracy: 0.6952\n",
            "\n",
            "Epoch 00035: accuracy improved from 0.55119 to 0.55357, saving model to bestCNNmodel.h5\n",
            "Epoch 36/100\n",
            "53/53 [==============================] - 16s 299ms/step - loss: 1.3963 - accuracy: 0.5464 - val_loss: 0.9498 - val_accuracy: 0.7048\n",
            "\n",
            "Epoch 00036: accuracy did not improve from 0.55357\n",
            "Epoch 37/100\n",
            "53/53 [==============================] - 16s 297ms/step - loss: 1.3290 - accuracy: 0.5595 - val_loss: 0.9549 - val_accuracy: 0.7286\n",
            "\n",
            "Epoch 00037: accuracy improved from 0.55357 to 0.55952, saving model to bestCNNmodel.h5\n",
            "Epoch 38/100\n",
            "53/53 [==============================] - 16s 295ms/step - loss: 1.3480 - accuracy: 0.5631 - val_loss: 1.0621 - val_accuracy: 0.6905\n",
            "\n",
            "Epoch 00038: accuracy improved from 0.55952 to 0.56310, saving model to bestCNNmodel.h5\n",
            "Epoch 39/100\n",
            "53/53 [==============================] - 16s 296ms/step - loss: 1.2255 - accuracy: 0.5875 - val_loss: 0.8910 - val_accuracy: 0.7333\n",
            "\n",
            "Epoch 00039: accuracy improved from 0.56310 to 0.58750, saving model to bestCNNmodel.h5\n",
            "Epoch 40/100\n",
            "53/53 [==============================] - 16s 298ms/step - loss: 1.2033 - accuracy: 0.6006 - val_loss: 0.9597 - val_accuracy: 0.6905\n",
            "\n",
            "Epoch 00040: accuracy improved from 0.58750 to 0.60060, saving model to bestCNNmodel.h5\n",
            "Epoch 41/100\n",
            "53/53 [==============================] - 16s 297ms/step - loss: 1.2140 - accuracy: 0.5988 - val_loss: 0.9568 - val_accuracy: 0.6714\n",
            "\n",
            "Epoch 00041: accuracy did not improve from 0.60060\n",
            "Epoch 42/100\n",
            "53/53 [==============================] - 16s 298ms/step - loss: 1.2474 - accuracy: 0.6012 - val_loss: 1.1476 - val_accuracy: 0.6238\n",
            "\n",
            "Epoch 00042: accuracy improved from 0.60060 to 0.60119, saving model to bestCNNmodel.h5\n",
            "Epoch 43/100\n",
            "53/53 [==============================] - 16s 297ms/step - loss: 1.2870 - accuracy: 0.5774 - val_loss: 0.9927 - val_accuracy: 0.6571\n",
            "\n",
            "Epoch 00043: accuracy did not improve from 0.60119\n",
            "Epoch 44/100\n",
            "53/53 [==============================] - 16s 298ms/step - loss: 1.2451 - accuracy: 0.5869 - val_loss: 0.8312 - val_accuracy: 0.7429\n",
            "\n",
            "Epoch 00044: accuracy did not improve from 0.60119\n",
            "Epoch 45/100\n",
            "53/53 [==============================] - 16s 301ms/step - loss: 1.2019 - accuracy: 0.6024 - val_loss: 0.8347 - val_accuracy: 0.7238\n",
            "\n",
            "Epoch 00045: accuracy improved from 0.60119 to 0.60238, saving model to bestCNNmodel.h5\n",
            "Epoch 46/100\n",
            "53/53 [==============================] - 16s 299ms/step - loss: 1.2138 - accuracy: 0.6054 - val_loss: 0.8261 - val_accuracy: 0.7238\n",
            "\n",
            "Epoch 00046: accuracy improved from 0.60238 to 0.60536, saving model to bestCNNmodel.h5\n",
            "Epoch 47/100\n",
            "53/53 [==============================] - 16s 299ms/step - loss: 1.2050 - accuracy: 0.5994 - val_loss: 0.9423 - val_accuracy: 0.6714\n",
            "\n",
            "Epoch 00047: accuracy did not improve from 0.60536\n",
            "Epoch 48/100\n",
            "53/53 [==============================] - 16s 298ms/step - loss: 1.1637 - accuracy: 0.5976 - val_loss: 0.8405 - val_accuracy: 0.7190\n",
            "\n",
            "Epoch 00048: accuracy did not improve from 0.60536\n",
            "Epoch 49/100\n",
            "53/53 [==============================] - 16s 297ms/step - loss: 1.1358 - accuracy: 0.6202 - val_loss: 0.8185 - val_accuracy: 0.7286\n",
            "\n",
            "Epoch 00049: accuracy improved from 0.60536 to 0.62024, saving model to bestCNNmodel.h5\n",
            "Epoch 50/100\n",
            "53/53 [==============================] - 16s 298ms/step - loss: 1.1445 - accuracy: 0.6202 - val_loss: 0.8014 - val_accuracy: 0.7143\n",
            "\n",
            "Epoch 00050: accuracy did not improve from 0.62024\n",
            "Epoch 51/100\n",
            "53/53 [==============================] - 16s 297ms/step - loss: 1.1729 - accuracy: 0.6071 - val_loss: 0.8046 - val_accuracy: 0.7238\n",
            "\n",
            "Epoch 00051: accuracy did not improve from 0.62024\n",
            "Epoch 52/100\n",
            "53/53 [==============================] - 16s 300ms/step - loss: 1.1412 - accuracy: 0.6286 - val_loss: 0.8271 - val_accuracy: 0.7810\n",
            "\n",
            "Epoch 00052: accuracy improved from 0.62024 to 0.62857, saving model to bestCNNmodel.h5\n",
            "Epoch 53/100\n",
            "53/53 [==============================] - 16s 302ms/step - loss: 1.1406 - accuracy: 0.6113 - val_loss: 0.7379 - val_accuracy: 0.7238\n",
            "\n",
            "Epoch 00053: accuracy did not improve from 0.62857\n",
            "Epoch 54/100\n",
            "53/53 [==============================] - 16s 300ms/step - loss: 1.0924 - accuracy: 0.6357 - val_loss: 0.7160 - val_accuracy: 0.7476\n",
            "\n",
            "Epoch 00054: accuracy improved from 0.62857 to 0.63571, saving model to bestCNNmodel.h5\n",
            "Epoch 55/100\n",
            "53/53 [==============================] - 16s 301ms/step - loss: 1.1148 - accuracy: 0.6399 - val_loss: 0.9059 - val_accuracy: 0.7000\n",
            "\n",
            "Epoch 00055: accuracy improved from 0.63571 to 0.63988, saving model to bestCNNmodel.h5\n",
            "Epoch 56/100\n",
            "53/53 [==============================] - 16s 297ms/step - loss: 1.0685 - accuracy: 0.6405 - val_loss: 0.7363 - val_accuracy: 0.7619\n",
            "\n",
            "Epoch 00056: accuracy improved from 0.63988 to 0.64048, saving model to bestCNNmodel.h5\n",
            "Epoch 57/100\n",
            "53/53 [==============================] - 16s 302ms/step - loss: 1.1119 - accuracy: 0.6149 - val_loss: 0.8127 - val_accuracy: 0.7381\n",
            "\n",
            "Epoch 00057: accuracy did not improve from 0.64048\n",
            "Epoch 58/100\n",
            "53/53 [==============================] - 16s 295ms/step - loss: 1.0692 - accuracy: 0.6333 - val_loss: 0.7351 - val_accuracy: 0.7429\n",
            "\n",
            "Epoch 00058: accuracy did not improve from 0.64048\n",
            "Epoch 59/100\n",
            "53/53 [==============================] - 16s 295ms/step - loss: 1.0962 - accuracy: 0.6446 - val_loss: 0.6801 - val_accuracy: 0.7857\n",
            "\n",
            "Epoch 00059: accuracy improved from 0.64048 to 0.64464, saving model to bestCNNmodel.h5\n",
            "Epoch 60/100\n",
            "53/53 [==============================] - 16s 294ms/step - loss: 1.0694 - accuracy: 0.6351 - val_loss: 0.7085 - val_accuracy: 0.7810\n",
            "\n",
            "Epoch 00060: accuracy did not improve from 0.64464\n",
            "Epoch 61/100\n",
            "53/53 [==============================] - 16s 295ms/step - loss: 1.0825 - accuracy: 0.6500 - val_loss: 1.0056 - val_accuracy: 0.6905\n",
            "\n",
            "Epoch 00061: accuracy improved from 0.64464 to 0.65000, saving model to bestCNNmodel.h5\n",
            "Epoch 62/100\n",
            "53/53 [==============================] - 16s 296ms/step - loss: 1.0491 - accuracy: 0.6530 - val_loss: 0.7728 - val_accuracy: 0.7524\n",
            "\n",
            "Epoch 00062: accuracy improved from 0.65000 to 0.65298, saving model to bestCNNmodel.h5\n",
            "Epoch 63/100\n",
            "53/53 [==============================] - 16s 297ms/step - loss: 1.1467 - accuracy: 0.6256 - val_loss: 0.7150 - val_accuracy: 0.7619\n",
            "\n",
            "Epoch 00063: accuracy did not improve from 0.65298\n",
            "Epoch 64/100\n",
            "53/53 [==============================] - 16s 297ms/step - loss: 1.0679 - accuracy: 0.6595 - val_loss: 0.7149 - val_accuracy: 0.7905\n",
            "\n",
            "Epoch 00064: accuracy improved from 0.65298 to 0.65952, saving model to bestCNNmodel.h5\n",
            "Epoch 65/100\n",
            "53/53 [==============================] - 16s 302ms/step - loss: 0.9890 - accuracy: 0.6702 - val_loss: 0.6705 - val_accuracy: 0.7810\n",
            "\n",
            "Epoch 00065: accuracy improved from 0.65952 to 0.67024, saving model to bestCNNmodel.h5\n",
            "Epoch 66/100\n",
            "53/53 [==============================] - 16s 294ms/step - loss: 1.0356 - accuracy: 0.6440 - val_loss: 0.7344 - val_accuracy: 0.7619\n",
            "\n",
            "Epoch 00066: accuracy did not improve from 0.67024\n",
            "Epoch 67/100\n",
            "53/53 [==============================] - 15s 289ms/step - loss: 1.0336 - accuracy: 0.6482 - val_loss: 0.6959 - val_accuracy: 0.7714\n",
            "\n",
            "Epoch 00067: accuracy did not improve from 0.67024\n",
            "Epoch 68/100\n",
            "53/53 [==============================] - 15s 288ms/step - loss: 0.9675 - accuracy: 0.6738 - val_loss: 0.8147 - val_accuracy: 0.7286\n",
            "\n",
            "Epoch 00068: accuracy improved from 0.67024 to 0.67381, saving model to bestCNNmodel.h5\n",
            "Epoch 69/100\n",
            "53/53 [==============================] - 16s 299ms/step - loss: 1.0126 - accuracy: 0.6679 - val_loss: 0.7210 - val_accuracy: 0.7810\n",
            "\n",
            "Epoch 00069: accuracy did not improve from 0.67381\n",
            "Epoch 70/100\n",
            "53/53 [==============================] - 16s 303ms/step - loss: 1.0325 - accuracy: 0.6524 - val_loss: 0.7203 - val_accuracy: 0.7667\n",
            "\n",
            "Epoch 00070: accuracy did not improve from 0.67381\n",
            "Epoch 71/100\n",
            "53/53 [==============================] - 16s 306ms/step - loss: 0.9956 - accuracy: 0.6589 - val_loss: 0.7165 - val_accuracy: 0.7714\n",
            "\n",
            "Epoch 00071: accuracy did not improve from 0.67381\n",
            "Epoch 72/100\n",
            "53/53 [==============================] - 16s 306ms/step - loss: 1.0190 - accuracy: 0.6637 - val_loss: 0.7198 - val_accuracy: 0.7524\n",
            "\n",
            "Epoch 00072: accuracy did not improve from 0.67381\n",
            "Epoch 73/100\n",
            "53/53 [==============================] - 16s 309ms/step - loss: 0.9413 - accuracy: 0.6881 - val_loss: 0.6545 - val_accuracy: 0.7905\n",
            "\n",
            "Epoch 00073: accuracy improved from 0.67381 to 0.68810, saving model to bestCNNmodel.h5\n",
            "Epoch 74/100\n",
            "53/53 [==============================] - 16s 293ms/step - loss: 0.9505 - accuracy: 0.6661 - val_loss: 0.8684 - val_accuracy: 0.7143\n",
            "\n",
            "Epoch 00074: accuracy did not improve from 0.68810\n",
            "Epoch 75/100\n",
            "53/53 [==============================] - 15s 290ms/step - loss: 1.0256 - accuracy: 0.6571 - val_loss: 0.6612 - val_accuracy: 0.7905\n",
            "\n",
            "Epoch 00075: accuracy did not improve from 0.68810\n",
            "Epoch 76/100\n",
            "53/53 [==============================] - 15s 291ms/step - loss: 0.9269 - accuracy: 0.6768 - val_loss: 0.7576 - val_accuracy: 0.7476\n",
            "\n",
            "Epoch 00076: accuracy did not improve from 0.68810\n",
            "Epoch 77/100\n",
            "53/53 [==============================] - 16s 296ms/step - loss: 0.9924 - accuracy: 0.6661 - val_loss: 0.6089 - val_accuracy: 0.8286\n",
            "\n",
            "Epoch 00077: accuracy did not improve from 0.68810\n",
            "Epoch 78/100\n",
            "53/53 [==============================] - 15s 291ms/step - loss: 1.0346 - accuracy: 0.6589 - val_loss: 0.6373 - val_accuracy: 0.8000\n",
            "\n",
            "Epoch 00078: accuracy did not improve from 0.68810\n",
            "Epoch 79/100\n",
            "53/53 [==============================] - 15s 291ms/step - loss: 0.9811 - accuracy: 0.6720 - val_loss: 0.6180 - val_accuracy: 0.8000\n",
            "\n",
            "Epoch 00079: accuracy did not improve from 0.68810\n",
            "Epoch 80/100\n",
            "53/53 [==============================] - 15s 291ms/step - loss: 0.9609 - accuracy: 0.6708 - val_loss: 0.6738 - val_accuracy: 0.7667\n",
            "\n",
            "Epoch 00080: accuracy did not improve from 0.68810\n",
            "Epoch 81/100\n",
            "53/53 [==============================] - 15s 287ms/step - loss: 0.9897 - accuracy: 0.6810 - val_loss: 0.6085 - val_accuracy: 0.7952\n",
            "\n",
            "Epoch 00081: accuracy did not improve from 0.68810\n",
            "Epoch 82/100\n",
            "53/53 [==============================] - 15s 292ms/step - loss: 0.9679 - accuracy: 0.6768 - val_loss: 0.5762 - val_accuracy: 0.8143\n",
            "\n",
            "Epoch 00082: accuracy did not improve from 0.68810\n",
            "Epoch 83/100\n",
            "53/53 [==============================] - 16s 293ms/step - loss: 0.9048 - accuracy: 0.7006 - val_loss: 0.6596 - val_accuracy: 0.7762\n",
            "\n",
            "Epoch 00083: accuracy improved from 0.68810 to 0.70060, saving model to bestCNNmodel.h5\n",
            "Epoch 84/100\n",
            "53/53 [==============================] - 15s 291ms/step - loss: 0.9290 - accuracy: 0.6923 - val_loss: 0.6063 - val_accuracy: 0.8048\n",
            "\n",
            "Epoch 00084: accuracy did not improve from 0.70060\n",
            "Epoch 85/100\n",
            "53/53 [==============================] - 15s 290ms/step - loss: 0.9143 - accuracy: 0.6940 - val_loss: 0.6514 - val_accuracy: 0.8190\n",
            "\n",
            "Epoch 00085: accuracy did not improve from 0.70060\n",
            "Epoch 86/100\n",
            "53/53 [==============================] - 16s 293ms/step - loss: 0.9867 - accuracy: 0.6810 - val_loss: 0.6738 - val_accuracy: 0.7762\n",
            "\n",
            "Epoch 00086: accuracy did not improve from 0.70060\n",
            "Epoch 87/100\n",
            "53/53 [==============================] - 15s 289ms/step - loss: 0.9708 - accuracy: 0.6786 - val_loss: 0.7888 - val_accuracy: 0.7381\n",
            "\n",
            "Epoch 00087: accuracy did not improve from 0.70060\n",
            "Epoch 88/100\n",
            "53/53 [==============================] - 15s 290ms/step - loss: 1.0291 - accuracy: 0.6518 - val_loss: 0.6589 - val_accuracy: 0.7714\n",
            "\n",
            "Epoch 00088: accuracy did not improve from 0.70060\n",
            "Epoch 89/100\n",
            "53/53 [==============================] - 15s 288ms/step - loss: 0.9278 - accuracy: 0.6839 - val_loss: 0.5924 - val_accuracy: 0.7857\n",
            "\n",
            "Epoch 00089: accuracy did not improve from 0.70060\n",
            "Epoch 90/100\n",
            "53/53 [==============================] - 15s 289ms/step - loss: 0.8840 - accuracy: 0.7030 - val_loss: 0.5729 - val_accuracy: 0.8095\n",
            "\n",
            "Epoch 00090: accuracy improved from 0.70060 to 0.70298, saving model to bestCNNmodel.h5\n",
            "Epoch 91/100\n",
            "53/53 [==============================] - 15s 289ms/step - loss: 0.9608 - accuracy: 0.6869 - val_loss: 0.6534 - val_accuracy: 0.7905\n",
            "\n",
            "Epoch 00091: accuracy did not improve from 0.70298\n",
            "Epoch 92/100\n",
            "53/53 [==============================] - 15s 291ms/step - loss: 0.9754 - accuracy: 0.6667 - val_loss: 0.6201 - val_accuracy: 0.8048\n",
            "\n",
            "Epoch 00092: accuracy did not improve from 0.70298\n",
            "Epoch 93/100\n",
            "53/53 [==============================] - 16s 292ms/step - loss: 0.9189 - accuracy: 0.6750 - val_loss: 0.6407 - val_accuracy: 0.7667\n",
            "\n",
            "Epoch 00093: accuracy did not improve from 0.70298\n",
            "Epoch 94/100\n",
            "53/53 [==============================] - 15s 291ms/step - loss: 0.8704 - accuracy: 0.6923 - val_loss: 0.6445 - val_accuracy: 0.7571\n",
            "\n",
            "Epoch 00094: accuracy did not improve from 0.70298\n",
            "Epoch 95/100\n",
            "53/53 [==============================] - 15s 291ms/step - loss: 0.9762 - accuracy: 0.6714 - val_loss: 0.6529 - val_accuracy: 0.8095\n",
            "\n",
            "Epoch 00095: accuracy did not improve from 0.70298\n",
            "Epoch 96/100\n",
            "53/53 [==============================] - 15s 292ms/step - loss: 0.9259 - accuracy: 0.6952 - val_loss: 0.5134 - val_accuracy: 0.8476\n",
            "\n",
            "Epoch 00096: accuracy did not improve from 0.70298\n",
            "Epoch 97/100\n",
            "53/53 [==============================] - 15s 290ms/step - loss: 0.9445 - accuracy: 0.6810 - val_loss: 0.6616 - val_accuracy: 0.7762\n",
            "\n",
            "Epoch 00097: accuracy did not improve from 0.70298\n",
            "Epoch 98/100\n",
            "53/53 [==============================] - 16s 295ms/step - loss: 0.9464 - accuracy: 0.6893 - val_loss: 0.5546 - val_accuracy: 0.8381\n",
            "\n",
            "Epoch 00098: accuracy did not improve from 0.70298\n",
            "Epoch 99/100\n",
            "53/53 [==============================] - 16s 296ms/step - loss: 0.9257 - accuracy: 0.6911 - val_loss: 0.5884 - val_accuracy: 0.8000\n",
            "\n",
            "Epoch 00099: accuracy did not improve from 0.70298\n",
            "Epoch 100/100\n",
            "53/53 [==============================] - 16s 292ms/step - loss: 0.8521 - accuracy: 0.6988 - val_loss: 0.6063 - val_accuracy: 0.8000\n",
            "\n",
            "Epoch 00100: accuracy did not improve from 0.70298\n"
          ]
        }
      ]
    },
    {
      "cell_type": "markdown",
      "metadata": {
        "id": "3hqA-bYxPv1E"
      },
      "source": [
        "###7.2 Plot Model Accuracy and Loss"
      ]
    },
    {
      "cell_type": "markdown",
      "metadata": {
        "id": "8psqFIi8fFB4"
      },
      "source": [
        "Check the plot of accuracy and loss from the model during training"
      ]
    },
    {
      "cell_type": "code",
      "metadata": {
        "colab": {
          "base_uri": "https://localhost:8080/",
          "height": 545
        },
        "id": "X_SOZ0E9DG6Y",
        "outputId": "1506f9d8-98aa-4d02-b3e9-b0e5de760b80"
      },
      "source": [
        "acc = history.history['accuracy']\n",
        "val_acc = history.history['val_accuracy']\n",
        "loss = history.history['loss']\n",
        "val_loss = history.history['val_loss']\n",
        "plt.plot(acc, label='Training acc')\n",
        "plt.plot(val_acc, label='Validation acc')\n",
        "plt.title('Training and validation accuracy')\n",
        "plt.legend()\n",
        "plt.figure()\n",
        "plt.plot(loss, label='Training loss')\n",
        "plt.plot(val_loss, label='Validation loss')\n",
        "plt.title('Training and validation loss')\n",
        "plt.legend()\n",
        "plt.show()"
      ],
      "execution_count": 14,
      "outputs": [
        {
          "output_type": "display_data",
          "data": {
            "image/png": "[encoded data removed]",
            "text/plain": [
              "<Figure size 432x288 with 1 Axes>"
            ]
          },
          "metadata": {
            "needs_background": "light"
          }
        },
        {
          "output_type": "display_data",
          "data": {
            "image/png": "[encoded data removed]",
            "text/plain": [
              "<Figure size 432x288 with 1 Axes>"
            ]
          },
          "metadata": {
            "needs_background": "light"
          }
        }
      ]
    },
    {
      "cell_type": "markdown",
      "metadata": {
        "id": "o6rpzXU0fLQY"
      },
      "source": [
        "The model accuracy not perform good enough but its going in the right direction (no-overfitting)"
      ]
    },
    {
      "cell_type": "markdown",
      "metadata": {
        "id": "63_e7JXhP-xr"
      },
      "source": [
        "###7.3 Evaluate Model Performance"
      ]
    },
    {
      "cell_type": "markdown",
      "metadata": {
        "id": "pDTtCRBYfWgk"
      },
      "source": [
        "Evaluate the model with test dataset that the model never seen before."
      ]
    },
    {
      "cell_type": "code",
      "metadata": {
        "colab": {
          "base_uri": "https://localhost:8080/"
        },
        "id": "p7jDFtXJRiRL",
        "outputId": "e63f530f-561a-4a85-ff21-633301affb92"
      },
      "source": [
        "model = tf.keras.models.load_model(\"bestCNNmodel.h5\")\n",
        "akurasi = model.evaluate(test_generator)"
      ],
      "execution_count": 21,
      "outputs": [
        {
          "output_type": "stream",
          "name": "stdout",
          "text": [
            "210/210 [==============================] - 2s 7ms/step - loss: 0.5951 - accuracy: 0.8095\n"
          ]
        }
      ]
    },
    {
      "cell_type": "code",
      "metadata": {
        "id": "REkuwrcwPXgS"
      },
      "source": [
        "model.save(f\"/content/drive/Shareddrives/Data/Model Land Use/model_CNN Acc:{akurasi[1]}.h5\")"
      ],
      "execution_count": 22,
      "outputs": []
    },
    {
      "cell_type": "code",
      "metadata": {
        "colab": {
          "base_uri": "https://localhost:8080/"
        },
        "id": "lXSo5D6XRBFY",
        "outputId": "2f5ec7e7-61e6-41b2-86e2-0c500c32a494"
      },
      "source": [
        "y_pred = model.predict(X_test)\n",
        "y_pred_class = [np.argmax(y) for y in y_pred]\n",
        "print(classification_report(y_test_class, y_pred_class))"
      ],
      "execution_count": 23,
      "outputs": [
        {
          "output_type": "stream",
          "name": "stdout",
          "text": [
            "              precision    recall  f1-score   support\n",
            "\n",
            "           0       0.90      0.90      0.90        10\n",
            "           1       1.00      0.80      0.89        10\n",
            "           2       1.00      1.00      1.00        10\n",
            "           3       1.00      1.00      1.00        10\n",
            "           4       0.57      0.80      0.67        10\n",
            "           5       0.91      1.00      0.95        10\n",
            "           6       0.62      0.50      0.56        10\n",
            "           7       1.00      0.90      0.95        10\n",
            "           8       0.73      0.80      0.76        10\n",
            "           9       0.69      0.90      0.78        10\n",
            "          10       1.00      1.00      1.00        10\n",
            "          11       0.88      0.70      0.78        10\n",
            "          12       0.55      0.60      0.57        10\n",
            "          13       0.73      0.80      0.76        10\n",
            "          14       0.75      0.90      0.82        10\n",
            "          15       1.00      1.00      1.00        10\n",
            "          16       0.89      0.80      0.84        10\n",
            "          17       0.88      0.70      0.78        10\n",
            "          18       0.83      1.00      0.91        10\n",
            "          19       0.55      0.60      0.57        10\n",
            "          20       0.75      0.30      0.43        10\n",
            "\n",
            "    accuracy                           0.81       210\n",
            "   macro avg       0.82      0.81      0.81       210\n",
            "weighted avg       0.82      0.81      0.81       210\n",
            "\n"
          ]
        }
      ]
    },
    {
      "cell_type": "markdown",
      "metadata": {
        "id": "rdRArHAgQFiK"
      },
      "source": [
        "###7.4 Plot Confusion Matrix"
      ]
    },
    {
      "cell_type": "markdown",
      "metadata": {
        "id": "MwiBjL2nfk4_"
      },
      "source": [
        "Plot the confusion matrix to see where the model successfully predicts and fails to predict"
      ]
    },
    {
      "cell_type": "code",
      "metadata": {
        "id": "Y49LwRMuQHlF"
      },
      "source": [
        "from sklearn.metrics import confusion_matrix\n",
        "import itertools\n",
        "\n",
        "def plot_confusion_matrix(cm, classes, title='Confusion Matrix', cmap=plt.cm.Blues):\n",
        "    \n",
        "    cm = cm.astype('float')/cm.sum(axis=1)[:,np.newaxis]\n",
        "    plt.figure(figsize=(20,20))\n",
        "    plt.imshow(cm, interpolation='nearest', cmap=cmap)\n",
        "    plt.title(title)\n",
        "    plt.colorbar()\n",
        "    \n",
        "    tick_marks = np.arange(len(classes))\n",
        "    plt.xticks(tick_marks, classes,rotation=90)\n",
        "    plt.yticks(tick_marks, classes)\n",
        "    \n",
        "    fmt = '.2f'\n",
        "    thresh = cm.max()/2.0\n",
        "    \n",
        "    for i,j in itertools.product(range(cm.shape[0]), range(cm.shape[1])):\n",
        "        \n",
        "        plt.text(j,i, format(cm[i,j], fmt),\n",
        "                horizontalalignment = \"center\",\n",
        "                color = \"white\" if cm[i,j] > thresh else \"black\")\n",
        "        pass\n",
        "    \n",
        "    plt.ylabel(\"True Label\")\n",
        "    plt.xlabel(\"Predicted Label\")\n",
        "    plt.grid(None);\n",
        "    pass"
      ],
      "execution_count": 24,
      "outputs": []
    },
    {
      "cell_type": "code",
      "metadata": {
        "colab": {
          "base_uri": "https://localhost:8080/",
          "height": 1000
        },
        "id": "xhBHpoTgQVTQ",
        "outputId": "e8ec1820-5ab0-45e1-bbcc-10d5027d984f"
      },
      "source": [
        "y_pred = model.predict(X_test)\n",
        "y_pred_class = [np.argmax(y) for y in y_pred]\n",
        "cnf_mat = confusion_matrix(y_test_class, y_pred_class)\n",
        "np.set_printoptions(precision=2)\n",
        "\n",
        "plt.figure()\n",
        "plot_confusion_matrix(cnf_mat, classes=labels)\n",
        "plt.grid(None)\n",
        "plt.show();"
      ],
      "execution_count": 25,
      "outputs": [
        {
          "output_type": "display_data",
          "data": {
            "text/plain": [
              "<Figure size 432x288 with 0 Axes>"
            ]
          },
          "metadata": {}
        },
        {
          "output_type": "display_data",
          "data": {
            "image/png": "[encoded data removed]",
            "text/plain": [
              "<Figure size 1440x1440 with 2 Axes>"
            ]
          },
          "metadata": {
            "needs_background": "light"
          }
        }
      ]
    },
    {
      "cell_type": "markdown",
      "metadata": {
        "id": "qUXtNcq5fyVT"
      },
      "source": [
        "The model performance not good enough it has 81% accuracy and fail to predict in some class. For example in tenniscourt class the model only correctly predict 3 out of 10 image."
      ]
    },
    {
      "cell_type": "markdown",
      "metadata": {
        "id": "UQjhRmt_3ktw"
      },
      "source": [
        "##8. Transfer Learning with VGG16"
      ]
    },
    {
      "cell_type": "markdown",
      "metadata": {
        "id": "1P4aKJvbgKOv"
      },
      "source": [
        "Try to increase model performance using transfer learning with VGG16 as pretrained model"
      ]
    },
    {
      "cell_type": "markdown",
      "metadata": {
        "id": "r0H8MWROQc1b"
      },
      "source": [
        "###8.1 Load PreTrained Model"
      ]
    },
    {
      "cell_type": "code",
      "metadata": {
        "colab": {
          "base_uri": "https://localhost:8080/"
        },
        "id": "J6No8tgWPlb6",
        "outputId": "7bdfbb82-eff9-4cf0-c021-0a1c52da783e"
      },
      "source": [
        "conv_base = tf.keras.applications.VGG16(weights='imagenet',include_top=False, input_shape=(150, 150, 3))\n",
        "conv_base.trainable = False\n",
        "conv_base.summary()"
      ],
      "execution_count": 26,
      "outputs": [
        {
          "output_type": "stream",
          "name": "stdout",
          "text": [
            "Downloading data from https://storage.googleapis.com/tensorflow/keras-applications/vgg16/vgg16_weights_tf_dim_ordering_tf_kernels_notop.h5\n",
            "58892288/58889256 [==============================] - 1s 0us/step\n",
            "58900480/58889256 [==============================] - 1s 0us/step\n",
            "Model: \"vgg16\"\n",
            "_________________________________________________________________\n",
            "Layer (type)                 Output Shape              Param #   \n",
            "=================================================================\n",
            "input_1 (InputLayer)         [(None, 150, 150, 3)]     0         \n",
            "_________________________________________________________________\n",
            "block1_conv1 (Conv2D)        (None, 150, 150, 64)      1792      \n",
            "_________________________________________________________________\n",
            "block1_conv2 (Conv2D)        (None, 150, 150, 64)      36928     \n",
            "_________________________________________________________________\n",
            "block1_pool (MaxPooling2D)   (None, 75, 75, 64)        0         \n",
            "_________________________________________________________________\n",
            "block2_conv1 (Conv2D)        (None, 75, 75, 128)       73856     \n",
            "_________________________________________________________________\n",
            "block2_conv2 (Conv2D)        (None, 75, 75, 128)       147584    \n",
            "_________________________________________________________________\n",
            "block2_pool (MaxPooling2D)   (None, 37, 37, 128)       0         \n",
            "_________________________________________________________________\n",
            "block3_conv1 (Conv2D)        (None, 37, 37, 256)       295168    \n",
            "_________________________________________________________________\n",
            "block3_conv2 (Conv2D)        (None, 37, 37, 256)       590080    \n",
            "_________________________________________________________________\n",
            "block3_conv3 (Conv2D)        (None, 37, 37, 256)       590080    \n",
            "_________________________________________________________________\n",
            "block3_pool (MaxPooling2D)   (None, 18, 18, 256)       0         \n",
            "_________________________________________________________________\n",
            "block4_conv1 (Conv2D)        (None, 18, 18, 512)       1180160   \n",
            "_________________________________________________________________\n",
            "block4_conv2 (Conv2D)        (None, 18, 18, 512)       2359808   \n",
            "_________________________________________________________________\n",
            "block4_conv3 (Conv2D)        (None, 18, 18, 512)       2359808   \n",
            "_________________________________________________________________\n",
            "block4_pool (MaxPooling2D)   (None, 9, 9, 512)         0         \n",
            "_________________________________________________________________\n",
            "block5_conv1 (Conv2D)        (None, 9, 9, 512)         2359808   \n",
            "_________________________________________________________________\n",
            "block5_conv2 (Conv2D)        (None, 9, 9, 512)         2359808   \n",
            "_________________________________________________________________\n",
            "block5_conv3 (Conv2D)        (None, 9, 9, 512)         2359808   \n",
            "_________________________________________________________________\n",
            "block5_pool (MaxPooling2D)   (None, 4, 4, 512)         0         \n",
            "=================================================================\n",
            "Total params: 14,714,688\n",
            "Trainable params: 0\n",
            "Non-trainable params: 14,714,688\n",
            "_________________________________________________________________\n"
          ]
        }
      ]
    },
    {
      "cell_type": "markdown",
      "metadata": {
        "id": "AX2jzsGsQrEW"
      },
      "source": [
        "###8.2 Build Model with Pretrained Model as Feature Extractor"
      ]
    },
    {
      "cell_type": "markdown",
      "metadata": {
        "id": "bAUY2EXhgTgW"
      },
      "source": [
        "Build model with pretrained model on top of the model (as feature extractor) and add some fully connected layer to adjust to the data we want to predict"
      ]
    },
    {
      "cell_type": "code",
      "metadata": {
        "colab": {
          "base_uri": "https://localhost:8080/"
        },
        "id": "2YFNxRYUsrJp",
        "outputId": "a990fef6-88b6-43c4-e1a1-12e08f39ceb7"
      },
      "source": [
        "for layer in conv_base.layers:\n",
        "    layer.trainable = False\n",
        "\n",
        "top_model = conv_base.output\n",
        "top_model = tf.keras.layers.Flatten(name=\"flatten\")(top_model)\n",
        "top_model = tf.keras.layers.Dense(4096, activation='relu')(top_model)\n",
        "top_model = tf.keras.layers.Dense(1072, activation='relu')(top_model)\n",
        "top_model = tf.keras.layers.Dropout(0.5)(top_model)\n",
        "output_layer = tf.keras.layers.Dense(21, activation='softmax')(top_model)\n",
        "    \n",
        "# Group the convolutional base and new fully-connected layers into a Model object.\n",
        "model = Model(inputs=conv_base.input, outputs=output_layer)\n",
        "\n",
        "# Compiles the model for training.\n",
        "model.compile(optimizer=Adam(learning_rate=2e-5), \n",
        "              loss='categorical_crossentropy',\n",
        "              metrics=['accuracy'])\n",
        "\n",
        "model.summary()\n",
        "history = model.fit(\n",
        "    train_generator,\n",
        "    epochs=100,\n",
        "    batch_size=32,\n",
        "    validation_data=validation_generator,\n",
        "    callbacks=[\n",
        "            ModelCheckpoint(\n",
        "                filepath='bestVGGmodel.h5',\n",
        "                monitor='accuracy',\n",
        "                mode='max',\n",
        "                save_best_only=True,\n",
        "                save_weights_only=False,\n",
        "                verbose=1\n",
        "            )\n",
        "        ])\n"
      ],
      "execution_count": 28,
      "outputs": [
        {
          "output_type": "stream",
          "name": "stdout",
          "text": [
            "Model: \"model_1\"\n",
            "_________________________________________________________________\n",
            "Layer (type)                 Output Shape              Param #   \n",
            "=================================================================\n",
            "input_1 (InputLayer)         [(None, 150, 150, 3)]     0         \n",
            "_________________________________________________________________\n",
            "block1_conv1 (Conv2D)        (None, 150, 150, 64)      1792      \n",
            "_________________________________________________________________\n",
            "block1_conv2 (Conv2D)        (None, 150, 150, 64)      36928     \n",
            "_________________________________________________________________\n",
            "block1_pool (MaxPooling2D)   (None, 75, 75, 64)        0         \n",
            "_________________________________________________________________\n",
            "block2_conv1 (Conv2D)        (None, 75, 75, 128)       73856     \n",
            "_________________________________________________________________\n",
            "block2_conv2 (Conv2D)        (None, 75, 75, 128)       147584    \n",
            "_________________________________________________________________\n",
            "block2_pool (MaxPooling2D)   (None, 37, 37, 128)       0         \n",
            "_________________________________________________________________\n",
            "block3_conv1 (Conv2D)        (None, 37, 37, 256)       295168    \n",
            "_________________________________________________________________\n",
            "block3_conv2 (Conv2D)        (None, 37, 37, 256)       590080    \n",
            "_________________________________________________________________\n",
            "block3_conv3 (Conv2D)        (None, 37, 37, 256)       590080    \n",
            "_________________________________________________________________\n",
            "block3_pool (MaxPooling2D)   (None, 18, 18, 256)       0         \n",
            "_________________________________________________________________\n",
            "block4_conv1 (Conv2D)        (None, 18, 18, 512)       1180160   \n",
            "_________________________________________________________________\n",
            "block4_conv2 (Conv2D)        (None, 18, 18, 512)       2359808   \n",
            "_________________________________________________________________\n",
            "block4_conv3 (Conv2D)        (None, 18, 18, 512)       2359808   \n",
            "_________________________________________________________________\n",
            "block4_pool (MaxPooling2D)   (None, 9, 9, 512)         0         \n",
            "_________________________________________________________________\n",
            "block5_conv1 (Conv2D)        (None, 9, 9, 512)         2359808   \n",
            "_________________________________________________________________\n",
            "block5_conv2 (Conv2D)        (None, 9, 9, 512)         2359808   \n",
            "_________________________________________________________________\n",
            "block5_conv3 (Conv2D)        (None, 9, 9, 512)         2359808   \n",
            "_________________________________________________________________\n",
            "block5_pool (MaxPooling2D)   (None, 4, 4, 512)         0         \n",
            "_________________________________________________________________\n",
            "flatten (Flatten)            (None, 8192)              0         \n",
            "_________________________________________________________________\n",
            "dense_7 (Dense)              (None, 4096)              33558528  \n",
            "_________________________________________________________________\n",
            "dense_8 (Dense)              (None, 1072)              4391984   \n",
            "_________________________________________________________________\n",
            "dropout_5 (Dropout)          (None, 1072)              0         \n",
            "_________________________________________________________________\n",
            "dense_9 (Dense)              (None, 21)                22533     \n",
            "=================================================================\n",
            "Total params: 52,687,733\n",
            "Trainable params: 37,973,045\n",
            "Non-trainable params: 14,714,688\n",
            "_________________________________________________________________\n",
            "Epoch 1/100\n",
            "53/53 [==============================] - 24s 441ms/step - loss: 2.6810 - accuracy: 0.2232 - val_loss: 1.9689 - val_accuracy: 0.6476\n",
            "\n",
            "Epoch 00001: accuracy improved from -inf to 0.22321, saving model to bestVGGmodel.h5\n",
            "Epoch 2/100\n",
            "53/53 [==============================] - 17s 327ms/step - loss: 1.7736 - accuracy: 0.5196 - val_loss: 1.3075 - val_accuracy: 0.7381\n",
            "\n",
            "Epoch 00002: accuracy improved from 0.22321 to 0.51964, saving model to bestVGGmodel.h5\n",
            "Epoch 3/100\n",
            "53/53 [==============================] - 17s 322ms/step - loss: 1.3416 - accuracy: 0.6321 - val_loss: 0.9686 - val_accuracy: 0.8095\n",
            "\n",
            "Epoch 00003: accuracy improved from 0.51964 to 0.63214, saving model to bestVGGmodel.h5\n",
            "Epoch 4/100\n",
            "53/53 [==============================] - 17s 324ms/step - loss: 1.0918 - accuracy: 0.6958 - val_loss: 0.7845 - val_accuracy: 0.8048\n",
            "\n",
            "Epoch 00004: accuracy improved from 0.63214 to 0.69583, saving model to bestVGGmodel.h5\n",
            "Epoch 5/100\n",
            "53/53 [==============================] - 18s 329ms/step - loss: 0.9374 - accuracy: 0.7256 - val_loss: 0.7143 - val_accuracy: 0.8286\n",
            "\n",
            "Epoch 00005: accuracy improved from 0.69583 to 0.72560, saving model to bestVGGmodel.h5\n",
            "Epoch 6/100\n",
            "53/53 [==============================] - 18s 328ms/step - loss: 0.8655 - accuracy: 0.7506 - val_loss: 0.6002 - val_accuracy: 0.8571\n",
            "\n",
            "Epoch 00006: accuracy improved from 0.72560 to 0.75060, saving model to bestVGGmodel.h5\n",
            "Epoch 7/100\n",
            "53/53 [==============================] - 17s 327ms/step - loss: 0.7846 - accuracy: 0.7607 - val_loss: 0.5270 - val_accuracy: 0.8667\n",
            "\n",
            "Epoch 00007: accuracy improved from 0.75060 to 0.76071, saving model to bestVGGmodel.h5\n",
            "Epoch 8/100\n",
            "53/53 [==============================] - 18s 332ms/step - loss: 0.6915 - accuracy: 0.8042 - val_loss: 0.5143 - val_accuracy: 0.8619\n",
            "\n",
            "Epoch 00008: accuracy improved from 0.76071 to 0.80417, saving model to bestVGGmodel.h5\n",
            "Epoch 9/100\n",
            "53/53 [==============================] - 18s 333ms/step - loss: 0.6577 - accuracy: 0.7917 - val_loss: 0.4715 - val_accuracy: 0.8667\n",
            "\n",
            "Epoch 00009: accuracy did not improve from 0.80417\n",
            "Epoch 10/100\n",
            "53/53 [==============================] - 18s 335ms/step - loss: 0.6607 - accuracy: 0.7982 - val_loss: 0.4243 - val_accuracy: 0.8714\n",
            "\n",
            "Epoch 00010: accuracy did not improve from 0.80417\n",
            "Epoch 11/100\n",
            "53/53 [==============================] - 18s 334ms/step - loss: 0.6087 - accuracy: 0.8131 - val_loss: 0.3995 - val_accuracy: 0.8762\n",
            "\n",
            "Epoch 00011: accuracy improved from 0.80417 to 0.81310, saving model to bestVGGmodel.h5\n",
            "Epoch 12/100\n",
            "53/53 [==============================] - 18s 333ms/step - loss: 0.5752 - accuracy: 0.8173 - val_loss: 0.3774 - val_accuracy: 0.8905\n",
            "\n",
            "Epoch 00012: accuracy improved from 0.81310 to 0.81726, saving model to bestVGGmodel.h5\n",
            "Epoch 13/100\n",
            "53/53 [==============================] - 18s 330ms/step - loss: 0.5561 - accuracy: 0.8274 - val_loss: 0.3552 - val_accuracy: 0.9143\n",
            "\n",
            "Epoch 00013: accuracy improved from 0.81726 to 0.82738, saving model to bestVGGmodel.h5\n",
            "Epoch 14/100\n",
            "53/53 [==============================] - 18s 332ms/step - loss: 0.5427 - accuracy: 0.8268 - val_loss: 0.3516 - val_accuracy: 0.9095\n",
            "\n",
            "Epoch 00014: accuracy did not improve from 0.82738\n",
            "Epoch 15/100\n",
            "53/53 [==============================] - 18s 329ms/step - loss: 0.4925 - accuracy: 0.8500 - val_loss: 0.3267 - val_accuracy: 0.8952\n",
            "\n",
            "Epoch 00015: accuracy improved from 0.82738 to 0.85000, saving model to bestVGGmodel.h5\n",
            "Epoch 16/100\n",
            "53/53 [==============================] - 18s 330ms/step - loss: 0.4757 - accuracy: 0.8571 - val_loss: 0.2933 - val_accuracy: 0.9143\n",
            "\n",
            "Epoch 00016: accuracy improved from 0.85000 to 0.85714, saving model to bestVGGmodel.h5\n",
            "Epoch 17/100\n",
            "53/53 [==============================] - 18s 332ms/step - loss: 0.4785 - accuracy: 0.8506 - val_loss: 0.3020 - val_accuracy: 0.9048\n",
            "\n",
            "Epoch 00017: accuracy did not improve from 0.85714\n",
            "Epoch 18/100\n",
            "53/53 [==============================] - 18s 330ms/step - loss: 0.4595 - accuracy: 0.8554 - val_loss: 0.2954 - val_accuracy: 0.9048\n",
            "\n",
            "Epoch 00018: accuracy did not improve from 0.85714\n",
            "Epoch 19/100\n",
            "53/53 [==============================] - 18s 332ms/step - loss: 0.4398 - accuracy: 0.8601 - val_loss: 0.2769 - val_accuracy: 0.9190\n",
            "\n",
            "Epoch 00019: accuracy improved from 0.85714 to 0.86012, saving model to bestVGGmodel.h5\n",
            "Epoch 20/100\n",
            "53/53 [==============================] - 18s 335ms/step - loss: 0.4312 - accuracy: 0.8637 - val_loss: 0.2833 - val_accuracy: 0.9238\n",
            "\n",
            "Epoch 00020: accuracy improved from 0.86012 to 0.86369, saving model to bestVGGmodel.h5\n",
            "Epoch 21/100\n",
            "53/53 [==============================] - 18s 333ms/step - loss: 0.4094 - accuracy: 0.8768 - val_loss: 0.2457 - val_accuracy: 0.9286\n",
            "\n",
            "Epoch 00021: accuracy improved from 0.86369 to 0.87679, saving model to bestVGGmodel.h5\n",
            "Epoch 22/100\n",
            "53/53 [==============================] - 18s 331ms/step - loss: 0.3924 - accuracy: 0.8679 - val_loss: 0.2278 - val_accuracy: 0.9381\n",
            "\n",
            "Epoch 00022: accuracy did not improve from 0.87679\n",
            "Epoch 23/100\n",
            "53/53 [==============================] - 18s 331ms/step - loss: 0.3854 - accuracy: 0.8792 - val_loss: 0.2372 - val_accuracy: 0.9333\n",
            "\n",
            "Epoch 00023: accuracy improved from 0.87679 to 0.87917, saving model to bestVGGmodel.h5\n",
            "Epoch 24/100\n",
            "53/53 [==============================] - 18s 330ms/step - loss: 0.4051 - accuracy: 0.8649 - val_loss: 0.2272 - val_accuracy: 0.9286\n",
            "\n",
            "Epoch 00024: accuracy did not improve from 0.87917\n",
            "Epoch 25/100\n",
            "53/53 [==============================] - 17s 326ms/step - loss: 0.3638 - accuracy: 0.8851 - val_loss: 0.2392 - val_accuracy: 0.9286\n",
            "\n",
            "Epoch 00025: accuracy improved from 0.87917 to 0.88512, saving model to bestVGGmodel.h5\n",
            "Epoch 26/100\n",
            "53/53 [==============================] - 18s 331ms/step - loss: 0.3605 - accuracy: 0.8845 - val_loss: 0.2213 - val_accuracy: 0.9286\n",
            "\n",
            "Epoch 00026: accuracy did not improve from 0.88512\n",
            "Epoch 27/100\n",
            "53/53 [==============================] - 18s 332ms/step - loss: 0.3813 - accuracy: 0.8774 - val_loss: 0.2332 - val_accuracy: 0.9333\n",
            "\n",
            "Epoch 00027: accuracy did not improve from 0.88512\n",
            "Epoch 28/100\n",
            "53/53 [==============================] - 18s 330ms/step - loss: 0.3769 - accuracy: 0.8798 - val_loss: 0.2161 - val_accuracy: 0.9429\n",
            "\n",
            "Epoch 00028: accuracy did not improve from 0.88512\n",
            "Epoch 29/100\n",
            "53/53 [==============================] - 18s 336ms/step - loss: 0.3399 - accuracy: 0.8940 - val_loss: 0.1974 - val_accuracy: 0.9429\n",
            "\n",
            "Epoch 00029: accuracy improved from 0.88512 to 0.89405, saving model to bestVGGmodel.h5\n",
            "Epoch 30/100\n",
            "53/53 [==============================] - 18s 332ms/step - loss: 0.3393 - accuracy: 0.8851 - val_loss: 0.1760 - val_accuracy: 0.9714\n",
            "\n",
            "Epoch 00030: accuracy did not improve from 0.89405\n",
            "Epoch 31/100\n",
            "53/53 [==============================] - 17s 325ms/step - loss: 0.3548 - accuracy: 0.8804 - val_loss: 0.1827 - val_accuracy: 0.9524\n",
            "\n",
            "Epoch 00031: accuracy did not improve from 0.89405\n",
            "Epoch 32/100\n",
            "53/53 [==============================] - 17s 326ms/step - loss: 0.3157 - accuracy: 0.9042 - val_loss: 0.1753 - val_accuracy: 0.9524\n",
            "\n",
            "Epoch 00032: accuracy improved from 0.89405 to 0.90417, saving model to bestVGGmodel.h5\n",
            "Epoch 33/100\n",
            "53/53 [==============================] - 18s 331ms/step - loss: 0.3170 - accuracy: 0.8970 - val_loss: 0.1658 - val_accuracy: 0.9667\n",
            "\n",
            "Epoch 00033: accuracy did not improve from 0.90417\n",
            "Epoch 34/100\n",
            "53/53 [==============================] - 17s 326ms/step - loss: 0.2922 - accuracy: 0.9060 - val_loss: 0.1616 - val_accuracy: 0.9619\n",
            "\n",
            "Epoch 00034: accuracy improved from 0.90417 to 0.90595, saving model to bestVGGmodel.h5\n",
            "Epoch 35/100\n",
            "53/53 [==============================] - 18s 329ms/step - loss: 0.3102 - accuracy: 0.9018 - val_loss: 0.1653 - val_accuracy: 0.9571\n",
            "\n",
            "Epoch 00035: accuracy did not improve from 0.90595\n",
            "Epoch 36/100\n",
            "53/53 [==============================] - 17s 328ms/step - loss: 0.3017 - accuracy: 0.9060 - val_loss: 0.1861 - val_accuracy: 0.9571\n",
            "\n",
            "Epoch 00036: accuracy did not improve from 0.90595\n",
            "Epoch 37/100\n",
            "53/53 [==============================] - 18s 329ms/step - loss: 0.3013 - accuracy: 0.9042 - val_loss: 0.1809 - val_accuracy: 0.9429\n",
            "\n",
            "Epoch 00037: accuracy did not improve from 0.90595\n",
            "Epoch 38/100\n",
            "53/53 [==============================] - 17s 319ms/step - loss: 0.3010 - accuracy: 0.9030 - val_loss: 0.1698 - val_accuracy: 0.9619\n",
            "\n",
            "Epoch 00038: accuracy did not improve from 0.90595\n",
            "Epoch 39/100\n",
            "53/53 [==============================] - 17s 320ms/step - loss: 0.2920 - accuracy: 0.8935 - val_loss: 0.1524 - val_accuracy: 0.9714\n",
            "\n",
            "Epoch 00039: accuracy did not improve from 0.90595\n",
            "Epoch 40/100\n",
            "53/53 [==============================] - 17s 324ms/step - loss: 0.2734 - accuracy: 0.9185 - val_loss: 0.1501 - val_accuracy: 0.9667\n",
            "\n",
            "Epoch 00040: accuracy improved from 0.90595 to 0.91845, saving model to bestVGGmodel.h5\n",
            "Epoch 41/100\n",
            "53/53 [==============================] - 17s 325ms/step - loss: 0.2928 - accuracy: 0.8982 - val_loss: 0.1749 - val_accuracy: 0.9571\n",
            "\n",
            "Epoch 00041: accuracy did not improve from 0.91845\n",
            "Epoch 42/100\n",
            "53/53 [==============================] - 17s 328ms/step - loss: 0.2501 - accuracy: 0.9274 - val_loss: 0.1500 - val_accuracy: 0.9619\n",
            "\n",
            "Epoch 00042: accuracy improved from 0.91845 to 0.92738, saving model to bestVGGmodel.h5\n",
            "Epoch 43/100\n",
            "53/53 [==============================] - 17s 325ms/step - loss: 0.2686 - accuracy: 0.9137 - val_loss: 0.1476 - val_accuracy: 0.9571\n",
            "\n",
            "Epoch 00043: accuracy did not improve from 0.92738\n",
            "Epoch 44/100\n",
            "53/53 [==============================] - 17s 324ms/step - loss: 0.2453 - accuracy: 0.9167 - val_loss: 0.1533 - val_accuracy: 0.9667\n",
            "\n",
            "Epoch 00044: accuracy did not improve from 0.92738\n",
            "Epoch 45/100\n",
            "53/53 [==============================] - 17s 323ms/step - loss: 0.2609 - accuracy: 0.9190 - val_loss: 0.1394 - val_accuracy: 0.9714\n",
            "\n",
            "Epoch 00045: accuracy did not improve from 0.92738\n",
            "Epoch 46/100\n",
            "53/53 [==============================] - 17s 323ms/step - loss: 0.2457 - accuracy: 0.9190 - val_loss: 0.1227 - val_accuracy: 0.9714\n",
            "\n",
            "Epoch 00046: accuracy did not improve from 0.92738\n",
            "Epoch 47/100\n",
            "53/53 [==============================] - 17s 327ms/step - loss: 0.2455 - accuracy: 0.9161 - val_loss: 0.1480 - val_accuracy: 0.9571\n",
            "\n",
            "Epoch 00047: accuracy did not improve from 0.92738\n",
            "Epoch 48/100\n",
            "53/53 [==============================] - 17s 326ms/step - loss: 0.2655 - accuracy: 0.9196 - val_loss: 0.1455 - val_accuracy: 0.9667\n",
            "\n",
            "Epoch 00048: accuracy did not improve from 0.92738\n",
            "Epoch 49/100\n",
            "53/53 [==============================] - 17s 324ms/step - loss: 0.2372 - accuracy: 0.9185 - val_loss: 0.1413 - val_accuracy: 0.9667\n",
            "\n",
            "Epoch 00049: accuracy did not improve from 0.92738\n",
            "Epoch 50/100\n",
            "53/53 [==============================] - 18s 331ms/step - loss: 0.2283 - accuracy: 0.9298 - val_loss: 0.1268 - val_accuracy: 0.9714\n",
            "\n",
            "Epoch 00050: accuracy improved from 0.92738 to 0.92976, saving model to bestVGGmodel.h5\n",
            "Epoch 51/100\n",
            "53/53 [==============================] - 18s 332ms/step - loss: 0.2223 - accuracy: 0.9280 - val_loss: 0.1233 - val_accuracy: 0.9762\n",
            "\n",
            "Epoch 00051: accuracy did not improve from 0.92976\n",
            "Epoch 52/100\n",
            "53/53 [==============================] - 18s 330ms/step - loss: 0.1997 - accuracy: 0.9387 - val_loss: 0.1241 - val_accuracy: 0.9667\n",
            "\n",
            "Epoch 00052: accuracy improved from 0.92976 to 0.93869, saving model to bestVGGmodel.h5\n",
            "Epoch 53/100\n",
            "53/53 [==============================] - 18s 340ms/step - loss: 0.2230 - accuracy: 0.9321 - val_loss: 0.1245 - val_accuracy: 0.9762\n",
            "\n",
            "Epoch 00053: accuracy did not improve from 0.93869\n",
            "Epoch 54/100\n",
            "53/53 [==============================] - 18s 337ms/step - loss: 0.2473 - accuracy: 0.9196 - val_loss: 0.1260 - val_accuracy: 0.9667\n",
            "\n",
            "Epoch 00054: accuracy did not improve from 0.93869\n",
            "Epoch 55/100\n",
            "53/53 [==============================] - 18s 335ms/step - loss: 0.2221 - accuracy: 0.9256 - val_loss: 0.1240 - val_accuracy: 0.9714\n",
            "\n",
            "Epoch 00055: accuracy did not improve from 0.93869\n",
            "Epoch 56/100\n",
            "53/53 [==============================] - 18s 336ms/step - loss: 0.2310 - accuracy: 0.9232 - val_loss: 0.1397 - val_accuracy: 0.9667\n",
            "\n",
            "Epoch 00056: accuracy did not improve from 0.93869\n",
            "Epoch 57/100\n",
            "53/53 [==============================] - 18s 329ms/step - loss: 0.2125 - accuracy: 0.9399 - val_loss: 0.1211 - val_accuracy: 0.9714\n",
            "\n",
            "Epoch 00057: accuracy improved from 0.93869 to 0.93988, saving model to bestVGGmodel.h5\n",
            "Epoch 58/100\n",
            "53/53 [==============================] - 18s 331ms/step - loss: 0.2257 - accuracy: 0.9298 - val_loss: 0.1136 - val_accuracy: 0.9762\n",
            "\n",
            "Epoch 00058: accuracy did not improve from 0.93988\n",
            "Epoch 59/100\n",
            "53/53 [==============================] - 18s 332ms/step - loss: 0.1834 - accuracy: 0.9464 - val_loss: 0.1149 - val_accuracy: 0.9667\n",
            "\n",
            "Epoch 00059: accuracy improved from 0.93988 to 0.94643, saving model to bestVGGmodel.h5\n",
            "Epoch 60/100\n",
            "53/53 [==============================] - 18s 335ms/step - loss: 0.2070 - accuracy: 0.9351 - val_loss: 0.1204 - val_accuracy: 0.9667\n",
            "\n",
            "Epoch 00060: accuracy did not improve from 0.94643\n",
            "Epoch 61/100\n",
            "53/53 [==============================] - 17s 325ms/step - loss: 0.1963 - accuracy: 0.9351 - val_loss: 0.1278 - val_accuracy: 0.9762\n",
            "\n",
            "Epoch 00061: accuracy did not improve from 0.94643\n",
            "Epoch 62/100\n",
            "53/53 [==============================] - 17s 325ms/step - loss: 0.2111 - accuracy: 0.9345 - val_loss: 0.1132 - val_accuracy: 0.9667\n",
            "\n",
            "Epoch 00062: accuracy did not improve from 0.94643\n",
            "Epoch 63/100\n",
            "53/53 [==============================] - 17s 326ms/step - loss: 0.1921 - accuracy: 0.9375 - val_loss: 0.1144 - val_accuracy: 0.9667\n",
            "\n",
            "Epoch 00063: accuracy did not improve from 0.94643\n",
            "Epoch 64/100\n",
            "53/53 [==============================] - 17s 325ms/step - loss: 0.2023 - accuracy: 0.9363 - val_loss: 0.1127 - val_accuracy: 0.9762\n",
            "\n",
            "Epoch 00064: accuracy did not improve from 0.94643\n",
            "Epoch 65/100\n",
            "53/53 [==============================] - 17s 326ms/step - loss: 0.1963 - accuracy: 0.9315 - val_loss: 0.1192 - val_accuracy: 0.9714\n",
            "\n",
            "Epoch 00065: accuracy did not improve from 0.94643\n",
            "Epoch 66/100\n",
            "53/53 [==============================] - 17s 324ms/step - loss: 0.1938 - accuracy: 0.9429 - val_loss: 0.1098 - val_accuracy: 0.9667\n",
            "\n",
            "Epoch 00066: accuracy did not improve from 0.94643\n",
            "Epoch 67/100\n",
            "53/53 [==============================] - 17s 328ms/step - loss: 0.1846 - accuracy: 0.9411 - val_loss: 0.1157 - val_accuracy: 0.9714\n",
            "\n",
            "Epoch 00067: accuracy did not improve from 0.94643\n",
            "Epoch 68/100\n",
            "53/53 [==============================] - 17s 324ms/step - loss: 0.1968 - accuracy: 0.9327 - val_loss: 0.1115 - val_accuracy: 0.9667\n",
            "\n",
            "Epoch 00068: accuracy did not improve from 0.94643\n",
            "Epoch 69/100\n",
            "53/53 [==============================] - 17s 322ms/step - loss: 0.1995 - accuracy: 0.9333 - val_loss: 0.1022 - val_accuracy: 0.9714\n",
            "\n",
            "Epoch 00069: accuracy did not improve from 0.94643\n",
            "Epoch 70/100\n",
            "53/53 [==============================] - 17s 325ms/step - loss: 0.1846 - accuracy: 0.9387 - val_loss: 0.1116 - val_accuracy: 0.9762\n",
            "\n",
            "Epoch 00070: accuracy did not improve from 0.94643\n",
            "Epoch 71/100\n",
            "53/53 [==============================] - 17s 326ms/step - loss: 0.1765 - accuracy: 0.9464 - val_loss: 0.1195 - val_accuracy: 0.9714\n",
            "\n",
            "Epoch 00071: accuracy did not improve from 0.94643\n",
            "Epoch 72/100\n",
            "53/53 [==============================] - 18s 329ms/step - loss: 0.1631 - accuracy: 0.9506 - val_loss: 0.1074 - val_accuracy: 0.9762\n",
            "\n",
            "Epoch 00072: accuracy improved from 0.94643 to 0.95060, saving model to bestVGGmodel.h5\n",
            "Epoch 73/100\n",
            "53/53 [==============================] - 18s 329ms/step - loss: 0.1810 - accuracy: 0.9417 - val_loss: 0.1006 - val_accuracy: 0.9714\n",
            "\n",
            "Epoch 00073: accuracy did not improve from 0.95060\n",
            "Epoch 74/100\n",
            "53/53 [==============================] - 17s 326ms/step - loss: 0.1780 - accuracy: 0.9452 - val_loss: 0.0999 - val_accuracy: 0.9714\n",
            "\n",
            "Epoch 00074: accuracy did not improve from 0.95060\n",
            "Epoch 75/100\n",
            "53/53 [==============================] - 17s 327ms/step - loss: 0.1648 - accuracy: 0.9500 - val_loss: 0.1077 - val_accuracy: 0.9714\n",
            "\n",
            "Epoch 00075: accuracy did not improve from 0.95060\n",
            "Epoch 76/100\n",
            "53/53 [==============================] - 17s 324ms/step - loss: 0.1760 - accuracy: 0.9435 - val_loss: 0.0961 - val_accuracy: 0.9810\n",
            "\n",
            "Epoch 00076: accuracy did not improve from 0.95060\n",
            "Epoch 77/100\n",
            "53/53 [==============================] - 18s 329ms/step - loss: 0.1663 - accuracy: 0.9464 - val_loss: 0.1024 - val_accuracy: 0.9762\n",
            "\n",
            "Epoch 00077: accuracy did not improve from 0.95060\n",
            "Epoch 78/100\n",
            "53/53 [==============================] - 18s 329ms/step - loss: 0.1803 - accuracy: 0.9464 - val_loss: 0.0898 - val_accuracy: 0.9762\n",
            "\n",
            "Epoch 00078: accuracy did not improve from 0.95060\n",
            "Epoch 79/100\n",
            "53/53 [==============================] - 18s 331ms/step - loss: 0.1655 - accuracy: 0.9435 - val_loss: 0.0925 - val_accuracy: 0.9810\n",
            "\n",
            "Epoch 00079: accuracy did not improve from 0.95060\n",
            "Epoch 80/100\n",
            "53/53 [==============================] - 18s 329ms/step - loss: 0.1672 - accuracy: 0.9440 - val_loss: 0.1043 - val_accuracy: 0.9714\n",
            "\n",
            "Epoch 00080: accuracy did not improve from 0.95060\n",
            "Epoch 81/100\n",
            "53/53 [==============================] - 18s 334ms/step - loss: 0.1460 - accuracy: 0.9565 - val_loss: 0.1071 - val_accuracy: 0.9667\n",
            "\n",
            "Epoch 00081: accuracy improved from 0.95060 to 0.95655, saving model to bestVGGmodel.h5\n",
            "Epoch 82/100\n",
            "53/53 [==============================] - 18s 342ms/step - loss: 0.1555 - accuracy: 0.9548 - val_loss: 0.0959 - val_accuracy: 0.9714\n",
            "\n",
            "Epoch 00082: accuracy did not improve from 0.95655\n",
            "Epoch 83/100\n",
            "53/53 [==============================] - 18s 336ms/step - loss: 0.1683 - accuracy: 0.9476 - val_loss: 0.1023 - val_accuracy: 0.9714\n",
            "\n",
            "Epoch 00083: accuracy did not improve from 0.95655\n",
            "Epoch 84/100\n",
            "53/53 [==============================] - 18s 333ms/step - loss: 0.1388 - accuracy: 0.9583 - val_loss: 0.1193 - val_accuracy: 0.9667\n",
            "\n",
            "Epoch 00084: accuracy improved from 0.95655 to 0.95833, saving model to bestVGGmodel.h5\n",
            "Epoch 85/100\n",
            "53/53 [==============================] - 18s 334ms/step - loss: 0.1655 - accuracy: 0.9464 - val_loss: 0.1057 - val_accuracy: 0.9714\n",
            "\n",
            "Epoch 00085: accuracy did not improve from 0.95833\n",
            "Epoch 86/100\n",
            "53/53 [==============================] - 18s 343ms/step - loss: 0.1682 - accuracy: 0.9458 - val_loss: 0.1074 - val_accuracy: 0.9762\n",
            "\n",
            "Epoch 00086: accuracy did not improve from 0.95833\n",
            "Epoch 87/100\n",
            "53/53 [==============================] - 18s 336ms/step - loss: 0.1468 - accuracy: 0.9542 - val_loss: 0.1076 - val_accuracy: 0.9762\n",
            "\n",
            "Epoch 00087: accuracy did not improve from 0.95833\n",
            "Epoch 88/100\n",
            "53/53 [==============================] - 18s 337ms/step - loss: 0.1553 - accuracy: 0.9577 - val_loss: 0.1149 - val_accuracy: 0.9714\n",
            "\n",
            "Epoch 00088: accuracy did not improve from 0.95833\n",
            "Epoch 89/100\n",
            "53/53 [==============================] - 18s 329ms/step - loss: 0.1652 - accuracy: 0.9488 - val_loss: 0.0883 - val_accuracy: 0.9762\n",
            "\n",
            "Epoch 00089: accuracy did not improve from 0.95833\n",
            "Epoch 90/100\n",
            "53/53 [==============================] - 18s 332ms/step - loss: 0.1490 - accuracy: 0.9500 - val_loss: 0.1123 - val_accuracy: 0.9762\n",
            "\n",
            "Epoch 00090: accuracy did not improve from 0.95833\n",
            "Epoch 91/100\n",
            "53/53 [==============================] - 18s 332ms/step - loss: 0.1443 - accuracy: 0.9530 - val_loss: 0.1003 - val_accuracy: 0.9667\n",
            "\n",
            "Epoch 00091: accuracy did not improve from 0.95833\n",
            "Epoch 92/100\n",
            "53/53 [==============================] - 18s 330ms/step - loss: 0.1352 - accuracy: 0.9565 - val_loss: 0.0983 - val_accuracy: 0.9762\n",
            "\n",
            "Epoch 00092: accuracy did not improve from 0.95833\n",
            "Epoch 93/100\n",
            "53/53 [==============================] - 17s 326ms/step - loss: 0.1585 - accuracy: 0.9512 - val_loss: 0.1009 - val_accuracy: 0.9714\n",
            "\n",
            "Epoch 00093: accuracy did not improve from 0.95833\n",
            "Epoch 94/100\n",
            "53/53 [==============================] - 17s 327ms/step - loss: 0.1321 - accuracy: 0.9601 - val_loss: 0.0949 - val_accuracy: 0.9762\n",
            "\n",
            "Epoch 00094: accuracy improved from 0.95833 to 0.96012, saving model to bestVGGmodel.h5\n",
            "Epoch 95/100\n",
            "53/53 [==============================] - 18s 330ms/step - loss: 0.1592 - accuracy: 0.9458 - val_loss: 0.1033 - val_accuracy: 0.9810\n",
            "\n",
            "Epoch 00095: accuracy did not improve from 0.96012\n",
            "Epoch 96/100\n",
            "53/53 [==============================] - 17s 328ms/step - loss: 0.1497 - accuracy: 0.9476 - val_loss: 0.0900 - val_accuracy: 0.9762\n",
            "\n",
            "Epoch 00096: accuracy did not improve from 0.96012\n",
            "Epoch 97/100\n",
            "53/53 [==============================] - 17s 328ms/step - loss: 0.1275 - accuracy: 0.9625 - val_loss: 0.0947 - val_accuracy: 0.9762\n",
            "\n",
            "Epoch 00097: accuracy improved from 0.96012 to 0.96250, saving model to bestVGGmodel.h5\n",
            "Epoch 98/100\n",
            "53/53 [==============================] - 18s 333ms/step - loss: 0.1201 - accuracy: 0.9649 - val_loss: 0.0820 - val_accuracy: 0.9762\n",
            "\n",
            "Epoch 00098: accuracy improved from 0.96250 to 0.96488, saving model to bestVGGmodel.h5\n",
            "Epoch 99/100\n",
            "53/53 [==============================] - 18s 328ms/step - loss: 0.1353 - accuracy: 0.9565 - val_loss: 0.0914 - val_accuracy: 0.9762\n",
            "\n",
            "Epoch 00099: accuracy did not improve from 0.96488\n",
            "Epoch 100/100\n",
            "53/53 [==============================] - 17s 324ms/step - loss: 0.1440 - accuracy: 0.9536 - val_loss: 0.0914 - val_accuracy: 0.9762\n",
            "\n",
            "Epoch 00100: accuracy did not improve from 0.96488\n"
          ]
        }
      ]
    },
    {
      "cell_type": "markdown",
      "metadata": {
        "id": "fM7J3FQ0gmD-"
      },
      "source": [
        "The accuracy increase significantly than the CNN model"
      ]
    },
    {
      "cell_type": "markdown",
      "metadata": {
        "id": "DeuZSkeiQ7up"
      },
      "source": [
        "###8.3 Plot Model Accuracy and Loss"
      ]
    },
    {
      "cell_type": "markdown",
      "metadata": {
        "id": "b2o6M5C1hHH1"
      },
      "source": [
        "Check the plot of accuracy and loss from the model during training"
      ]
    },
    {
      "cell_type": "code",
      "metadata": {
        "colab": {
          "base_uri": "https://localhost:8080/",
          "height": 545
        },
        "id": "ofPup7DCD_pU",
        "outputId": "ce2e313f-5c4c-44e5-912c-af9fc1d0f387"
      },
      "source": [
        "acc = history.history['accuracy']\n",
        "val_acc = history.history['val_accuracy']\n",
        "loss = history.history['loss']\n",
        "val_loss = history.history['val_loss']\n",
        "plt.plot(acc, label='Training acc')\n",
        "plt.plot(val_acc, label='Validation acc')\n",
        "plt.title('Training and validation accuracy')\n",
        "plt.legend()\n",
        "plt.figure()\n",
        "plt.plot(loss, label='Training loss')\n",
        "plt.plot(val_loss, label='Validation loss')\n",
        "plt.title('Training and validation loss')\n",
        "plt.legend()\n",
        "plt.show()"
      ],
      "execution_count": 29,
      "outputs": [
        {
          "output_type": "display_data",
          "data": {
            "image/png": "[encoded data removed]",
            "text/plain": [
              "<Figure size 432x288 with 1 Axes>"
            ]
          },
          "metadata": {
            "needs_background": "light"
          }
        },
        {
          "output_type": "display_data",
          "data": {
            "image/png": "[encoded data removed]",
            "text/plain": [
              "<Figure size 432x288 with 1 Axes>"
            ]
          },
          "metadata": {
            "needs_background": "light"
          }
        }
      ]
    },
    {
      "cell_type": "markdown",
      "metadata": {
        "id": "5GELTxo9guks"
      },
      "source": [
        "The model is pretty good and no-overfitting"
      ]
    },
    {
      "cell_type": "markdown",
      "metadata": {
        "id": "1Bur0NFFRAyy"
      },
      "source": [
        "###8.4 Evaluate Model Performance"
      ]
    },
    {
      "cell_type": "markdown",
      "metadata": {
        "id": "xzgSWfswg40M"
      },
      "source": [
        "Evaluate model performance"
      ]
    },
    {
      "cell_type": "code",
      "metadata": {
        "colab": {
          "base_uri": "https://localhost:8080/"
        },
        "id": "oLqZcJGYXM9e",
        "outputId": "11ce790a-7ef6-4afe-bce5-eedf286bc50a"
      },
      "source": [
        "model = tf.keras.models.load_model(\"bestVGGmodel.h5\")\n",
        "akurasi = model.evaluate(test_generator)\n",
        "model.save(f\"/content/drive/Shareddrives/Data/Model Land Use/model_VGG Acc:{akurasi[1]}.h5\")"
      ],
      "execution_count": 30,
      "outputs": [
        {
          "output_type": "stream",
          "name": "stdout",
          "text": [
            "210/210 [==============================] - 6s 23ms/step - loss: 0.0683 - accuracy: 0.9762\n"
          ]
        }
      ]
    },
    {
      "cell_type": "code",
      "metadata": {
        "colab": {
          "base_uri": "https://localhost:8080/"
        },
        "id": "aVWLFQCRXWPp",
        "outputId": "2a7664ed-d66d-4a69-b35c-8477037332b2"
      },
      "source": [
        "y_pred = model.predict(X_test)\n",
        "y_pred_class = [np.argmax(y) for y in y_pred]\n",
        "print(classification_report(y_test_class, y_pred_class))"
      ],
      "execution_count": 31,
      "outputs": [
        {
          "output_type": "stream",
          "name": "stdout",
          "text": [
            "              precision    recall  f1-score   support\n",
            "\n",
            "           0       1.00      1.00      1.00        10\n",
            "           1       1.00      1.00      1.00        10\n",
            "           2       1.00      1.00      1.00        10\n",
            "           3       1.00      1.00      1.00        10\n",
            "           4       1.00      0.80      0.89        10\n",
            "           5       1.00      1.00      1.00        10\n",
            "           6       0.91      1.00      0.95        10\n",
            "           7       1.00      1.00      1.00        10\n",
            "           8       1.00      1.00      1.00        10\n",
            "           9       1.00      1.00      1.00        10\n",
            "          10       1.00      1.00      1.00        10\n",
            "          11       1.00      1.00      1.00        10\n",
            "          12       0.91      1.00      0.95        10\n",
            "          13       0.91      1.00      0.95        10\n",
            "          14       0.91      1.00      0.95        10\n",
            "          15       1.00      1.00      1.00        10\n",
            "          16       1.00      1.00      1.00        10\n",
            "          17       1.00      0.90      0.95        10\n",
            "          18       1.00      1.00      1.00        10\n",
            "          19       1.00      1.00      1.00        10\n",
            "          20       0.89      0.80      0.84        10\n",
            "\n",
            "    accuracy                           0.98       210\n",
            "   macro avg       0.98      0.98      0.98       210\n",
            "weighted avg       0.98      0.98      0.98       210\n",
            "\n"
          ]
        }
      ]
    },
    {
      "cell_type": "markdown",
      "metadata": {
        "id": "bt4_X0EuRL6t"
      },
      "source": [
        "###8.5 Plot Confusion Matrix"
      ]
    },
    {
      "cell_type": "markdown",
      "metadata": {
        "id": "24GzWo0-hSkr"
      },
      "source": [
        "Plot the confusion matrix to see where the model successfully predicts and fails to predict"
      ]
    },
    {
      "cell_type": "code",
      "metadata": {
        "colab": {
          "base_uri": "https://localhost:8080/",
          "height": 1000
        },
        "id": "l29LIGvURRZy",
        "outputId": "1efd9aaf-1b64-487e-85f0-b18683f2d849"
      },
      "source": [
        "y_pred = model.predict(X_test)\n",
        "y_pred_class = [np.argmax(y) for y in y_pred]\n",
        "cnf_mat = confusion_matrix(y_test_class, y_pred_class)\n",
        "np.set_printoptions(precision=2)\n",
        "\n",
        "plt.figure()\n",
        "plot_confusion_matrix(cnf_mat, classes=labels)\n",
        "plt.grid(None)\n",
        "plt.show();"
      ],
      "execution_count": 33,
      "outputs": [
        {
          "output_type": "display_data",
          "data": {
            "text/plain": [
              "<Figure size 432x288 with 0 Axes>"
            ]
          },
          "metadata": {}
        },
        {
          "output_type": "display_data",
          "data": {
            "image/png": "[encoded data removed]",
            "text/plain": [
              "<Figure size 1440x1440 with 2 Axes>"
            ]
          },
          "metadata": {
            "needs_background": "light"
          }
        }
      ]
    },
    {
      "cell_type": "markdown",
      "metadata": {
        "id": "4lO5U0iBhUE5"
      },
      "source": [
        "The model perform good enough with 98% accuracy on the test set and succesfully predict 100% on some classes"
      ]
    },
    {
      "cell_type": "markdown",
      "metadata": {
        "id": "cmaUqYre3obz"
      },
      "source": [
        "##9. Transfer Learning with MobileNet"
      ]
    },
    {
      "cell_type": "markdown",
      "metadata": {
        "id": "M7RVADx3hpxh"
      },
      "source": [
        "We try to compare model performance using transfer learning with MobileNet as pretrained model"
      ]
    },
    {
      "cell_type": "markdown",
      "metadata": {
        "id": "kFEG1ofASX5k"
      },
      "source": [
        "###9.1 Build Model with Pretrained Model as Feature Extractor"
      ]
    },
    {
      "cell_type": "markdown",
      "metadata": {
        "id": "M2H5vL8IhzG2"
      },
      "source": [
        "Build model with pretrained model on top of the model (as feature extractor) and add some fully connected layer to adjust to the data we want to predict"
      ]
    },
    {
      "cell_type": "code",
      "metadata": {
        "colab": {
          "base_uri": "https://localhost:8080/"
        },
        "id": "Iur2406FylsC",
        "outputId": "5f2cb5d6-fc44-4c29-c091-d9941c937f13"
      },
      "source": [
        "from tensorflow.keras.applications.mobilenet import MobileNet\n",
        "mobile = MobileNet(weights=\"imagenet\",include_top=False,input_shape=(150,150,3))\n",
        "\n",
        "for layer in mobile.layers:\n",
        "    layer.trainable = False\n",
        "\n",
        "top_model = mobile.output\n",
        "top_model = tf.keras.layers.Flatten(name=\"flatten\")(top_model)\n",
        "top_model = tf.keras.layers.Dense(4096, activation='relu')(top_model)\n",
        "top_model = tf.keras.layers.Dense(1072, activation='relu')(top_model)\n",
        "top_model = tf.keras.layers.Dropout(0.5)(top_model)\n",
        "output_layer = tf.keras.layers.Dense(21, activation='softmax')(top_model)\n",
        "    \n",
        "# Group the convolutional base and new fully-connected layers into a Model object.\n",
        "model = Model(inputs=mobile.input, outputs=output_layer)\n",
        "\n",
        "# Compiles the model for training.\n",
        "model.compile(optimizer=Adam(learning_rate=2e-5), \n",
        "              loss='categorical_crossentropy',\n",
        "              metrics=['accuracy'])\n",
        "\n",
        "model.summary()\n",
        "history = model.fit(\n",
        "    train_generator,\n",
        "    epochs=100,\n",
        "    batch_size=32,\n",
        "    validation_data=validation_generator,\n",
        "    callbacks=[\n",
        "            ModelCheckpoint(\n",
        "                filepath='bestMobileNetmodel.h5',\n",
        "                monitor='accuracy',\n",
        "                mode='max',\n",
        "                save_best_only=True,\n",
        "                save_weights_only=False,\n",
        "                verbose=1\n",
        "            )\n",
        "        ])\n"
      ],
      "execution_count": 34,
      "outputs": [
        {
          "output_type": "stream",
          "name": "stdout",
          "text": [
            "WARNING:tensorflow:`input_shape` is undefined or non-square, or `rows` is not in [128, 160, 192, 224]. Weights for input shape (224, 224) will be loaded as the default.\n",
            "Downloading data from https://storage.googleapis.com/tensorflow/keras-applications/mobilenet/mobilenet_1_0_224_tf_no_top.h5\n",
            "17227776/17225924 [==============================] - 0s 0us/step\n",
            "17235968/17225924 [==============================] - 0s 0us/step\n",
            "Model: \"model_2\"\n",
            "_________________________________________________________________\n",
            "Layer (type)                 Output Shape              Param #   \n",
            "=================================================================\n",
            "input_2 (InputLayer)         [(None, 150, 150, 3)]     0         \n",
            "_________________________________________________________________\n",
            "conv1 (Conv2D)               (None, 75, 75, 32)        864       \n",
            "_________________________________________________________________\n",
            "conv1_bn (BatchNormalization (None, 75, 75, 32)        128       \n",
            "_________________________________________________________________\n",
            "conv1_relu (ReLU)            (None, 75, 75, 32)        0         \n",
            "_________________________________________________________________\n",
            "conv_dw_1 (DepthwiseConv2D)  (None, 75, 75, 32)        288       \n",
            "_________________________________________________________________\n",
            "conv_dw_1_bn (BatchNormaliza (None, 75, 75, 32)        128       \n",
            "_________________________________________________________________\n",
            "conv_dw_1_relu (ReLU)        (None, 75, 75, 32)        0         \n",
            "_________________________________________________________________\n",
            "conv_pw_1 (Conv2D)           (None, 75, 75, 64)        2048      \n",
            "_________________________________________________________________\n",
            "conv_pw_1_bn (BatchNormaliza (None, 75, 75, 64)        256       \n",
            "_________________________________________________________________\n",
            "conv_pw_1_relu (ReLU)        (None, 75, 75, 64)        0         \n",
            "_________________________________________________________________\n",
            "conv_pad_2 (ZeroPadding2D)   (None, 76, 76, 64)        0         \n",
            "_________________________________________________________________\n",
            "conv_dw_2 (DepthwiseConv2D)  (None, 37, 37, 64)        576       \n",
            "_________________________________________________________________\n",
            "conv_dw_2_bn (BatchNormaliza (None, 37, 37, 64)        256       \n",
            "_________________________________________________________________\n",
            "conv_dw_2_relu (ReLU)        (None, 37, 37, 64)        0         \n",
            "_________________________________________________________________\n",
            "conv_pw_2 (Conv2D)           (None, 37, 37, 128)       8192      \n",
            "_________________________________________________________________\n",
            "conv_pw_2_bn (BatchNormaliza (None, 37, 37, 128)       512       \n",
            "_________________________________________________________________\n",
            "conv_pw_2_relu (ReLU)        (None, 37, 37, 128)       0         \n",
            "_________________________________________________________________\n",
            "conv_dw_3 (DepthwiseConv2D)  (None, 37, 37, 128)       1152      \n",
            "_________________________________________________________________\n",
            "conv_dw_3_bn (BatchNormaliza (None, 37, 37, 128)       512       \n",
            "_________________________________________________________________\n",
            "conv_dw_3_relu (ReLU)        (None, 37, 37, 128)       0         \n",
            "_________________________________________________________________\n",
            "conv_pw_3 (Conv2D)           (None, 37, 37, 128)       16384     \n",
            "_________________________________________________________________\n",
            "conv_pw_3_bn (BatchNormaliza (None, 37, 37, 128)       512       \n",
            "_________________________________________________________________\n",
            "conv_pw_3_relu (ReLU)        (None, 37, 37, 128)       0         \n",
            "_________________________________________________________________\n",
            "conv_pad_4 (ZeroPadding2D)   (None, 38, 38, 128)       0         \n",
            "_________________________________________________________________\n",
            "conv_dw_4 (DepthwiseConv2D)  (None, 18, 18, 128)       1152      \n",
            "_________________________________________________________________\n",
            "conv_dw_4_bn (BatchNormaliza (None, 18, 18, 128)       512       \n",
            "_________________________________________________________________\n",
            "conv_dw_4_relu (ReLU)        (None, 18, 18, 128)       0         \n",
            "_________________________________________________________________\n",
            "conv_pw_4 (Conv2D)           (None, 18, 18, 256)       32768     \n",
            "_________________________________________________________________\n",
            "conv_pw_4_bn (BatchNormaliza (None, 18, 18, 256)       1024      \n",
            "_________________________________________________________________\n",
            "conv_pw_4_relu (ReLU)        (None, 18, 18, 256)       0         \n",
            "_________________________________________________________________\n",
            "conv_dw_5 (DepthwiseConv2D)  (None, 18, 18, 256)       2304      \n",
            "_________________________________________________________________\n",
            "conv_dw_5_bn (BatchNormaliza (None, 18, 18, 256)       1024      \n",
            "_________________________________________________________________\n",
            "conv_dw_5_relu (ReLU)        (None, 18, 18, 256)       0         \n",
            "_________________________________________________________________\n",
            "conv_pw_5 (Conv2D)           (None, 18, 18, 256)       65536     \n",
            "_________________________________________________________________\n",
            "conv_pw_5_bn (BatchNormaliza (None, 18, 18, 256)       1024      \n",
            "_________________________________________________________________\n",
            "conv_pw_5_relu (ReLU)        (None, 18, 18, 256)       0         \n",
            "_________________________________________________________________\n",
            "conv_pad_6 (ZeroPadding2D)   (None, 19, 19, 256)       0         \n",
            "_________________________________________________________________\n",
            "conv_dw_6 (DepthwiseConv2D)  (None, 9, 9, 256)         2304      \n",
            "_________________________________________________________________\n",
            "conv_dw_6_bn (BatchNormaliza (None, 9, 9, 256)         1024      \n",
            "_________________________________________________________________\n",
            "conv_dw_6_relu (ReLU)        (None, 9, 9, 256)         0         \n",
            "_________________________________________________________________\n",
            "conv_pw_6 (Conv2D)           (None, 9, 9, 512)         131072    \n",
            "_________________________________________________________________\n",
            "conv_pw_6_bn (BatchNormaliza (None, 9, 9, 512)         2048      \n",
            "_________________________________________________________________\n",
            "conv_pw_6_relu (ReLU)        (None, 9, 9, 512)         0         \n",
            "_________________________________________________________________\n",
            "conv_dw_7 (DepthwiseConv2D)  (None, 9, 9, 512)         4608      \n",
            "_________________________________________________________________\n",
            "conv_dw_7_bn (BatchNormaliza (None, 9, 9, 512)         2048      \n",
            "_________________________________________________________________\n",
            "conv_dw_7_relu (ReLU)        (None, 9, 9, 512)         0         \n",
            "_________________________________________________________________\n",
            "conv_pw_7 (Conv2D)           (None, 9, 9, 512)         262144    \n",
            "_________________________________________________________________\n",
            "conv_pw_7_bn (BatchNormaliza (None, 9, 9, 512)         2048      \n",
            "_________________________________________________________________\n",
            "conv_pw_7_relu (ReLU)        (None, 9, 9, 512)         0         \n",
            "_________________________________________________________________\n",
            "conv_dw_8 (DepthwiseConv2D)  (None, 9, 9, 512)         4608      \n",
            "_________________________________________________________________\n",
            "conv_dw_8_bn (BatchNormaliza (None, 9, 9, 512)         2048      \n",
            "_________________________________________________________________\n",
            "conv_dw_8_relu (ReLU)        (None, 9, 9, 512)         0         \n",
            "_________________________________________________________________\n",
            "conv_pw_8 (Conv2D)           (None, 9, 9, 512)         262144    \n",
            "_________________________________________________________________\n",
            "conv_pw_8_bn (BatchNormaliza (None, 9, 9, 512)         2048      \n",
            "_________________________________________________________________\n",
            "conv_pw_8_relu (ReLU)        (None, 9, 9, 512)         0         \n",
            "_________________________________________________________________\n",
            "conv_dw_9 (DepthwiseConv2D)  (None, 9, 9, 512)         4608      \n",
            "_________________________________________________________________\n",
            "conv_dw_9_bn (BatchNormaliza (None, 9, 9, 512)         2048      \n",
            "_________________________________________________________________\n",
            "conv_dw_9_relu (ReLU)        (None, 9, 9, 512)         0         \n",
            "_________________________________________________________________\n",
            "conv_pw_9 (Conv2D)           (None, 9, 9, 512)         262144    \n",
            "_________________________________________________________________\n",
            "conv_pw_9_bn (BatchNormaliza (None, 9, 9, 512)         2048      \n",
            "_________________________________________________________________\n",
            "conv_pw_9_relu (ReLU)        (None, 9, 9, 512)         0         \n",
            "_________________________________________________________________\n",
            "conv_dw_10 (DepthwiseConv2D) (None, 9, 9, 512)         4608      \n",
            "_________________________________________________________________\n",
            "conv_dw_10_bn (BatchNormaliz (None, 9, 9, 512)         2048      \n",
            "_________________________________________________________________\n",
            "conv_dw_10_relu (ReLU)       (None, 9, 9, 512)         0         \n",
            "_________________________________________________________________\n",
            "conv_pw_10 (Conv2D)          (None, 9, 9, 512)         262144    \n",
            "_________________________________________________________________\n",
            "conv_pw_10_bn (BatchNormaliz (None, 9, 9, 512)         2048      \n",
            "_________________________________________________________________\n",
            "conv_pw_10_relu (ReLU)       (None, 9, 9, 512)         0         \n",
            "_________________________________________________________________\n",
            "conv_dw_11 (DepthwiseConv2D) (None, 9, 9, 512)         4608      \n",
            "_________________________________________________________________\n",
            "conv_dw_11_bn (BatchNormaliz (None, 9, 9, 512)         2048      \n",
            "_________________________________________________________________\n",
            "conv_dw_11_relu (ReLU)       (None, 9, 9, 512)         0         \n",
            "_________________________________________________________________\n",
            "conv_pw_11 (Conv2D)          (None, 9, 9, 512)         262144    \n",
            "_________________________________________________________________\n",
            "conv_pw_11_bn (BatchNormaliz (None, 9, 9, 512)         2048      \n",
            "_________________________________________________________________\n",
            "conv_pw_11_relu (ReLU)       (None, 9, 9, 512)         0         \n",
            "_________________________________________________________________\n",
            "conv_pad_12 (ZeroPadding2D)  (None, 10, 10, 512)       0         \n",
            "_________________________________________________________________\n",
            "conv_dw_12 (DepthwiseConv2D) (None, 4, 4, 512)         4608      \n",
            "_________________________________________________________________\n",
            "conv_dw_12_bn (BatchNormaliz (None, 4, 4, 512)         2048      \n",
            "_________________________________________________________________\n",
            "conv_dw_12_relu (ReLU)       (None, 4, 4, 512)         0         \n",
            "_________________________________________________________________\n",
            "conv_pw_12 (Conv2D)          (None, 4, 4, 1024)        524288    \n",
            "_________________________________________________________________\n",
            "conv_pw_12_bn (BatchNormaliz (None, 4, 4, 1024)        4096      \n",
            "_________________________________________________________________\n",
            "conv_pw_12_relu (ReLU)       (None, 4, 4, 1024)        0         \n",
            "_________________________________________________________________\n",
            "conv_dw_13 (DepthwiseConv2D) (None, 4, 4, 1024)        9216      \n",
            "_________________________________________________________________\n",
            "conv_dw_13_bn (BatchNormaliz (None, 4, 4, 1024)        4096      \n",
            "_________________________________________________________________\n",
            "conv_dw_13_relu (ReLU)       (None, 4, 4, 1024)        0         \n",
            "_________________________________________________________________\n",
            "conv_pw_13 (Conv2D)          (None, 4, 4, 1024)        1048576   \n",
            "_________________________________________________________________\n",
            "conv_pw_13_bn (BatchNormaliz (None, 4, 4, 1024)        4096      \n",
            "_________________________________________________________________\n",
            "conv_pw_13_relu (ReLU)       (None, 4, 4, 1024)        0         \n",
            "_________________________________________________________________\n",
            "flatten (Flatten)            (None, 16384)             0         \n",
            "_________________________________________________________________\n",
            "dense_10 (Dense)             (None, 4096)              67112960  \n",
            "_________________________________________________________________\n",
            "dense_11 (Dense)             (None, 1072)              4391984   \n",
            "_________________________________________________________________\n",
            "dropout_6 (Dropout)          (None, 1072)              0         \n",
            "_________________________________________________________________\n",
            "dense_12 (Dense)             (None, 21)                22533     \n",
            "=================================================================\n",
            "Total params: 74,756,341\n",
            "Trainable params: 71,527,477\n",
            "Non-trainable params: 3,228,864\n",
            "_________________________________________________________________\n",
            "Epoch 1/100\n",
            "53/53 [==============================] - 19s 322ms/step - loss: 2.4616 - accuracy: 0.3815 - val_loss: 0.6868 - val_accuracy: 0.8238\n",
            "\n",
            "Epoch 00001: accuracy improved from -inf to 0.38155, saving model to bestMobileNetmodel.h5\n",
            "Epoch 2/100\n",
            "53/53 [==============================] - 16s 301ms/step - loss: 0.9143 - accuracy: 0.7119 - val_loss: 0.4060 - val_accuracy: 0.8952\n",
            "\n",
            "Epoch 00002: accuracy improved from 0.38155 to 0.71190, saving model to bestMobileNetmodel.h5\n",
            "Epoch 3/100\n",
            "53/53 [==============================] - 16s 302ms/step - loss: 0.6676 - accuracy: 0.7869 - val_loss: 0.3060 - val_accuracy: 0.9095\n",
            "\n",
            "Epoch 00003: accuracy improved from 0.71190 to 0.78690, saving model to bestMobileNetmodel.h5\n",
            "Epoch 4/100\n",
            "53/53 [==============================] - 16s 302ms/step - loss: 0.5149 - accuracy: 0.8345 - val_loss: 0.2101 - val_accuracy: 0.9381\n",
            "\n",
            "Epoch 00004: accuracy improved from 0.78690 to 0.83452, saving model to bestMobileNetmodel.h5\n",
            "Epoch 5/100\n",
            "53/53 [==============================] - 16s 303ms/step - loss: 0.4484 - accuracy: 0.8595 - val_loss: 0.1534 - val_accuracy: 0.9667\n",
            "\n",
            "Epoch 00005: accuracy improved from 0.83452 to 0.85952, saving model to bestMobileNetmodel.h5\n",
            "Epoch 6/100\n",
            "53/53 [==============================] - 16s 307ms/step - loss: 0.3647 - accuracy: 0.8869 - val_loss: 0.1746 - val_accuracy: 0.9429\n",
            "\n",
            "Epoch 00006: accuracy improved from 0.85952 to 0.88690, saving model to bestMobileNetmodel.h5\n",
            "Epoch 7/100\n",
            "53/53 [==============================] - 16s 307ms/step - loss: 0.3353 - accuracy: 0.8964 - val_loss: 0.1237 - val_accuracy: 0.9571\n",
            "\n",
            "Epoch 00007: accuracy improved from 0.88690 to 0.89643, saving model to bestMobileNetmodel.h5\n",
            "Epoch 8/100\n",
            "53/53 [==============================] - 16s 310ms/step - loss: 0.2999 - accuracy: 0.9077 - val_loss: 0.1136 - val_accuracy: 0.9667\n",
            "\n",
            "Epoch 00008: accuracy improved from 0.89643 to 0.90774, saving model to bestMobileNetmodel.h5\n",
            "Epoch 9/100\n",
            "53/53 [==============================] - 16s 305ms/step - loss: 0.2989 - accuracy: 0.9054 - val_loss: 0.1087 - val_accuracy: 0.9762\n",
            "\n",
            "Epoch 00009: accuracy did not improve from 0.90774\n",
            "Epoch 10/100\n",
            "53/53 [==============================] - 16s 305ms/step - loss: 0.2890 - accuracy: 0.9012 - val_loss: 0.1182 - val_accuracy: 0.9714\n",
            "\n",
            "Epoch 00010: accuracy did not improve from 0.90774\n",
            "Epoch 11/100\n",
            "53/53 [==============================] - 16s 302ms/step - loss: 0.2372 - accuracy: 0.9196 - val_loss: 0.0780 - val_accuracy: 0.9905\n",
            "\n",
            "Epoch 00011: accuracy improved from 0.90774 to 0.91964, saving model to bestMobileNetmodel.h5\n",
            "Epoch 12/100\n",
            "53/53 [==============================] - 16s 297ms/step - loss: 0.2016 - accuracy: 0.9351 - val_loss: 0.0722 - val_accuracy: 0.9810\n",
            "\n",
            "Epoch 00012: accuracy improved from 0.91964 to 0.93512, saving model to bestMobileNetmodel.h5\n",
            "Epoch 13/100\n",
            "53/53 [==============================] - 16s 302ms/step - loss: 0.2104 - accuracy: 0.9315 - val_loss: 0.0918 - val_accuracy: 0.9762\n",
            "\n",
            "Epoch 00013: accuracy did not improve from 0.93512\n",
            "Epoch 14/100\n",
            "53/53 [==============================] - 16s 307ms/step - loss: 0.2238 - accuracy: 0.9280 - val_loss: 0.1178 - val_accuracy: 0.9762\n",
            "\n",
            "Epoch 00014: accuracy did not improve from 0.93512\n",
            "Epoch 15/100\n",
            "53/53 [==============================] - 16s 304ms/step - loss: 0.2022 - accuracy: 0.9345 - val_loss: 0.0751 - val_accuracy: 0.9857\n",
            "\n",
            "Epoch 00015: accuracy did not improve from 0.93512\n",
            "Epoch 16/100\n",
            "53/53 [==============================] - 16s 304ms/step - loss: 0.1951 - accuracy: 0.9339 - val_loss: 0.0805 - val_accuracy: 0.9714\n",
            "\n",
            "Epoch 00016: accuracy did not improve from 0.93512\n",
            "Epoch 17/100\n",
            "53/53 [==============================] - 16s 303ms/step - loss: 0.1804 - accuracy: 0.9357 - val_loss: 0.0818 - val_accuracy: 0.9714\n",
            "\n",
            "Epoch 00017: accuracy improved from 0.93512 to 0.93571, saving model to bestMobileNetmodel.h5\n",
            "Epoch 18/100\n",
            "53/53 [==============================] - 16s 308ms/step - loss: 0.1648 - accuracy: 0.9482 - val_loss: 0.0748 - val_accuracy: 0.9810\n",
            "\n",
            "Epoch 00018: accuracy improved from 0.93571 to 0.94821, saving model to bestMobileNetmodel.h5\n",
            "Epoch 19/100\n",
            "53/53 [==============================] - 16s 309ms/step - loss: 0.1385 - accuracy: 0.9518 - val_loss: 0.0689 - val_accuracy: 0.9762\n",
            "\n",
            "Epoch 00019: accuracy improved from 0.94821 to 0.95179, saving model to bestMobileNetmodel.h5\n",
            "Epoch 20/100\n",
            "53/53 [==============================] - 16s 308ms/step - loss: 0.1403 - accuracy: 0.9542 - val_loss: 0.0636 - val_accuracy: 0.9762\n",
            "\n",
            "Epoch 00020: accuracy improved from 0.95179 to 0.95417, saving model to bestMobileNetmodel.h5\n",
            "Epoch 21/100\n",
            "53/53 [==============================] - 16s 308ms/step - loss: 0.1365 - accuracy: 0.9524 - val_loss: 0.0720 - val_accuracy: 0.9762\n",
            "\n",
            "Epoch 00021: accuracy did not improve from 0.95417\n",
            "Epoch 22/100\n",
            "53/53 [==============================] - 16s 306ms/step - loss: 0.1444 - accuracy: 0.9554 - val_loss: 0.0560 - val_accuracy: 0.9762\n",
            "\n",
            "Epoch 00022: accuracy improved from 0.95417 to 0.95536, saving model to bestMobileNetmodel.h5\n",
            "Epoch 23/100\n",
            "53/53 [==============================] - 16s 308ms/step - loss: 0.1366 - accuracy: 0.9536 - val_loss: 0.0609 - val_accuracy: 0.9762\n",
            "\n",
            "Epoch 00023: accuracy did not improve from 0.95536\n",
            "Epoch 24/100\n",
            "53/53 [==============================] - 17s 310ms/step - loss: 0.1425 - accuracy: 0.9542 - val_loss: 0.0778 - val_accuracy: 0.9810\n",
            "\n",
            "Epoch 00024: accuracy did not improve from 0.95536\n",
            "Epoch 25/100\n",
            "53/53 [==============================] - 17s 312ms/step - loss: 0.1414 - accuracy: 0.9518 - val_loss: 0.0632 - val_accuracy: 0.9810\n",
            "\n",
            "Epoch 00025: accuracy did not improve from 0.95536\n",
            "Epoch 26/100\n",
            "53/53 [==============================] - 17s 320ms/step - loss: 0.1145 - accuracy: 0.9542 - val_loss: 0.0585 - val_accuracy: 0.9810\n",
            "\n",
            "Epoch 00026: accuracy did not improve from 0.95536\n",
            "Epoch 27/100\n",
            "53/53 [==============================] - 17s 321ms/step - loss: 0.1219 - accuracy: 0.9637 - val_loss: 0.0528 - val_accuracy: 0.9857\n",
            "\n",
            "Epoch 00027: accuracy improved from 0.95536 to 0.96369, saving model to bestMobileNetmodel.h5\n",
            "Epoch 28/100\n",
            "53/53 [==============================] - 17s 314ms/step - loss: 0.1243 - accuracy: 0.9607 - val_loss: 0.0646 - val_accuracy: 0.9857\n",
            "\n",
            "Epoch 00028: accuracy did not improve from 0.96369\n",
            "Epoch 29/100\n",
            "53/53 [==============================] - 16s 308ms/step - loss: 0.0994 - accuracy: 0.9661 - val_loss: 0.0580 - val_accuracy: 0.9810\n",
            "\n",
            "Epoch 00029: accuracy improved from 0.96369 to 0.96607, saving model to bestMobileNetmodel.h5\n",
            "Epoch 30/100\n",
            "53/53 [==============================] - 16s 307ms/step - loss: 0.0943 - accuracy: 0.9631 - val_loss: 0.0605 - val_accuracy: 0.9810\n",
            "\n",
            "Epoch 00030: accuracy did not improve from 0.96607\n",
            "Epoch 31/100\n",
            "53/53 [==============================] - 16s 303ms/step - loss: 0.1002 - accuracy: 0.9649 - val_loss: 0.0509 - val_accuracy: 0.9810\n",
            "\n",
            "Epoch 00031: accuracy did not improve from 0.96607\n",
            "Epoch 32/100\n",
            "53/53 [==============================] - 16s 301ms/step - loss: 0.1002 - accuracy: 0.9661 - val_loss: 0.0734 - val_accuracy: 0.9714\n",
            "\n",
            "Epoch 00032: accuracy did not improve from 0.96607\n",
            "Epoch 33/100\n",
            "53/53 [==============================] - 16s 299ms/step - loss: 0.0958 - accuracy: 0.9696 - val_loss: 0.0306 - val_accuracy: 0.9905\n",
            "\n",
            "Epoch 00033: accuracy improved from 0.96607 to 0.96964, saving model to bestMobileNetmodel.h5\n",
            "Epoch 34/100\n",
            "53/53 [==============================] - 16s 305ms/step - loss: 0.1018 - accuracy: 0.9714 - val_loss: 0.0360 - val_accuracy: 0.9905\n",
            "\n",
            "Epoch 00034: accuracy improved from 0.96964 to 0.97143, saving model to bestMobileNetmodel.h5\n",
            "Epoch 35/100\n",
            "53/53 [==============================] - 16s 303ms/step - loss: 0.1056 - accuracy: 0.9619 - val_loss: 0.0250 - val_accuracy: 0.9952\n",
            "\n",
            "Epoch 00035: accuracy did not improve from 0.97143\n",
            "Epoch 36/100\n",
            "53/53 [==============================] - 16s 303ms/step - loss: 0.0807 - accuracy: 0.9756 - val_loss: 0.0244 - val_accuracy: 0.9905\n",
            "\n",
            "Epoch 00036: accuracy improved from 0.97143 to 0.97560, saving model to bestMobileNetmodel.h5\n",
            "Epoch 37/100\n",
            "53/53 [==============================] - 16s 302ms/step - loss: 0.0818 - accuracy: 0.9744 - val_loss: 0.0264 - val_accuracy: 0.9952\n",
            "\n",
            "Epoch 00037: accuracy did not improve from 0.97560\n",
            "Epoch 38/100\n",
            "53/53 [==============================] - 16s 300ms/step - loss: 0.0993 - accuracy: 0.9685 - val_loss: 0.0364 - val_accuracy: 0.9905\n",
            "\n",
            "Epoch 00038: accuracy did not improve from 0.97560\n",
            "Epoch 39/100\n",
            "53/53 [==============================] - 16s 295ms/step - loss: 0.0831 - accuracy: 0.9714 - val_loss: 0.0557 - val_accuracy: 0.9857\n",
            "\n",
            "Epoch 00039: accuracy did not improve from 0.97560\n",
            "Epoch 40/100\n",
            "53/53 [==============================] - 16s 300ms/step - loss: 0.1067 - accuracy: 0.9649 - val_loss: 0.0362 - val_accuracy: 0.9905\n",
            "\n",
            "Epoch 00040: accuracy did not improve from 0.97560\n",
            "Epoch 41/100\n",
            "53/53 [==============================] - 16s 299ms/step - loss: 0.0937 - accuracy: 0.9631 - val_loss: 0.0309 - val_accuracy: 0.9905\n",
            "\n",
            "Epoch 00041: accuracy did not improve from 0.97560\n",
            "Epoch 42/100\n",
            "53/53 [==============================] - 16s 310ms/step - loss: 0.0914 - accuracy: 0.9685 - val_loss: 0.0465 - val_accuracy: 0.9810\n",
            "\n",
            "Epoch 00042: accuracy did not improve from 0.97560\n",
            "Epoch 43/100\n",
            "53/53 [==============================] - 16s 301ms/step - loss: 0.0914 - accuracy: 0.9667 - val_loss: 0.0535 - val_accuracy: 0.9810\n",
            "\n",
            "Epoch 00043: accuracy did not improve from 0.97560\n",
            "Epoch 44/100\n",
            "53/53 [==============================] - 16s 304ms/step - loss: 0.0758 - accuracy: 0.9750 - val_loss: 0.0387 - val_accuracy: 0.9905\n",
            "\n",
            "Epoch 00044: accuracy did not improve from 0.97560\n",
            "Epoch 45/100\n",
            "53/53 [==============================] - 16s 314ms/step - loss: 0.0766 - accuracy: 0.9708 - val_loss: 0.0344 - val_accuracy: 0.9857\n",
            "\n",
            "Epoch 00045: accuracy did not improve from 0.97560\n",
            "Epoch 46/100\n",
            "53/53 [==============================] - 16s 305ms/step - loss: 0.0702 - accuracy: 0.9762 - val_loss: 0.0268 - val_accuracy: 0.9952\n",
            "\n",
            "Epoch 00046: accuracy improved from 0.97560 to 0.97619, saving model to bestMobileNetmodel.h5\n",
            "Epoch 47/100\n",
            "53/53 [==============================] - 17s 311ms/step - loss: 0.0580 - accuracy: 0.9804 - val_loss: 0.0270 - val_accuracy: 0.9905\n",
            "\n",
            "Epoch 00047: accuracy improved from 0.97619 to 0.98036, saving model to bestMobileNetmodel.h5\n",
            "Epoch 48/100\n",
            "53/53 [==============================] - 17s 313ms/step - loss: 0.0759 - accuracy: 0.9726 - val_loss: 0.0325 - val_accuracy: 0.9905\n",
            "\n",
            "Epoch 00048: accuracy did not improve from 0.98036\n",
            "Epoch 49/100\n",
            "53/53 [==============================] - 16s 306ms/step - loss: 0.0682 - accuracy: 0.9774 - val_loss: 0.0402 - val_accuracy: 0.9905\n",
            "\n",
            "Epoch 00049: accuracy did not improve from 0.98036\n",
            "Epoch 50/100\n",
            "53/53 [==============================] - 16s 310ms/step - loss: 0.0491 - accuracy: 0.9833 - val_loss: 0.0469 - val_accuracy: 0.9905\n",
            "\n",
            "Epoch 00050: accuracy improved from 0.98036 to 0.98333, saving model to bestMobileNetmodel.h5\n",
            "Epoch 51/100\n",
            "53/53 [==============================] - 17s 311ms/step - loss: 0.0683 - accuracy: 0.9720 - val_loss: 0.0271 - val_accuracy: 0.9952\n",
            "\n",
            "Epoch 00051: accuracy did not improve from 0.98333\n",
            "Epoch 52/100\n",
            "53/53 [==============================] - 16s 309ms/step - loss: 0.0981 - accuracy: 0.9661 - val_loss: 0.0267 - val_accuracy: 0.9857\n",
            "\n",
            "Epoch 00052: accuracy did not improve from 0.98333\n",
            "Epoch 53/100\n",
            "53/53 [==============================] - 16s 307ms/step - loss: 0.0653 - accuracy: 0.9792 - val_loss: 0.0216 - val_accuracy: 0.9905\n",
            "\n",
            "Epoch 00053: accuracy did not improve from 0.98333\n",
            "Epoch 54/100\n",
            "53/53 [==============================] - 16s 305ms/step - loss: 0.0777 - accuracy: 0.9762 - val_loss: 0.0451 - val_accuracy: 0.9810\n",
            "\n",
            "Epoch 00054: accuracy did not improve from 0.98333\n",
            "Epoch 55/100\n",
            "53/53 [==============================] - 16s 304ms/step - loss: 0.0708 - accuracy: 0.9750 - val_loss: 0.0379 - val_accuracy: 0.9857\n",
            "\n",
            "Epoch 00055: accuracy did not improve from 0.98333\n",
            "Epoch 56/100\n",
            "53/53 [==============================] - 16s 306ms/step - loss: 0.0725 - accuracy: 0.9792 - val_loss: 0.0235 - val_accuracy: 0.9952\n",
            "\n",
            "Epoch 00056: accuracy did not improve from 0.98333\n",
            "Epoch 57/100\n",
            "53/53 [==============================] - 16s 308ms/step - loss: 0.0770 - accuracy: 0.9702 - val_loss: 0.0293 - val_accuracy: 0.9857\n",
            "\n",
            "Epoch 00057: accuracy did not improve from 0.98333\n",
            "Epoch 58/100\n",
            "53/53 [==============================] - 17s 312ms/step - loss: 0.0569 - accuracy: 0.9774 - val_loss: 0.0272 - val_accuracy: 0.9952\n",
            "\n",
            "Epoch 00058: accuracy did not improve from 0.98333\n",
            "Epoch 59/100\n",
            "53/53 [==============================] - 17s 311ms/step - loss: 0.0581 - accuracy: 0.9798 - val_loss: 0.0253 - val_accuracy: 0.9952\n",
            "\n",
            "Epoch 00059: accuracy did not improve from 0.98333\n",
            "Epoch 60/100\n",
            "53/53 [==============================] - 17s 312ms/step - loss: 0.0582 - accuracy: 0.9804 - val_loss: 0.0258 - val_accuracy: 0.9905\n",
            "\n",
            "Epoch 00060: accuracy did not improve from 0.98333\n",
            "Epoch 61/100\n",
            "53/53 [==============================] - 17s 312ms/step - loss: 0.0737 - accuracy: 0.9744 - val_loss: 0.0283 - val_accuracy: 0.9857\n",
            "\n",
            "Epoch 00061: accuracy did not improve from 0.98333\n",
            "Epoch 62/100\n",
            "53/53 [==============================] - 16s 311ms/step - loss: 0.0637 - accuracy: 0.9815 - val_loss: 0.0242 - val_accuracy: 0.9905\n",
            "\n",
            "Epoch 00062: accuracy did not improve from 0.98333\n",
            "Epoch 63/100\n",
            "53/53 [==============================] - 17s 311ms/step - loss: 0.0528 - accuracy: 0.9827 - val_loss: 0.0449 - val_accuracy: 0.9857\n",
            "\n",
            "Epoch 00063: accuracy did not improve from 0.98333\n",
            "Epoch 64/100\n",
            "53/53 [==============================] - 16s 306ms/step - loss: 0.0632 - accuracy: 0.9768 - val_loss: 0.0391 - val_accuracy: 0.9857\n",
            "\n",
            "Epoch 00064: accuracy did not improve from 0.98333\n",
            "Epoch 65/100\n",
            "53/53 [==============================] - 16s 310ms/step - loss: 0.0568 - accuracy: 0.9810 - val_loss: 0.0393 - val_accuracy: 0.9905\n",
            "\n",
            "Epoch 00065: accuracy did not improve from 0.98333\n",
            "Epoch 66/100\n",
            "53/53 [==============================] - 16s 306ms/step - loss: 0.0827 - accuracy: 0.9673 - val_loss: 0.0737 - val_accuracy: 0.9762\n",
            "\n",
            "Epoch 00066: accuracy did not improve from 0.98333\n",
            "Epoch 67/100\n",
            "53/53 [==============================] - 16s 307ms/step - loss: 0.0615 - accuracy: 0.9762 - val_loss: 0.0422 - val_accuracy: 0.9857\n",
            "\n",
            "Epoch 00067: accuracy did not improve from 0.98333\n",
            "Epoch 68/100\n",
            "53/53 [==============================] - 16s 307ms/step - loss: 0.0620 - accuracy: 0.9851 - val_loss: 0.0340 - val_accuracy: 0.9810\n",
            "\n",
            "Epoch 00068: accuracy improved from 0.98333 to 0.98512, saving model to bestMobileNetmodel.h5\n",
            "Epoch 69/100\n",
            "53/53 [==============================] - 16s 307ms/step - loss: 0.0429 - accuracy: 0.9845 - val_loss: 0.0254 - val_accuracy: 0.9952\n",
            "\n",
            "Epoch 00069: accuracy did not improve from 0.98512\n",
            "Epoch 70/100\n",
            "53/53 [==============================] - 16s 306ms/step - loss: 0.0670 - accuracy: 0.9774 - val_loss: 0.0356 - val_accuracy: 0.9810\n",
            "\n",
            "Epoch 00070: accuracy did not improve from 0.98512\n",
            "Epoch 71/100\n",
            "53/53 [==============================] - 16s 310ms/step - loss: 0.0573 - accuracy: 0.9786 - val_loss: 0.0363 - val_accuracy: 0.9810\n",
            "\n",
            "Epoch 00071: accuracy did not improve from 0.98512\n",
            "Epoch 72/100\n",
            "53/53 [==============================] - 16s 310ms/step - loss: 0.0418 - accuracy: 0.9851 - val_loss: 0.0274 - val_accuracy: 0.9857\n",
            "\n",
            "Epoch 00072: accuracy did not improve from 0.98512\n",
            "Epoch 73/100\n",
            "53/53 [==============================] - 17s 312ms/step - loss: 0.0509 - accuracy: 0.9863 - val_loss: 0.0199 - val_accuracy: 0.9952\n",
            "\n",
            "Epoch 00073: accuracy improved from 0.98512 to 0.98631, saving model to bestMobileNetmodel.h5\n",
            "Epoch 74/100\n",
            "53/53 [==============================] - 16s 306ms/step - loss: 0.0640 - accuracy: 0.9804 - val_loss: 0.0386 - val_accuracy: 0.9810\n",
            "\n",
            "Epoch 00074: accuracy did not improve from 0.98631\n",
            "Epoch 75/100\n",
            "53/53 [==============================] - 16s 305ms/step - loss: 0.0585 - accuracy: 0.9774 - val_loss: 0.0384 - val_accuracy: 0.9905\n",
            "\n",
            "Epoch 00075: accuracy did not improve from 0.98631\n",
            "Epoch 76/100\n",
            "53/53 [==============================] - 16s 305ms/step - loss: 0.0585 - accuracy: 0.9780 - val_loss: 0.0378 - val_accuracy: 0.9857\n",
            "\n",
            "Epoch 00076: accuracy did not improve from 0.98631\n",
            "Epoch 77/100\n",
            "53/53 [==============================] - 16s 308ms/step - loss: 0.0718 - accuracy: 0.9762 - val_loss: 0.0371 - val_accuracy: 0.9905\n",
            "\n",
            "Epoch 00077: accuracy did not improve from 0.98631\n",
            "Epoch 78/100\n",
            "53/53 [==============================] - 16s 303ms/step - loss: 0.0531 - accuracy: 0.9827 - val_loss: 0.0186 - val_accuracy: 0.9905\n",
            "\n",
            "Epoch 00078: accuracy did not improve from 0.98631\n",
            "Epoch 79/100\n",
            "53/53 [==============================] - 16s 310ms/step - loss: 0.0531 - accuracy: 0.9827 - val_loss: 0.0341 - val_accuracy: 0.9905\n",
            "\n",
            "Epoch 00079: accuracy did not improve from 0.98631\n",
            "Epoch 80/100\n",
            "53/53 [==============================] - 16s 306ms/step - loss: 0.0498 - accuracy: 0.9839 - val_loss: 0.0209 - val_accuracy: 0.9952\n",
            "\n",
            "Epoch 00080: accuracy did not improve from 0.98631\n",
            "Epoch 81/100\n",
            "53/53 [==============================] - 16s 308ms/step - loss: 0.0778 - accuracy: 0.9768 - val_loss: 0.0335 - val_accuracy: 0.9905\n",
            "\n",
            "Epoch 00081: accuracy did not improve from 0.98631\n",
            "Epoch 82/100\n",
            "53/53 [==============================] - 16s 303ms/step - loss: 0.0513 - accuracy: 0.9821 - val_loss: 0.0269 - val_accuracy: 0.9905\n",
            "\n",
            "Epoch 00082: accuracy did not improve from 0.98631\n",
            "Epoch 83/100\n",
            "53/53 [==============================] - 16s 304ms/step - loss: 0.0450 - accuracy: 0.9851 - val_loss: 0.0233 - val_accuracy: 0.9905\n",
            "\n",
            "Epoch 00083: accuracy did not improve from 0.98631\n",
            "Epoch 84/100\n",
            "53/53 [==============================] - 16s 306ms/step - loss: 0.0484 - accuracy: 0.9839 - val_loss: 0.0530 - val_accuracy: 0.9857\n",
            "\n",
            "Epoch 00084: accuracy did not improve from 0.98631\n",
            "Epoch 85/100\n",
            "53/53 [==============================] - 16s 310ms/step - loss: 0.0443 - accuracy: 0.9857 - val_loss: 0.0351 - val_accuracy: 0.9952\n",
            "\n",
            "Epoch 00085: accuracy did not improve from 0.98631\n",
            "Epoch 86/100\n",
            "53/53 [==============================] - 16s 307ms/step - loss: 0.0524 - accuracy: 0.9798 - val_loss: 0.0310 - val_accuracy: 0.9905\n",
            "\n",
            "Epoch 00086: accuracy did not improve from 0.98631\n",
            "Epoch 87/100\n",
            "53/53 [==============================] - 16s 308ms/step - loss: 0.0559 - accuracy: 0.9786 - val_loss: 0.0492 - val_accuracy: 0.9857\n",
            "\n",
            "Epoch 00087: accuracy did not improve from 0.98631\n",
            "Epoch 88/100\n",
            "53/53 [==============================] - 16s 303ms/step - loss: 0.0637 - accuracy: 0.9768 - val_loss: 0.0448 - val_accuracy: 0.9762\n",
            "\n",
            "Epoch 00088: accuracy did not improve from 0.98631\n",
            "Epoch 89/100\n",
            "53/53 [==============================] - 16s 300ms/step - loss: 0.0277 - accuracy: 0.9905 - val_loss: 0.0355 - val_accuracy: 0.9810\n",
            "\n",
            "Epoch 00089: accuracy improved from 0.98631 to 0.99048, saving model to bestMobileNetmodel.h5\n",
            "Epoch 90/100\n",
            "53/53 [==============================] - 16s 305ms/step - loss: 0.0432 - accuracy: 0.9869 - val_loss: 0.0294 - val_accuracy: 0.9857\n",
            "\n",
            "Epoch 00090: accuracy did not improve from 0.99048\n",
            "Epoch 91/100\n",
            "53/53 [==============================] - 16s 305ms/step - loss: 0.0467 - accuracy: 0.9815 - val_loss: 0.0207 - val_accuracy: 0.9905\n",
            "\n",
            "Epoch 00091: accuracy did not improve from 0.99048\n",
            "Epoch 92/100\n",
            "53/53 [==============================] - 16s 307ms/step - loss: 0.0319 - accuracy: 0.9899 - val_loss: 0.0255 - val_accuracy: 0.9905\n",
            "\n",
            "Epoch 00092: accuracy did not improve from 0.99048\n",
            "Epoch 93/100\n",
            "53/53 [==============================] - 16s 307ms/step - loss: 0.0404 - accuracy: 0.9863 - val_loss: 0.0127 - val_accuracy: 1.0000\n",
            "\n",
            "Epoch 00093: accuracy did not improve from 0.99048\n",
            "Epoch 94/100\n",
            "53/53 [==============================] - 16s 306ms/step - loss: 0.0304 - accuracy: 0.9893 - val_loss: 0.0203 - val_accuracy: 0.9905\n",
            "\n",
            "Epoch 00094: accuracy did not improve from 0.99048\n",
            "Epoch 95/100\n",
            "53/53 [==============================] - 16s 309ms/step - loss: 0.0594 - accuracy: 0.9815 - val_loss: 0.0305 - val_accuracy: 0.9905\n",
            "\n",
            "Epoch 00095: accuracy did not improve from 0.99048\n",
            "Epoch 96/100\n",
            "53/53 [==============================] - 16s 313ms/step - loss: 0.0415 - accuracy: 0.9863 - val_loss: 0.0254 - val_accuracy: 0.9905\n",
            "\n",
            "Epoch 00096: accuracy did not improve from 0.99048\n",
            "Epoch 97/100\n",
            "53/53 [==============================] - 16s 310ms/step - loss: 0.0375 - accuracy: 0.9869 - val_loss: 0.0123 - val_accuracy: 0.9952\n",
            "\n",
            "Epoch 00097: accuracy did not improve from 0.99048\n",
            "Epoch 98/100\n",
            "53/53 [==============================] - 16s 310ms/step - loss: 0.0405 - accuracy: 0.9875 - val_loss: 0.0152 - val_accuracy: 1.0000\n",
            "\n",
            "Epoch 00098: accuracy did not improve from 0.99048\n",
            "Epoch 99/100\n",
            "53/53 [==============================] - 16s 308ms/step - loss: 0.0413 - accuracy: 0.9827 - val_loss: 0.0138 - val_accuracy: 0.9952\n",
            "\n",
            "Epoch 00099: accuracy did not improve from 0.99048\n",
            "Epoch 100/100\n",
            "53/53 [==============================] - 16s 309ms/step - loss: 0.0405 - accuracy: 0.9827 - val_loss: 0.0223 - val_accuracy: 0.9905\n",
            "\n",
            "Epoch 00100: accuracy did not improve from 0.99048\n"
          ]
        }
      ]
    },
    {
      "cell_type": "markdown",
      "metadata": {
        "id": "cBpE_Q7mSanP"
      },
      "source": [
        "###9.2 Plot Model Accuracy and Loss"
      ]
    },
    {
      "cell_type": "markdown",
      "metadata": {
        "id": "3rGlwaYlh0zr"
      },
      "source": [
        "Check the plot of accuracy and loss from the model during training"
      ]
    },
    {
      "cell_type": "code",
      "metadata": {
        "colab": {
          "base_uri": "https://localhost:8080/",
          "height": 545
        },
        "id": "7Ad5tlEG7cEL",
        "outputId": "6d577161-bcea-491c-dd13-60e0fc0b617e"
      },
      "source": [
        "acc = history.history['accuracy']\n",
        "val_acc = history.history['val_accuracy']\n",
        "loss = history.history['loss']\n",
        "val_loss = history.history['val_loss']\n",
        "plt.plot(acc, label='Training acc')\n",
        "plt.plot(val_acc, label='Validation acc')\n",
        "plt.title('Training and validation accuracy')\n",
        "plt.legend()\n",
        "plt.figure()\n",
        "plt.plot(loss, label='Training loss')\n",
        "plt.plot(val_loss, label='Validation loss')\n",
        "plt.title('Training and validation loss')\n",
        "plt.legend()\n",
        "plt.show()"
      ],
      "execution_count": 35,
      "outputs": [
        {
          "output_type": "display_data",
          "data": {
            "image/png": "[encoded data removed]",
            "text/plain": [
              "<Figure size 432x288 with 1 Axes>"
            ]
          },
          "metadata": {
            "needs_background": "light"
          }
        },
        {
          "output_type": "display_data",
          "data": {
            "image/png": "[encoded data removed]",
            "text/plain": [
              "<Figure size 432x288 with 1 Axes>"
            ]
          },
          "metadata": {
            "needs_background": "light"
          }
        }
      ]
    },
    {
      "cell_type": "markdown",
      "metadata": {
        "id": "RmzV3xggh4_K"
      },
      "source": [
        "The model is very good and no-overfitting"
      ]
    },
    {
      "cell_type": "markdown",
      "metadata": {
        "id": "Sibxm5tCSdZq"
      },
      "source": [
        "###9.3 Evaluate Model Performance"
      ]
    },
    {
      "cell_type": "markdown",
      "metadata": {
        "id": "1Z_2-9jyh-Cg"
      },
      "source": [
        "Evaluate the model with test dataset that the model never seen before."
      ]
    },
    {
      "cell_type": "code",
      "metadata": {
        "colab": {
          "base_uri": "https://localhost:8080/"
        },
        "id": "PwzDmNqtYC-9",
        "outputId": "69b77b43-370b-4763-f8e8-68979a129551"
      },
      "source": [
        "model = tf.keras.models.load_model(\"bestMobileNetmodel.h5\")\n",
        "akurasi = model.evaluate(test_generator)\n",
        "model.save(f\"/content/drive/Shareddrives/Data/Model Land Use/model_MobileNet Acc:{akurasi[1]}.h5\")"
      ],
      "execution_count": 36,
      "outputs": [
        {
          "output_type": "stream",
          "name": "stdout",
          "text": [
            "210/210 [==============================] - 4s 13ms/step - loss: 0.0288 - accuracy: 0.9905\n"
          ]
        }
      ]
    },
    {
      "cell_type": "code",
      "metadata": {
        "colab": {
          "base_uri": "https://localhost:8080/"
        },
        "id": "LJhvmX5_YCjM",
        "outputId": "30d2f856-9763-44c6-db95-98e2e6411e67"
      },
      "source": [
        "y_pred = model.predict(X_test)\n",
        "y_pred_class = [np.argmax(y) for y in y_pred]\n",
        "print(classification_report(y_test_class, y_pred_class))"
      ],
      "execution_count": 37,
      "outputs": [
        {
          "output_type": "stream",
          "name": "stdout",
          "text": [
            "              precision    recall  f1-score   support\n",
            "\n",
            "           0       1.00      1.00      1.00        10\n",
            "           1       1.00      1.00      1.00        10\n",
            "           2       1.00      1.00      1.00        10\n",
            "           3       1.00      1.00      1.00        10\n",
            "           4       0.91      1.00      0.95        10\n",
            "           5       1.00      1.00      1.00        10\n",
            "           6       1.00      1.00      1.00        10\n",
            "           7       1.00      1.00      1.00        10\n",
            "           8       1.00      1.00      1.00        10\n",
            "           9       1.00      1.00      1.00        10\n",
            "          10       1.00      1.00      1.00        10\n",
            "          11       1.00      1.00      1.00        10\n",
            "          12       1.00      1.00      1.00        10\n",
            "          13       1.00      1.00      1.00        10\n",
            "          14       1.00      0.90      0.95        10\n",
            "          15       1.00      1.00      1.00        10\n",
            "          16       1.00      1.00      1.00        10\n",
            "          17       1.00      1.00      1.00        10\n",
            "          18       1.00      1.00      1.00        10\n",
            "          19       1.00      1.00      1.00        10\n",
            "          20       0.90      0.90      0.90        10\n",
            "\n",
            "    accuracy                           0.99       210\n",
            "   macro avg       0.99      0.99      0.99       210\n",
            "weighted avg       0.99      0.99      0.99       210\n",
            "\n"
          ]
        }
      ]
    },
    {
      "cell_type": "markdown",
      "metadata": {
        "id": "7RvbaflpSjca"
      },
      "source": [
        "###9.4 Plot Confusion Matrix"
      ]
    },
    {
      "cell_type": "markdown",
      "metadata": {
        "id": "G43cddSIiAvH"
      },
      "source": [
        "Plot the confusion matrix to see where the model successfully predicts and fails to predict"
      ]
    },
    {
      "cell_type": "code",
      "metadata": {
        "colab": {
          "base_uri": "https://localhost:8080/",
          "height": 1000
        },
        "id": "vLDYRmgjSixf",
        "outputId": "f56d2098-5ed1-4215-a43b-91844744428e"
      },
      "source": [
        "y_pred = model.predict(X_test)\n",
        "y_pred_class = [np.argmax(y) for y in y_pred]\n",
        "cnf_mat = confusion_matrix(y_test_class, y_pred_class)\n",
        "np.set_printoptions(precision=2)\n",
        "\n",
        "plt.figure()\n",
        "plot_confusion_matrix(cnf_mat, classes=labels)\n",
        "plt.grid(None)\n",
        "plt.show();"
      ],
      "execution_count": 38,
      "outputs": [
        {
          "output_type": "display_data",
          "data": {
            "text/plain": [
              "<Figure size 432x288 with 0 Axes>"
            ]
          },
          "metadata": {}
        },
        {
          "output_type": "display_data",
          "data": {
            "image/png": "[encoded data removed]",
            "text/plain": [
              "<Figure size 1440x1440 with 2 Axes>"
            ]
          },
          "metadata": {
            "needs_background": "light"
          }
        }
      ]
    },
    {
      "cell_type": "markdown",
      "metadata": {
        "id": "hgQW7VR_iDEU"
      },
      "source": [
        "The model perform very good with 99% accuracy on the test set and succesfully predict 100% on most classes and only fail in overpass and tenniscourt classes but still with 90% accuracy on both class"
      ]
    },
    {
      "cell_type": "markdown",
      "metadata": {
        "id": "CfCH_8hC3qs6"
      },
      "source": [
        "##10. Transfer Learning with InceptionV3"
      ]
    },
    {
      "cell_type": "markdown",
      "metadata": {
        "id": "PpfvSeKPibyI"
      },
      "source": [
        "We try to increase model performance using transfer learning with InceptionV3 as pretrained model"
      ]
    },
    {
      "cell_type": "markdown",
      "metadata": {
        "id": "QUIJzlArSy-T"
      },
      "source": [
        "###10.1 Build Model with Pretrained Model as Feature Extractor"
      ]
    },
    {
      "cell_type": "markdown",
      "metadata": {
        "id": "vnMPGQM_ifgK"
      },
      "source": [
        "Build model with pretrained model on top of the model (as feature extractor) and add some fully connected layer to adjust to the data we want to predict"
      ]
    },
    {
      "cell_type": "code",
      "metadata": {
        "colab": {
          "base_uri": "https://localhost:8080/"
        },
        "id": "78FFgP773va5",
        "outputId": "44a0d387-fc73-48ec-9bc2-c5f940aa3d39"
      },
      "source": [
        "from keras.applications.inception_v3 import InceptionV3\n",
        "inc = InceptionV3(input_shape=(150, 150, 3),\n",
        "                                    include_top=False)\n",
        "\n",
        "for layer in inc.layers:\n",
        "    layer.trainable = False\n",
        "\n",
        "top_model = inc.output\n",
        "top_model = tf.keras.layers.Flatten(name=\"flatten\")(top_model)\n",
        "top_model = tf.keras.layers.Dense(4096, activation='relu')(top_model)\n",
        "top_model = tf.keras.layers.Dense(1072, activation='relu')(top_model)\n",
        "top_model = tf.keras.layers.Dropout(0.5)(top_model)\n",
        "output_layer = tf.keras.layers.Dense(21, activation='softmax')(top_model)\n",
        "    \n",
        "# Group the convolutional base and new fully-connected layers into a Model object.\n",
        "model = Model(inputs=inc.input, outputs=output_layer)\n",
        "\n",
        "# Compiles the model for training.\n",
        "model.compile(optimizer=Adam(learning_rate=2e-5), \n",
        "              loss='categorical_crossentropy',\n",
        "              metrics=['accuracy'])\n",
        "\n",
        "model.summary()\n",
        "history = model.fit(\n",
        "    train_generator,\n",
        "    epochs=100,\n",
        "    batch_size=32,\n",
        "    validation_data=validation_generator,\n",
        "    callbacks=[\n",
        "            ModelCheckpoint(\n",
        "                filepath='bestInceptionmodel.h5',\n",
        "                monitor='accuracy',\n",
        "                mode='max',\n",
        "                save_best_only=True,\n",
        "                save_weights_only=False,\n",
        "                verbose=1\n",
        "            )\n",
        "        ])\n",
        "\n",
        "#model.save(f\"/content/drive/Shareddrives/Data/Model Land Use/model_Inception Acc:{history.history['accuracy'][-1]}.h5\")"
      ],
      "execution_count": 39,
      "outputs": [
        {
          "output_type": "stream",
          "name": "stdout",
          "text": [
            "Downloading data from https://storage.googleapis.com/tensorflow/keras-applications/inception_v3/inception_v3_weights_tf_dim_ordering_tf_kernels_notop.h5\n",
            "87916544/87910968 [==============================] - 1s 0us/step\n",
            "87924736/87910968 [==============================] - 1s 0us/step\n",
            "Model: \"model_3\"\n",
            "__________________________________________________________________________________________________\n",
            "Layer (type)                    Output Shape         Param #     Connected to                     \n",
            "==================================================================================================\n",
            "input_3 (InputLayer)            [(None, 150, 150, 3) 0                                            \n",
            "__________________________________________________________________________________________________\n",
            "conv2d_4 (Conv2D)               (None, 74, 74, 32)   864         input_3[0][0]                    \n",
            "__________________________________________________________________________________________________\n",
            "batch_normalization (BatchNorma (None, 74, 74, 32)   96          conv2d_4[0][0]                   \n",
            "__________________________________________________________________________________________________\n",
            "activation (Activation)         (None, 74, 74, 32)   0           batch_normalization[0][0]        \n",
            "__________________________________________________________________________________________________\n",
            "conv2d_5 (Conv2D)               (None, 72, 72, 32)   9216        activation[0][0]                 \n",
            "__________________________________________________________________________________________________\n",
            "batch_normalization_1 (BatchNor (None, 72, 72, 32)   96          conv2d_5[0][0]                   \n",
            "__________________________________________________________________________________________________\n",
            "activation_1 (Activation)       (None, 72, 72, 32)   0           batch_normalization_1[0][0]      \n",
            "__________________________________________________________________________________________________\n",
            "conv2d_6 (Conv2D)               (None, 72, 72, 64)   18432       activation_1[0][0]               \n",
            "__________________________________________________________________________________________________\n",
            "batch_normalization_2 (BatchNor (None, 72, 72, 64)   192         conv2d_6[0][0]                   \n",
            "__________________________________________________________________________________________________\n",
            "activation_2 (Activation)       (None, 72, 72, 64)   0           batch_normalization_2[0][0]      \n",
            "__________________________________________________________________________________________________\n",
            "max_pooling2d_4 (MaxPooling2D)  (None, 35, 35, 64)   0           activation_2[0][0]               \n",
            "__________________________________________________________________________________________________\n",
            "conv2d_7 (Conv2D)               (None, 35, 35, 80)   5120        max_pooling2d_4[0][0]            \n",
            "__________________________________________________________________________________________________\n",
            "batch_normalization_3 (BatchNor (None, 35, 35, 80)   240         conv2d_7[0][0]                   \n",
            "__________________________________________________________________________________________________\n",
            "activation_3 (Activation)       (None, 35, 35, 80)   0           batch_normalization_3[0][0]      \n",
            "__________________________________________________________________________________________________\n",
            "conv2d_8 (Conv2D)               (None, 33, 33, 192)  138240      activation_3[0][0]               \n",
            "__________________________________________________________________________________________________\n",
            "batch_normalization_4 (BatchNor (None, 33, 33, 192)  576         conv2d_8[0][0]                   \n",
            "__________________________________________________________________________________________________\n",
            "activation_4 (Activation)       (None, 33, 33, 192)  0           batch_normalization_4[0][0]      \n",
            "__________________________________________________________________________________________________\n",
            "max_pooling2d_5 (MaxPooling2D)  (None, 16, 16, 192)  0           activation_4[0][0]               \n",
            "__________________________________________________________________________________________________\n",
            "conv2d_12 (Conv2D)              (None, 16, 16, 64)   12288       max_pooling2d_5[0][0]            \n",
            "__________________________________________________________________________________________________\n",
            "batch_normalization_8 (BatchNor (None, 16, 16, 64)   192         conv2d_12[0][0]                  \n",
            "__________________________________________________________________________________________________\n",
            "activation_8 (Activation)       (None, 16, 16, 64)   0           batch_normalization_8[0][0]      \n",
            "__________________________________________________________________________________________________\n",
            "conv2d_10 (Conv2D)              (None, 16, 16, 48)   9216        max_pooling2d_5[0][0]            \n",
            "__________________________________________________________________________________________________\n",
            "conv2d_13 (Conv2D)              (None, 16, 16, 96)   55296       activation_8[0][0]               \n",
            "__________________________________________________________________________________________________\n",
            "batch_normalization_6 (BatchNor (None, 16, 16, 48)   144         conv2d_10[0][0]                  \n",
            "__________________________________________________________________________________________________\n",
            "batch_normalization_9 (BatchNor (None, 16, 16, 96)   288         conv2d_13[0][0]                  \n",
            "__________________________________________________________________________________________________\n",
            "activation_6 (Activation)       (None, 16, 16, 48)   0           batch_normalization_6[0][0]      \n",
            "__________________________________________________________________________________________________\n",
            "activation_9 (Activation)       (None, 16, 16, 96)   0           batch_normalization_9[0][0]      \n",
            "__________________________________________________________________________________________________\n",
            "average_pooling2d (AveragePooli (None, 16, 16, 192)  0           max_pooling2d_5[0][0]            \n",
            "__________________________________________________________________________________________________\n",
            "conv2d_9 (Conv2D)               (None, 16, 16, 64)   12288       max_pooling2d_5[0][0]            \n",
            "__________________________________________________________________________________________________\n",
            "conv2d_11 (Conv2D)              (None, 16, 16, 64)   76800       activation_6[0][0]               \n",
            "__________________________________________________________________________________________________\n",
            "conv2d_14 (Conv2D)              (None, 16, 16, 96)   82944       activation_9[0][0]               \n",
            "__________________________________________________________________________________________________\n",
            "conv2d_15 (Conv2D)              (None, 16, 16, 32)   6144        average_pooling2d[0][0]          \n",
            "__________________________________________________________________________________________________\n",
            "batch_normalization_5 (BatchNor (None, 16, 16, 64)   192         conv2d_9[0][0]                   \n",
            "__________________________________________________________________________________________________\n",
            "batch_normalization_7 (BatchNor (None, 16, 16, 64)   192         conv2d_11[0][0]                  \n",
            "__________________________________________________________________________________________________\n",
            "batch_normalization_10 (BatchNo (None, 16, 16, 96)   288         conv2d_14[0][0]                  \n",
            "__________________________________________________________________________________________________\n",
            "batch_normalization_11 (BatchNo (None, 16, 16, 32)   96          conv2d_15[0][0]                  \n",
            "__________________________________________________________________________________________________\n",
            "activation_5 (Activation)       (None, 16, 16, 64)   0           batch_normalization_5[0][0]      \n",
            "__________________________________________________________________________________________________\n",
            "activation_7 (Activation)       (None, 16, 16, 64)   0           batch_normalization_7[0][0]      \n",
            "__________________________________________________________________________________________________\n",
            "activation_10 (Activation)      (None, 16, 16, 96)   0           batch_normalization_10[0][0]     \n",
            "__________________________________________________________________________________________________\n",
            "activation_11 (Activation)      (None, 16, 16, 32)   0           batch_normalization_11[0][0]     \n",
            "__________________________________________________________________________________________________\n",
            "mixed0 (Concatenate)            (None, 16, 16, 256)  0           activation_5[0][0]               \n",
            "                                                                 activation_7[0][0]               \n",
            "                                                                 activation_10[0][0]              \n",
            "                                                                 activation_11[0][0]              \n",
            "__________________________________________________________________________________________________\n",
            "conv2d_19 (Conv2D)              (None, 16, 16, 64)   16384       mixed0[0][0]                     \n",
            "__________________________________________________________________________________________________\n",
            "batch_normalization_15 (BatchNo (None, 16, 16, 64)   192         conv2d_19[0][0]                  \n",
            "__________________________________________________________________________________________________\n",
            "activation_15 (Activation)      (None, 16, 16, 64)   0           batch_normalization_15[0][0]     \n",
            "__________________________________________________________________________________________________\n",
            "conv2d_17 (Conv2D)              (None, 16, 16, 48)   12288       mixed0[0][0]                     \n",
            "__________________________________________________________________________________________________\n",
            "conv2d_20 (Conv2D)              (None, 16, 16, 96)   55296       activation_15[0][0]              \n",
            "__________________________________________________________________________________________________\n",
            "batch_normalization_13 (BatchNo (None, 16, 16, 48)   144         conv2d_17[0][0]                  \n",
            "__________________________________________________________________________________________________\n",
            "batch_normalization_16 (BatchNo (None, 16, 16, 96)   288         conv2d_20[0][0]                  \n",
            "__________________________________________________________________________________________________\n",
            "activation_13 (Activation)      (None, 16, 16, 48)   0           batch_normalization_13[0][0]     \n",
            "__________________________________________________________________________________________________\n",
            "activation_16 (Activation)      (None, 16, 16, 96)   0           batch_normalization_16[0][0]     \n",
            "__________________________________________________________________________________________________\n",
            "average_pooling2d_1 (AveragePoo (None, 16, 16, 256)  0           mixed0[0][0]                     \n",
            "__________________________________________________________________________________________________\n",
            "conv2d_16 (Conv2D)              (None, 16, 16, 64)   16384       mixed0[0][0]                     \n",
            "__________________________________________________________________________________________________\n",
            "conv2d_18 (Conv2D)              (None, 16, 16, 64)   76800       activation_13[0][0]              \n",
            "__________________________________________________________________________________________________\n",
            "conv2d_21 (Conv2D)              (None, 16, 16, 96)   82944       activation_16[0][0]              \n",
            "__________________________________________________________________________________________________\n",
            "conv2d_22 (Conv2D)              (None, 16, 16, 64)   16384       average_pooling2d_1[0][0]        \n",
            "__________________________________________________________________________________________________\n",
            "batch_normalization_12 (BatchNo (None, 16, 16, 64)   192         conv2d_16[0][0]                  \n",
            "__________________________________________________________________________________________________\n",
            "batch_normalization_14 (BatchNo (None, 16, 16, 64)   192         conv2d_18[0][0]                  \n",
            "__________________________________________________________________________________________________\n",
            "batch_normalization_17 (BatchNo (None, 16, 16, 96)   288         conv2d_21[0][0]                  \n",
            "__________________________________________________________________________________________________\n",
            "batch_normalization_18 (BatchNo (None, 16, 16, 64)   192         conv2d_22[0][0]                  \n",
            "__________________________________________________________________________________________________\n",
            "activation_12 (Activation)      (None, 16, 16, 64)   0           batch_normalization_12[0][0]     \n",
            "__________________________________________________________________________________________________\n",
            "activation_14 (Activation)      (None, 16, 16, 64)   0           batch_normalization_14[0][0]     \n",
            "__________________________________________________________________________________________________\n",
            "activation_17 (Activation)      (None, 16, 16, 96)   0           batch_normalization_17[0][0]     \n",
            "__________________________________________________________________________________________________\n",
            "activation_18 (Activation)      (None, 16, 16, 64)   0           batch_normalization_18[0][0]     \n",
            "__________________________________________________________________________________________________\n",
            "mixed1 (Concatenate)            (None, 16, 16, 288)  0           activation_12[0][0]              \n",
            "                                                                 activation_14[0][0]              \n",
            "                                                                 activation_17[0][0]              \n",
            "                                                                 activation_18[0][0]              \n",
            "__________________________________________________________________________________________________\n",
            "conv2d_26 (Conv2D)              (None, 16, 16, 64)   18432       mixed1[0][0]                     \n",
            "__________________________________________________________________________________________________\n",
            "batch_normalization_22 (BatchNo (None, 16, 16, 64)   192         conv2d_26[0][0]                  \n",
            "__________________________________________________________________________________________________\n",
            "activation_22 (Activation)      (None, 16, 16, 64)   0           batch_normalization_22[0][0]     \n",
            "__________________________________________________________________________________________________\n",
            "conv2d_24 (Conv2D)              (None, 16, 16, 48)   13824       mixed1[0][0]                     \n",
            "__________________________________________________________________________________________________\n",
            "conv2d_27 (Conv2D)              (None, 16, 16, 96)   55296       activation_22[0][0]              \n",
            "__________________________________________________________________________________________________\n",
            "batch_normalization_20 (BatchNo (None, 16, 16, 48)   144         conv2d_24[0][0]                  \n",
            "__________________________________________________________________________________________________\n",
            "batch_normalization_23 (BatchNo (None, 16, 16, 96)   288         conv2d_27[0][0]                  \n",
            "__________________________________________________________________________________________________\n",
            "activation_20 (Activation)      (None, 16, 16, 48)   0           batch_normalization_20[0][0]     \n",
            "__________________________________________________________________________________________________\n",
            "activation_23 (Activation)      (None, 16, 16, 96)   0           batch_normalization_23[0][0]     \n",
            "__________________________________________________________________________________________________\n",
            "average_pooling2d_2 (AveragePoo (None, 16, 16, 288)  0           mixed1[0][0]                     \n",
            "__________________________________________________________________________________________________\n",
            "conv2d_23 (Conv2D)              (None, 16, 16, 64)   18432       mixed1[0][0]                     \n",
            "__________________________________________________________________________________________________\n",
            "conv2d_25 (Conv2D)              (None, 16, 16, 64)   76800       activation_20[0][0]              \n",
            "__________________________________________________________________________________________________\n",
            "conv2d_28 (Conv2D)              (None, 16, 16, 96)   82944       activation_23[0][0]              \n",
            "__________________________________________________________________________________________________\n",
            "conv2d_29 (Conv2D)              (None, 16, 16, 64)   18432       average_pooling2d_2[0][0]        \n",
            "__________________________________________________________________________________________________\n",
            "batch_normalization_19 (BatchNo (None, 16, 16, 64)   192         conv2d_23[0][0]                  \n",
            "__________________________________________________________________________________________________\n",
            "batch_normalization_21 (BatchNo (None, 16, 16, 64)   192         conv2d_25[0][0]                  \n",
            "__________________________________________________________________________________________________\n",
            "batch_normalization_24 (BatchNo (None, 16, 16, 96)   288         conv2d_28[0][0]                  \n",
            "__________________________________________________________________________________________________\n",
            "batch_normalization_25 (BatchNo (None, 16, 16, 64)   192         conv2d_29[0][0]                  \n",
            "__________________________________________________________________________________________________\n",
            "activation_19 (Activation)      (None, 16, 16, 64)   0           batch_normalization_19[0][0]     \n",
            "__________________________________________________________________________________________________\n",
            "activation_21 (Activation)      (None, 16, 16, 64)   0           batch_normalization_21[0][0]     \n",
            "__________________________________________________________________________________________________\n",
            "activation_24 (Activation)      (None, 16, 16, 96)   0           batch_normalization_24[0][0]     \n",
            "__________________________________________________________________________________________________\n",
            "activation_25 (Activation)      (None, 16, 16, 64)   0           batch_normalization_25[0][0]     \n",
            "__________________________________________________________________________________________________\n",
            "mixed2 (Concatenate)            (None, 16, 16, 288)  0           activation_19[0][0]              \n",
            "                                                                 activation_21[0][0]              \n",
            "                                                                 activation_24[0][0]              \n",
            "                                                                 activation_25[0][0]              \n",
            "__________________________________________________________________________________________________\n",
            "conv2d_31 (Conv2D)              (None, 16, 16, 64)   18432       mixed2[0][0]                     \n",
            "__________________________________________________________________________________________________\n",
            "batch_normalization_27 (BatchNo (None, 16, 16, 64)   192         conv2d_31[0][0]                  \n",
            "__________________________________________________________________________________________________\n",
            "activation_27 (Activation)      (None, 16, 16, 64)   0           batch_normalization_27[0][0]     \n",
            "__________________________________________________________________________________________________\n",
            "conv2d_32 (Conv2D)              (None, 16, 16, 96)   55296       activation_27[0][0]              \n",
            "__________________________________________________________________________________________________\n",
            "batch_normalization_28 (BatchNo (None, 16, 16, 96)   288         conv2d_32[0][0]                  \n",
            "__________________________________________________________________________________________________\n",
            "activation_28 (Activation)      (None, 16, 16, 96)   0           batch_normalization_28[0][0]     \n",
            "__________________________________________________________________________________________________\n",
            "conv2d_30 (Conv2D)              (None, 7, 7, 384)    995328      mixed2[0][0]                     \n",
            "__________________________________________________________________________________________________\n",
            "conv2d_33 (Conv2D)              (None, 7, 7, 96)     82944       activation_28[0][0]              \n",
            "__________________________________________________________________________________________________\n",
            "batch_normalization_26 (BatchNo (None, 7, 7, 384)    1152        conv2d_30[0][0]                  \n",
            "__________________________________________________________________________________________________\n",
            "batch_normalization_29 (BatchNo (None, 7, 7, 96)     288         conv2d_33[0][0]                  \n",
            "__________________________________________________________________________________________________\n",
            "activation_26 (Activation)      (None, 7, 7, 384)    0           batch_normalization_26[0][0]     \n",
            "__________________________________________________________________________________________________\n",
            "activation_29 (Activation)      (None, 7, 7, 96)     0           batch_normalization_29[0][0]     \n",
            "__________________________________________________________________________________________________\n",
            "max_pooling2d_6 (MaxPooling2D)  (None, 7, 7, 288)    0           mixed2[0][0]                     \n",
            "__________________________________________________________________________________________________\n",
            "mixed3 (Concatenate)            (None, 7, 7, 768)    0           activation_26[0][0]              \n",
            "                                                                 activation_29[0][0]              \n",
            "                                                                 max_pooling2d_6[0][0]            \n",
            "__________________________________________________________________________________________________\n",
            "conv2d_38 (Conv2D)              (None, 7, 7, 128)    98304       mixed3[0][0]                     \n",
            "__________________________________________________________________________________________________\n",
            "batch_normalization_34 (BatchNo (None, 7, 7, 128)    384         conv2d_38[0][0]                  \n",
            "__________________________________________________________________________________________________\n",
            "activation_34 (Activation)      (None, 7, 7, 128)    0           batch_normalization_34[0][0]     \n",
            "__________________________________________________________________________________________________\n",
            "conv2d_39 (Conv2D)              (None, 7, 7, 128)    114688      activation_34[0][0]              \n",
            "__________________________________________________________________________________________________\n",
            "batch_normalization_35 (BatchNo (None, 7, 7, 128)    384         conv2d_39[0][0]                  \n",
            "__________________________________________________________________________________________________\n",
            "activation_35 (Activation)      (None, 7, 7, 128)    0           batch_normalization_35[0][0]     \n",
            "__________________________________________________________________________________________________\n",
            "conv2d_35 (Conv2D)              (None, 7, 7, 128)    98304       mixed3[0][0]                     \n",
            "__________________________________________________________________________________________________\n",
            "conv2d_40 (Conv2D)              (None, 7, 7, 128)    114688      activation_35[0][0]              \n",
            "__________________________________________________________________________________________________\n",
            "batch_normalization_31 (BatchNo (None, 7, 7, 128)    384         conv2d_35[0][0]                  \n",
            "__________________________________________________________________________________________________\n",
            "batch_normalization_36 (BatchNo (None, 7, 7, 128)    384         conv2d_40[0][0]                  \n",
            "__________________________________________________________________________________________________\n",
            "activation_31 (Activation)      (None, 7, 7, 128)    0           batch_normalization_31[0][0]     \n",
            "__________________________________________________________________________________________________\n",
            "activation_36 (Activation)      (None, 7, 7, 128)    0           batch_normalization_36[0][0]     \n",
            "__________________________________________________________________________________________________\n",
            "conv2d_36 (Conv2D)              (None, 7, 7, 128)    114688      activation_31[0][0]              \n",
            "__________________________________________________________________________________________________\n",
            "conv2d_41 (Conv2D)              (None, 7, 7, 128)    114688      activation_36[0][0]              \n",
            "__________________________________________________________________________________________________\n",
            "batch_normalization_32 (BatchNo (None, 7, 7, 128)    384         conv2d_36[0][0]                  \n",
            "__________________________________________________________________________________________________\n",
            "batch_normalization_37 (BatchNo (None, 7, 7, 128)    384         conv2d_41[0][0]                  \n",
            "__________________________________________________________________________________________________\n",
            "activation_32 (Activation)      (None, 7, 7, 128)    0           batch_normalization_32[0][0]     \n",
            "__________________________________________________________________________________________________\n",
            "activation_37 (Activation)      (None, 7, 7, 128)    0           batch_normalization_37[0][0]     \n",
            "__________________________________________________________________________________________________\n",
            "average_pooling2d_3 (AveragePoo (None, 7, 7, 768)    0           mixed3[0][0]                     \n",
            "__________________________________________________________________________________________________\n",
            "conv2d_34 (Conv2D)              (None, 7, 7, 192)    147456      mixed3[0][0]                     \n",
            "__________________________________________________________________________________________________\n",
            "conv2d_37 (Conv2D)              (None, 7, 7, 192)    172032      activation_32[0][0]              \n",
            "__________________________________________________________________________________________________\n",
            "conv2d_42 (Conv2D)              (None, 7, 7, 192)    172032      activation_37[0][0]              \n",
            "__________________________________________________________________________________________________\n",
            "conv2d_43 (Conv2D)              (None, 7, 7, 192)    147456      average_pooling2d_3[0][0]        \n",
            "__________________________________________________________________________________________________\n",
            "batch_normalization_30 (BatchNo (None, 7, 7, 192)    576         conv2d_34[0][0]                  \n",
            "__________________________________________________________________________________________________\n",
            "batch_normalization_33 (BatchNo (None, 7, 7, 192)    576         conv2d_37[0][0]                  \n",
            "__________________________________________________________________________________________________\n",
            "batch_normalization_38 (BatchNo (None, 7, 7, 192)    576         conv2d_42[0][0]                  \n",
            "__________________________________________________________________________________________________\n",
            "batch_normalization_39 (BatchNo (None, 7, 7, 192)    576         conv2d_43[0][0]                  \n",
            "__________________________________________________________________________________________________\n",
            "activation_30 (Activation)      (None, 7, 7, 192)    0           batch_normalization_30[0][0]     \n",
            "__________________________________________________________________________________________________\n",
            "activation_33 (Activation)      (None, 7, 7, 192)    0           batch_normalization_33[0][0]     \n",
            "__________________________________________________________________________________________________\n",
            "activation_38 (Activation)      (None, 7, 7, 192)    0           batch_normalization_38[0][0]     \n",
            "__________________________________________________________________________________________________\n",
            "activation_39 (Activation)      (None, 7, 7, 192)    0           batch_normalization_39[0][0]     \n",
            "__________________________________________________________________________________________________\n",
            "mixed4 (Concatenate)            (None, 7, 7, 768)    0           activation_30[0][0]              \n",
            "                                                                 activation_33[0][0]              \n",
            "                                                                 activation_38[0][0]              \n",
            "                                                                 activation_39[0][0]              \n",
            "__________________________________________________________________________________________________\n",
            "conv2d_48 (Conv2D)              (None, 7, 7, 160)    122880      mixed4[0][0]                     \n",
            "__________________________________________________________________________________________________\n",
            "batch_normalization_44 (BatchNo (None, 7, 7, 160)    480         conv2d_48[0][0]                  \n",
            "__________________________________________________________________________________________________\n",
            "activation_44 (Activation)      (None, 7, 7, 160)    0           batch_normalization_44[0][0]     \n",
            "__________________________________________________________________________________________________\n",
            "conv2d_49 (Conv2D)              (None, 7, 7, 160)    179200      activation_44[0][0]              \n",
            "__________________________________________________________________________________________________\n",
            "batch_normalization_45 (BatchNo (None, 7, 7, 160)    480         conv2d_49[0][0]                  \n",
            "__________________________________________________________________________________________________\n",
            "activation_45 (Activation)      (None, 7, 7, 160)    0           batch_normalization_45[0][0]     \n",
            "__________________________________________________________________________________________________\n",
            "conv2d_45 (Conv2D)              (None, 7, 7, 160)    122880      mixed4[0][0]                     \n",
            "__________________________________________________________________________________________________\n",
            "conv2d_50 (Conv2D)              (None, 7, 7, 160)    179200      activation_45[0][0]              \n",
            "__________________________________________________________________________________________________\n",
            "batch_normalization_41 (BatchNo (None, 7, 7, 160)    480         conv2d_45[0][0]                  \n",
            "__________________________________________________________________________________________________\n",
            "batch_normalization_46 (BatchNo (None, 7, 7, 160)    480         conv2d_50[0][0]                  \n",
            "__________________________________________________________________________________________________\n",
            "activation_41 (Activation)      (None, 7, 7, 160)    0           batch_normalization_41[0][0]     \n",
            "__________________________________________________________________________________________________\n",
            "activation_46 (Activation)      (None, 7, 7, 160)    0           batch_normalization_46[0][0]     \n",
            "__________________________________________________________________________________________________\n",
            "conv2d_46 (Conv2D)              (None, 7, 7, 160)    179200      activation_41[0][0]              \n",
            "__________________________________________________________________________________________________\n",
            "conv2d_51 (Conv2D)              (None, 7, 7, 160)    179200      activation_46[0][0]              \n",
            "__________________________________________________________________________________________________\n",
            "batch_normalization_42 (BatchNo (None, 7, 7, 160)    480         conv2d_46[0][0]                  \n",
            "__________________________________________________________________________________________________\n",
            "batch_normalization_47 (BatchNo (None, 7, 7, 160)    480         conv2d_51[0][0]                  \n",
            "__________________________________________________________________________________________________\n",
            "activation_42 (Activation)      (None, 7, 7, 160)    0           batch_normalization_42[0][0]     \n",
            "__________________________________________________________________________________________________\n",
            "activation_47 (Activation)      (None, 7, 7, 160)    0           batch_normalization_47[0][0]     \n",
            "__________________________________________________________________________________________________\n",
            "average_pooling2d_4 (AveragePoo (None, 7, 7, 768)    0           mixed4[0][0]                     \n",
            "__________________________________________________________________________________________________\n",
            "conv2d_44 (Conv2D)              (None, 7, 7, 192)    147456      mixed4[0][0]                     \n",
            "__________________________________________________________________________________________________\n",
            "conv2d_47 (Conv2D)              (None, 7, 7, 192)    215040      activation_42[0][0]              \n",
            "__________________________________________________________________________________________________\n",
            "conv2d_52 (Conv2D)              (None, 7, 7, 192)    215040      activation_47[0][0]              \n",
            "__________________________________________________________________________________________________\n",
            "conv2d_53 (Conv2D)              (None, 7, 7, 192)    147456      average_pooling2d_4[0][0]        \n",
            "__________________________________________________________________________________________________\n",
            "batch_normalization_40 (BatchNo (None, 7, 7, 192)    576         conv2d_44[0][0]                  \n",
            "__________________________________________________________________________________________________\n",
            "batch_normalization_43 (BatchNo (None, 7, 7, 192)    576         conv2d_47[0][0]                  \n",
            "__________________________________________________________________________________________________\n",
            "batch_normalization_48 (BatchNo (None, 7, 7, 192)    576         conv2d_52[0][0]                  \n",
            "__________________________________________________________________________________________________\n",
            "batch_normalization_49 (BatchNo (None, 7, 7, 192)    576         conv2d_53[0][0]                  \n",
            "__________________________________________________________________________________________________\n",
            "activation_40 (Activation)      (None, 7, 7, 192)    0           batch_normalization_40[0][0]     \n",
            "__________________________________________________________________________________________________\n",
            "activation_43 (Activation)      (None, 7, 7, 192)    0           batch_normalization_43[0][0]     \n",
            "__________________________________________________________________________________________________\n",
            "activation_48 (Activation)      (None, 7, 7, 192)    0           batch_normalization_48[0][0]     \n",
            "__________________________________________________________________________________________________\n",
            "activation_49 (Activation)      (None, 7, 7, 192)    0           batch_normalization_49[0][0]     \n",
            "__________________________________________________________________________________________________\n",
            "mixed5 (Concatenate)            (None, 7, 7, 768)    0           activation_40[0][0]              \n",
            "                                                                 activation_43[0][0]              \n",
            "                                                                 activation_48[0][0]              \n",
            "                                                                 activation_49[0][0]              \n",
            "__________________________________________________________________________________________________\n",
            "conv2d_58 (Conv2D)              (None, 7, 7, 160)    122880      mixed5[0][0]                     \n",
            "__________________________________________________________________________________________________\n",
            "batch_normalization_54 (BatchNo (None, 7, 7, 160)    480         conv2d_58[0][0]                  \n",
            "__________________________________________________________________________________________________\n",
            "activation_54 (Activation)      (None, 7, 7, 160)    0           batch_normalization_54[0][0]     \n",
            "__________________________________________________________________________________________________\n",
            "conv2d_59 (Conv2D)              (None, 7, 7, 160)    179200      activation_54[0][0]              \n",
            "__________________________________________________________________________________________________\n",
            "batch_normalization_55 (BatchNo (None, 7, 7, 160)    480         conv2d_59[0][0]                  \n",
            "__________________________________________________________________________________________________\n",
            "activation_55 (Activation)      (None, 7, 7, 160)    0           batch_normalization_55[0][0]     \n",
            "__________________________________________________________________________________________________\n",
            "conv2d_55 (Conv2D)              (None, 7, 7, 160)    122880      mixed5[0][0]                     \n",
            "__________________________________________________________________________________________________\n",
            "conv2d_60 (Conv2D)              (None, 7, 7, 160)    179200      activation_55[0][0]              \n",
            "__________________________________________________________________________________________________\n",
            "batch_normalization_51 (BatchNo (None, 7, 7, 160)    480         conv2d_55[0][0]                  \n",
            "__________________________________________________________________________________________________\n",
            "batch_normalization_56 (BatchNo (None, 7, 7, 160)    480         conv2d_60[0][0]                  \n",
            "__________________________________________________________________________________________________\n",
            "activation_51 (Activation)      (None, 7, 7, 160)    0           batch_normalization_51[0][0]     \n",
            "__________________________________________________________________________________________________\n",
            "activation_56 (Activation)      (None, 7, 7, 160)    0           batch_normalization_56[0][0]     \n",
            "__________________________________________________________________________________________________\n",
            "conv2d_56 (Conv2D)              (None, 7, 7, 160)    179200      activation_51[0][0]              \n",
            "__________________________________________________________________________________________________\n",
            "conv2d_61 (Conv2D)              (None, 7, 7, 160)    179200      activation_56[0][0]              \n",
            "__________________________________________________________________________________________________\n",
            "batch_normalization_52 (BatchNo (None, 7, 7, 160)    480         conv2d_56[0][0]                  \n",
            "__________________________________________________________________________________________________\n",
            "batch_normalization_57 (BatchNo (None, 7, 7, 160)    480         conv2d_61[0][0]                  \n",
            "__________________________________________________________________________________________________\n",
            "activation_52 (Activation)      (None, 7, 7, 160)    0           batch_normalization_52[0][0]     \n",
            "__________________________________________________________________________________________________\n",
            "activation_57 (Activation)      (None, 7, 7, 160)    0           batch_normalization_57[0][0]     \n",
            "__________________________________________________________________________________________________\n",
            "average_pooling2d_5 (AveragePoo (None, 7, 7, 768)    0           mixed5[0][0]                     \n",
            "__________________________________________________________________________________________________\n",
            "conv2d_54 (Conv2D)              (None, 7, 7, 192)    147456      mixed5[0][0]                     \n",
            "__________________________________________________________________________________________________\n",
            "conv2d_57 (Conv2D)              (None, 7, 7, 192)    215040      activation_52[0][0]              \n",
            "__________________________________________________________________________________________________\n",
            "conv2d_62 (Conv2D)              (None, 7, 7, 192)    215040      activation_57[0][0]              \n",
            "__________________________________________________________________________________________________\n",
            "conv2d_63 (Conv2D)              (None, 7, 7, 192)    147456      average_pooling2d_5[0][0]        \n",
            "__________________________________________________________________________________________________\n",
            "batch_normalization_50 (BatchNo (None, 7, 7, 192)    576         conv2d_54[0][0]                  \n",
            "__________________________________________________________________________________________________\n",
            "batch_normalization_53 (BatchNo (None, 7, 7, 192)    576         conv2d_57[0][0]                  \n",
            "__________________________________________________________________________________________________\n",
            "batch_normalization_58 (BatchNo (None, 7, 7, 192)    576         conv2d_62[0][0]                  \n",
            "__________________________________________________________________________________________________\n",
            "batch_normalization_59 (BatchNo (None, 7, 7, 192)    576         conv2d_63[0][0]                  \n",
            "__________________________________________________________________________________________________\n",
            "activation_50 (Activation)      (None, 7, 7, 192)    0           batch_normalization_50[0][0]     \n",
            "__________________________________________________________________________________________________\n",
            "activation_53 (Activation)      (None, 7, 7, 192)    0           batch_normalization_53[0][0]     \n",
            "__________________________________________________________________________________________________\n",
            "activation_58 (Activation)      (None, 7, 7, 192)    0           batch_normalization_58[0][0]     \n",
            "__________________________________________________________________________________________________\n",
            "activation_59 (Activation)      (None, 7, 7, 192)    0           batch_normalization_59[0][0]     \n",
            "__________________________________________________________________________________________________\n",
            "mixed6 (Concatenate)            (None, 7, 7, 768)    0           activation_50[0][0]              \n",
            "                                                                 activation_53[0][0]              \n",
            "                                                                 activation_58[0][0]              \n",
            "                                                                 activation_59[0][0]              \n",
            "__________________________________________________________________________________________________\n",
            "conv2d_68 (Conv2D)              (None, 7, 7, 192)    147456      mixed6[0][0]                     \n",
            "__________________________________________________________________________________________________\n",
            "batch_normalization_64 (BatchNo (None, 7, 7, 192)    576         conv2d_68[0][0]                  \n",
            "__________________________________________________________________________________________________\n",
            "activation_64 (Activation)      (None, 7, 7, 192)    0           batch_normalization_64[0][0]     \n",
            "__________________________________________________________________________________________________\n",
            "conv2d_69 (Conv2D)              (None, 7, 7, 192)    258048      activation_64[0][0]              \n",
            "__________________________________________________________________________________________________\n",
            "batch_normalization_65 (BatchNo (None, 7, 7, 192)    576         conv2d_69[0][0]                  \n",
            "__________________________________________________________________________________________________\n",
            "activation_65 (Activation)      (None, 7, 7, 192)    0           batch_normalization_65[0][0]     \n",
            "__________________________________________________________________________________________________\n",
            "conv2d_65 (Conv2D)              (None, 7, 7, 192)    147456      mixed6[0][0]                     \n",
            "__________________________________________________________________________________________________\n",
            "conv2d_70 (Conv2D)              (None, 7, 7, 192)    258048      activation_65[0][0]              \n",
            "__________________________________________________________________________________________________\n",
            "batch_normalization_61 (BatchNo (None, 7, 7, 192)    576         conv2d_65[0][0]                  \n",
            "__________________________________________________________________________________________________\n",
            "batch_normalization_66 (BatchNo (None, 7, 7, 192)    576         conv2d_70[0][0]                  \n",
            "__________________________________________________________________________________________________\n",
            "activation_61 (Activation)      (None, 7, 7, 192)    0           batch_normalization_61[0][0]     \n",
            "__________________________________________________________________________________________________\n",
            "activation_66 (Activation)      (None, 7, 7, 192)    0           batch_normalization_66[0][0]     \n",
            "__________________________________________________________________________________________________\n",
            "conv2d_66 (Conv2D)              (None, 7, 7, 192)    258048      activation_61[0][0]              \n",
            "__________________________________________________________________________________________________\n",
            "conv2d_71 (Conv2D)              (None, 7, 7, 192)    258048      activation_66[0][0]              \n",
            "__________________________________________________________________________________________________\n",
            "batch_normalization_62 (BatchNo (None, 7, 7, 192)    576         conv2d_66[0][0]                  \n",
            "__________________________________________________________________________________________________\n",
            "batch_normalization_67 (BatchNo (None, 7, 7, 192)    576         conv2d_71[0][0]                  \n",
            "__________________________________________________________________________________________________\n",
            "activation_62 (Activation)      (None, 7, 7, 192)    0           batch_normalization_62[0][0]     \n",
            "__________________________________________________________________________________________________\n",
            "activation_67 (Activation)      (None, 7, 7, 192)    0           batch_normalization_67[0][0]     \n",
            "__________________________________________________________________________________________________\n",
            "average_pooling2d_6 (AveragePoo (None, 7, 7, 768)    0           mixed6[0][0]                     \n",
            "__________________________________________________________________________________________________\n",
            "conv2d_64 (Conv2D)              (None, 7, 7, 192)    147456      mixed6[0][0]                     \n",
            "__________________________________________________________________________________________________\n",
            "conv2d_67 (Conv2D)              (None, 7, 7, 192)    258048      activation_62[0][0]              \n",
            "__________________________________________________________________________________________________\n",
            "conv2d_72 (Conv2D)              (None, 7, 7, 192)    258048      activation_67[0][0]              \n",
            "__________________________________________________________________________________________________\n",
            "conv2d_73 (Conv2D)              (None, 7, 7, 192)    147456      average_pooling2d_6[0][0]        \n",
            "__________________________________________________________________________________________________\n",
            "batch_normalization_60 (BatchNo (None, 7, 7, 192)    576         conv2d_64[0][0]                  \n",
            "__________________________________________________________________________________________________\n",
            "batch_normalization_63 (BatchNo (None, 7, 7, 192)    576         conv2d_67[0][0]                  \n",
            "__________________________________________________________________________________________________\n",
            "batch_normalization_68 (BatchNo (None, 7, 7, 192)    576         conv2d_72[0][0]                  \n",
            "__________________________________________________________________________________________________\n",
            "batch_normalization_69 (BatchNo (None, 7, 7, 192)    576         conv2d_73[0][0]                  \n",
            "__________________________________________________________________________________________________\n",
            "activation_60 (Activation)      (None, 7, 7, 192)    0           batch_normalization_60[0][0]     \n",
            "__________________________________________________________________________________________________\n",
            "activation_63 (Activation)      (None, 7, 7, 192)    0           batch_normalization_63[0][0]     \n",
            "__________________________________________________________________________________________________\n",
            "activation_68 (Activation)      (None, 7, 7, 192)    0           batch_normalization_68[0][0]     \n",
            "__________________________________________________________________________________________________\n",
            "activation_69 (Activation)      (None, 7, 7, 192)    0           batch_normalization_69[0][0]     \n",
            "__________________________________________________________________________________________________\n",
            "mixed7 (Concatenate)            (None, 7, 7, 768)    0           activation_60[0][0]              \n",
            "                                                                 activation_63[0][0]              \n",
            "                                                                 activation_68[0][0]              \n",
            "                                                                 activation_69[0][0]              \n",
            "__________________________________________________________________________________________________\n",
            "conv2d_76 (Conv2D)              (None, 7, 7, 192)    147456      mixed7[0][0]                     \n",
            "__________________________________________________________________________________________________\n",
            "batch_normalization_72 (BatchNo (None, 7, 7, 192)    576         conv2d_76[0][0]                  \n",
            "__________________________________________________________________________________________________\n",
            "activation_72 (Activation)      (None, 7, 7, 192)    0           batch_normalization_72[0][0]     \n",
            "__________________________________________________________________________________________________\n",
            "conv2d_77 (Conv2D)              (None, 7, 7, 192)    258048      activation_72[0][0]              \n",
            "__________________________________________________________________________________________________\n",
            "batch_normalization_73 (BatchNo (None, 7, 7, 192)    576         conv2d_77[0][0]                  \n",
            "__________________________________________________________________________________________________\n",
            "activation_73 (Activation)      (None, 7, 7, 192)    0           batch_normalization_73[0][0]     \n",
            "__________________________________________________________________________________________________\n",
            "conv2d_74 (Conv2D)              (None, 7, 7, 192)    147456      mixed7[0][0]                     \n",
            "__________________________________________________________________________________________________\n",
            "conv2d_78 (Conv2D)              (None, 7, 7, 192)    258048      activation_73[0][0]              \n",
            "__________________________________________________________________________________________________\n",
            "batch_normalization_70 (BatchNo (None, 7, 7, 192)    576         conv2d_74[0][0]                  \n",
            "__________________________________________________________________________________________________\n",
            "batch_normalization_74 (BatchNo (None, 7, 7, 192)    576         conv2d_78[0][0]                  \n",
            "__________________________________________________________________________________________________\n",
            "activation_70 (Activation)      (None, 7, 7, 192)    0           batch_normalization_70[0][0]     \n",
            "__________________________________________________________________________________________________\n",
            "activation_74 (Activation)      (None, 7, 7, 192)    0           batch_normalization_74[0][0]     \n",
            "__________________________________________________________________________________________________\n",
            "conv2d_75 (Conv2D)              (None, 3, 3, 320)    552960      activation_70[0][0]              \n",
            "__________________________________________________________________________________________________\n",
            "conv2d_79 (Conv2D)              (None, 3, 3, 192)    331776      activation_74[0][0]              \n",
            "__________________________________________________________________________________________________\n",
            "batch_normalization_71 (BatchNo (None, 3, 3, 320)    960         conv2d_75[0][0]                  \n",
            "__________________________________________________________________________________________________\n",
            "batch_normalization_75 (BatchNo (None, 3, 3, 192)    576         conv2d_79[0][0]                  \n",
            "__________________________________________________________________________________________________\n",
            "activation_71 (Activation)      (None, 3, 3, 320)    0           batch_normalization_71[0][0]     \n",
            "__________________________________________________________________________________________________\n",
            "activation_75 (Activation)      (None, 3, 3, 192)    0           batch_normalization_75[0][0]     \n",
            "__________________________________________________________________________________________________\n",
            "max_pooling2d_7 (MaxPooling2D)  (None, 3, 3, 768)    0           mixed7[0][0]                     \n",
            "__________________________________________________________________________________________________\n",
            "mixed8 (Concatenate)            (None, 3, 3, 1280)   0           activation_71[0][0]              \n",
            "                                                                 activation_75[0][0]              \n",
            "                                                                 max_pooling2d_7[0][0]            \n",
            "__________________________________________________________________________________________________\n",
            "conv2d_84 (Conv2D)              (None, 3, 3, 448)    573440      mixed8[0][0]                     \n",
            "__________________________________________________________________________________________________\n",
            "batch_normalization_80 (BatchNo (None, 3, 3, 448)    1344        conv2d_84[0][0]                  \n",
            "__________________________________________________________________________________________________\n",
            "activation_80 (Activation)      (None, 3, 3, 448)    0           batch_normalization_80[0][0]     \n",
            "__________________________________________________________________________________________________\n",
            "conv2d_81 (Conv2D)              (None, 3, 3, 384)    491520      mixed8[0][0]                     \n",
            "__________________________________________________________________________________________________\n",
            "conv2d_85 (Conv2D)              (None, 3, 3, 384)    1548288     activation_80[0][0]              \n",
            "__________________________________________________________________________________________________\n",
            "batch_normalization_77 (BatchNo (None, 3, 3, 384)    1152        conv2d_81[0][0]                  \n",
            "__________________________________________________________________________________________________\n",
            "batch_normalization_81 (BatchNo (None, 3, 3, 384)    1152        conv2d_85[0][0]                  \n",
            "__________________________________________________________________________________________________\n",
            "activation_77 (Activation)      (None, 3, 3, 384)    0           batch_normalization_77[0][0]     \n",
            "__________________________________________________________________________________________________\n",
            "activation_81 (Activation)      (None, 3, 3, 384)    0           batch_normalization_81[0][0]     \n",
            "__________________________________________________________________________________________________\n",
            "conv2d_82 (Conv2D)              (None, 3, 3, 384)    442368      activation_77[0][0]              \n",
            "__________________________________________________________________________________________________\n",
            "conv2d_83 (Conv2D)              (None, 3, 3, 384)    442368      activation_77[0][0]              \n",
            "__________________________________________________________________________________________________\n",
            "conv2d_86 (Conv2D)              (None, 3, 3, 384)    442368      activation_81[0][0]              \n",
            "__________________________________________________________________________________________________\n",
            "conv2d_87 (Conv2D)              (None, 3, 3, 384)    442368      activation_81[0][0]              \n",
            "__________________________________________________________________________________________________\n",
            "average_pooling2d_7 (AveragePoo (None, 3, 3, 1280)   0           mixed8[0][0]                     \n",
            "__________________________________________________________________________________________________\n",
            "conv2d_80 (Conv2D)              (None, 3, 3, 320)    409600      mixed8[0][0]                     \n",
            "__________________________________________________________________________________________________\n",
            "batch_normalization_78 (BatchNo (None, 3, 3, 384)    1152        conv2d_82[0][0]                  \n",
            "__________________________________________________________________________________________________\n",
            "batch_normalization_79 (BatchNo (None, 3, 3, 384)    1152        conv2d_83[0][0]                  \n",
            "__________________________________________________________________________________________________\n",
            "batch_normalization_82 (BatchNo (None, 3, 3, 384)    1152        conv2d_86[0][0]                  \n",
            "__________________________________________________________________________________________________\n",
            "batch_normalization_83 (BatchNo (None, 3, 3, 384)    1152        conv2d_87[0][0]                  \n",
            "__________________________________________________________________________________________________\n",
            "conv2d_88 (Conv2D)              (None, 3, 3, 192)    245760      average_pooling2d_7[0][0]        \n",
            "__________________________________________________________________________________________________\n",
            "batch_normalization_76 (BatchNo (None, 3, 3, 320)    960         conv2d_80[0][0]                  \n",
            "__________________________________________________________________________________________________\n",
            "activation_78 (Activation)      (None, 3, 3, 384)    0           batch_normalization_78[0][0]     \n",
            "__________________________________________________________________________________________________\n",
            "activation_79 (Activation)      (None, 3, 3, 384)    0           batch_normalization_79[0][0]     \n",
            "__________________________________________________________________________________________________\n",
            "activation_82 (Activation)      (None, 3, 3, 384)    0           batch_normalization_82[0][0]     \n",
            "__________________________________________________________________________________________________\n",
            "activation_83 (Activation)      (None, 3, 3, 384)    0           batch_normalization_83[0][0]     \n",
            "__________________________________________________________________________________________________\n",
            "batch_normalization_84 (BatchNo (None, 3, 3, 192)    576         conv2d_88[0][0]                  \n",
            "__________________________________________________________________________________________________\n",
            "activation_76 (Activation)      (None, 3, 3, 320)    0           batch_normalization_76[0][0]     \n",
            "__________________________________________________________________________________________________\n",
            "mixed9_0 (Concatenate)          (None, 3, 3, 768)    0           activation_78[0][0]              \n",
            "                                                                 activation_79[0][0]              \n",
            "__________________________________________________________________________________________________\n",
            "concatenate (Concatenate)       (None, 3, 3, 768)    0           activation_82[0][0]              \n",
            "                                                                 activation_83[0][0]              \n",
            "__________________________________________________________________________________________________\n",
            "activation_84 (Activation)      (None, 3, 3, 192)    0           batch_normalization_84[0][0]     \n",
            "__________________________________________________________________________________________________\n",
            "mixed9 (Concatenate)            (None, 3, 3, 2048)   0           activation_76[0][0]              \n",
            "                                                                 mixed9_0[0][0]                   \n",
            "                                                                 concatenate[0][0]                \n",
            "                                                                 activation_84[0][0]              \n",
            "__________________________________________________________________________________________________\n",
            "conv2d_93 (Conv2D)              (None, 3, 3, 448)    917504      mixed9[0][0]                     \n",
            "__________________________________________________________________________________________________\n",
            "batch_normalization_89 (BatchNo (None, 3, 3, 448)    1344        conv2d_93[0][0]                  \n",
            "__________________________________________________________________________________________________\n",
            "activation_89 (Activation)      (None, 3, 3, 448)    0           batch_normalization_89[0][0]     \n",
            "__________________________________________________________________________________________________\n",
            "conv2d_90 (Conv2D)              (None, 3, 3, 384)    786432      mixed9[0][0]                     \n",
            "__________________________________________________________________________________________________\n",
            "conv2d_94 (Conv2D)              (None, 3, 3, 384)    1548288     activation_89[0][0]              \n",
            "__________________________________________________________________________________________________\n",
            "batch_normalization_86 (BatchNo (None, 3, 3, 384)    1152        conv2d_90[0][0]                  \n",
            "__________________________________________________________________________________________________\n",
            "batch_normalization_90 (BatchNo (None, 3, 3, 384)    1152        conv2d_94[0][0]                  \n",
            "__________________________________________________________________________________________________\n",
            "activation_86 (Activation)      (None, 3, 3, 384)    0           batch_normalization_86[0][0]     \n",
            "__________________________________________________________________________________________________\n",
            "activation_90 (Activation)      (None, 3, 3, 384)    0           batch_normalization_90[0][0]     \n",
            "__________________________________________________________________________________________________\n",
            "conv2d_91 (Conv2D)              (None, 3, 3, 384)    442368      activation_86[0][0]              \n",
            "__________________________________________________________________________________________________\n",
            "conv2d_92 (Conv2D)              (None, 3, 3, 384)    442368      activation_86[0][0]              \n",
            "__________________________________________________________________________________________________\n",
            "conv2d_95 (Conv2D)              (None, 3, 3, 384)    442368      activation_90[0][0]              \n",
            "__________________________________________________________________________________________________\n",
            "conv2d_96 (Conv2D)              (None, 3, 3, 384)    442368      activation_90[0][0]              \n",
            "__________________________________________________________________________________________________\n",
            "average_pooling2d_8 (AveragePoo (None, 3, 3, 2048)   0           mixed9[0][0]                     \n",
            "__________________________________________________________________________________________________\n",
            "conv2d_89 (Conv2D)              (None, 3, 3, 320)    655360      mixed9[0][0]                     \n",
            "__________________________________________________________________________________________________\n",
            "batch_normalization_87 (BatchNo (None, 3, 3, 384)    1152        conv2d_91[0][0]                  \n",
            "__________________________________________________________________________________________________\n",
            "batch_normalization_88 (BatchNo (None, 3, 3, 384)    1152        conv2d_92[0][0]                  \n",
            "__________________________________________________________________________________________________\n",
            "batch_normalization_91 (BatchNo (None, 3, 3, 384)    1152        conv2d_95[0][0]                  \n",
            "__________________________________________________________________________________________________\n",
            "batch_normalization_92 (BatchNo (None, 3, 3, 384)    1152        conv2d_96[0][0]                  \n",
            "__________________________________________________________________________________________________\n",
            "conv2d_97 (Conv2D)              (None, 3, 3, 192)    393216      average_pooling2d_8[0][0]        \n",
            "__________________________________________________________________________________________________\n",
            "batch_normalization_85 (BatchNo (None, 3, 3, 320)    960         conv2d_89[0][0]                  \n",
            "__________________________________________________________________________________________________\n",
            "activation_87 (Activation)      (None, 3, 3, 384)    0           batch_normalization_87[0][0]     \n",
            "__________________________________________________________________________________________________\n",
            "activation_88 (Activation)      (None, 3, 3, 384)    0           batch_normalization_88[0][0]     \n",
            "__________________________________________________________________________________________________\n",
            "activation_91 (Activation)      (None, 3, 3, 384)    0           batch_normalization_91[0][0]     \n",
            "__________________________________________________________________________________________________\n",
            "activation_92 (Activation)      (None, 3, 3, 384)    0           batch_normalization_92[0][0]     \n",
            "__________________________________________________________________________________________________\n",
            "batch_normalization_93 (BatchNo (None, 3, 3, 192)    576         conv2d_97[0][0]                  \n",
            "__________________________________________________________________________________________________\n",
            "activation_85 (Activation)      (None, 3, 3, 320)    0           batch_normalization_85[0][0]     \n",
            "__________________________________________________________________________________________________\n",
            "mixed9_1 (Concatenate)          (None, 3, 3, 768)    0           activation_87[0][0]              \n",
            "                                                                 activation_88[0][0]              \n",
            "__________________________________________________________________________________________________\n",
            "concatenate_1 (Concatenate)     (None, 3, 3, 768)    0           activation_91[0][0]              \n",
            "                                                                 activation_92[0][0]              \n",
            "__________________________________________________________________________________________________\n",
            "activation_93 (Activation)      (None, 3, 3, 192)    0           batch_normalization_93[0][0]     \n",
            "__________________________________________________________________________________________________\n",
            "mixed10 (Concatenate)           (None, 3, 3, 2048)   0           activation_85[0][0]              \n",
            "                                                                 mixed9_1[0][0]                   \n",
            "                                                                 concatenate_1[0][0]              \n",
            "                                                                 activation_93[0][0]              \n",
            "__________________________________________________________________________________________________\n",
            "flatten (Flatten)               (None, 18432)        0           mixed10[0][0]                    \n",
            "__________________________________________________________________________________________________\n",
            "dense_13 (Dense)                (None, 4096)         75501568    flatten[0][0]                    \n",
            "__________________________________________________________________________________________________\n",
            "dense_14 (Dense)                (None, 1072)         4391984     dense_13[0][0]                   \n",
            "__________________________________________________________________________________________________\n",
            "dropout_7 (Dropout)             (None, 1072)         0           dense_14[0][0]                   \n",
            "__________________________________________________________________________________________________\n",
            "dense_15 (Dense)                (None, 21)           22533       dropout_7[0][0]                  \n",
            "==================================================================================================\n",
            "Total params: 101,718,869\n",
            "Trainable params: 79,916,085\n",
            "Non-trainable params: 21,802,784\n",
            "__________________________________________________________________________________________________\n",
            "Epoch 1/100\n",
            "53/53 [==============================] - 27s 386ms/step - loss: 2.4062 - accuracy: 0.3500 - val_loss: 1.1401 - val_accuracy: 0.7762\n",
            "\n",
            "Epoch 00001: accuracy improved from -inf to 0.35000, saving model to bestInceptionmodel.h5\n",
            "Epoch 2/100\n",
            "53/53 [==============================] - 18s 329ms/step - loss: 1.1720 - accuracy: 0.6690 - val_loss: 0.7530 - val_accuracy: 0.8238\n",
            "\n",
            "Epoch 00002: accuracy improved from 0.35000 to 0.66905, saving model to bestInceptionmodel.h5\n",
            "Epoch 3/100\n",
            "53/53 [==============================] - 18s 332ms/step - loss: 0.9028 - accuracy: 0.7405 - val_loss: 0.5869 - val_accuracy: 0.8667\n",
            "\n",
            "Epoch 00003: accuracy improved from 0.66905 to 0.74048, saving model to bestInceptionmodel.h5\n",
            "Epoch 4/100\n",
            "53/53 [==============================] - 18s 342ms/step - loss: 0.7524 - accuracy: 0.7964 - val_loss: 0.5454 - val_accuracy: 0.8952\n",
            "\n",
            "Epoch 00004: accuracy improved from 0.74048 to 0.79643, saving model to bestInceptionmodel.h5\n",
            "Epoch 5/100\n",
            "53/53 [==============================] - 17s 328ms/step - loss: 0.7044 - accuracy: 0.7952 - val_loss: 0.5267 - val_accuracy: 0.8714\n",
            "\n",
            "Epoch 00005: accuracy did not improve from 0.79643\n",
            "Epoch 6/100\n",
            "53/53 [==============================] - 17s 324ms/step - loss: 0.6368 - accuracy: 0.8113 - val_loss: 0.4747 - val_accuracy: 0.8619\n",
            "\n",
            "Epoch 00006: accuracy improved from 0.79643 to 0.81131, saving model to bestInceptionmodel.h5\n",
            "Epoch 7/100\n",
            "53/53 [==============================] - 18s 333ms/step - loss: 0.5631 - accuracy: 0.8304 - val_loss: 0.3989 - val_accuracy: 0.8810\n",
            "\n",
            "Epoch 00007: accuracy improved from 0.81131 to 0.83036, saving model to bestInceptionmodel.h5\n",
            "Epoch 8/100\n",
            "53/53 [==============================] - 18s 330ms/step - loss: 0.5527 - accuracy: 0.8381 - val_loss: 0.3247 - val_accuracy: 0.9143\n",
            "\n",
            "Epoch 00008: accuracy improved from 0.83036 to 0.83810, saving model to bestInceptionmodel.h5\n",
            "Epoch 9/100\n",
            "53/53 [==============================] - 18s 331ms/step - loss: 0.5010 - accuracy: 0.8512 - val_loss: 0.4003 - val_accuracy: 0.8905\n",
            "\n",
            "Epoch 00009: accuracy improved from 0.83810 to 0.85119, saving model to bestInceptionmodel.h5\n",
            "Epoch 10/100\n",
            "53/53 [==============================] - 17s 326ms/step - loss: 0.4291 - accuracy: 0.8625 - val_loss: 0.3057 - val_accuracy: 0.9143\n",
            "\n",
            "Epoch 00010: accuracy improved from 0.85119 to 0.86250, saving model to bestInceptionmodel.h5\n",
            "Epoch 11/100\n",
            "53/53 [==============================] - 18s 332ms/step - loss: 0.5024 - accuracy: 0.8470 - val_loss: 0.3486 - val_accuracy: 0.9000\n",
            "\n",
            "Epoch 00011: accuracy did not improve from 0.86250\n",
            "Epoch 12/100\n",
            "53/53 [==============================] - 17s 325ms/step - loss: 0.4514 - accuracy: 0.8589 - val_loss: 0.2811 - val_accuracy: 0.9333\n",
            "\n",
            "Epoch 00012: accuracy did not improve from 0.86250\n",
            "Epoch 13/100\n",
            "53/53 [==============================] - 17s 323ms/step - loss: 0.4512 - accuracy: 0.8625 - val_loss: 0.2960 - val_accuracy: 0.9143\n",
            "\n",
            "Epoch 00013: accuracy did not improve from 0.86250\n",
            "Epoch 14/100\n",
            "53/53 [==============================] - 17s 320ms/step - loss: 0.3992 - accuracy: 0.8756 - val_loss: 0.2564 - val_accuracy: 0.9333\n",
            "\n",
            "Epoch 00014: accuracy improved from 0.86250 to 0.87560, saving model to bestInceptionmodel.h5\n",
            "Epoch 15/100\n",
            "53/53 [==============================] - 17s 325ms/step - loss: 0.3690 - accuracy: 0.8804 - val_loss: 0.2352 - val_accuracy: 0.9476\n",
            "\n",
            "Epoch 00015: accuracy improved from 0.87560 to 0.88036, saving model to bestInceptionmodel.h5\n",
            "Epoch 16/100\n",
            "53/53 [==============================] - 17s 319ms/step - loss: 0.3471 - accuracy: 0.8929 - val_loss: 0.2014 - val_accuracy: 0.9524\n",
            "\n",
            "Epoch 00016: accuracy improved from 0.88036 to 0.89286, saving model to bestInceptionmodel.h5\n",
            "Epoch 17/100\n",
            "53/53 [==============================] - 17s 324ms/step - loss: 0.3309 - accuracy: 0.8935 - val_loss: 0.1970 - val_accuracy: 0.9667\n",
            "\n",
            "Epoch 00017: accuracy improved from 0.89286 to 0.89345, saving model to bestInceptionmodel.h5\n",
            "Epoch 18/100\n",
            "53/53 [==============================] - 17s 323ms/step - loss: 0.3566 - accuracy: 0.8899 - val_loss: 0.1903 - val_accuracy: 0.9571\n",
            "\n",
            "Epoch 00018: accuracy did not improve from 0.89345\n",
            "Epoch 19/100\n",
            "53/53 [==============================] - 17s 319ms/step - loss: 0.3476 - accuracy: 0.8952 - val_loss: 0.1952 - val_accuracy: 0.9524\n",
            "\n",
            "Epoch 00019: accuracy improved from 0.89345 to 0.89524, saving model to bestInceptionmodel.h5\n",
            "Epoch 20/100\n",
            "53/53 [==============================] - 17s 325ms/step - loss: 0.2948 - accuracy: 0.9089 - val_loss: 0.1825 - val_accuracy: 0.9571\n",
            "\n",
            "Epoch 00020: accuracy improved from 0.89524 to 0.90893, saving model to bestInceptionmodel.h5\n",
            "Epoch 21/100\n",
            "53/53 [==============================] - 17s 324ms/step - loss: 0.2846 - accuracy: 0.9060 - val_loss: 0.1686 - val_accuracy: 0.9714\n",
            "\n",
            "Epoch 00021: accuracy did not improve from 0.90893\n",
            "Epoch 22/100\n",
            "53/53 [==============================] - 17s 322ms/step - loss: 0.2698 - accuracy: 0.9089 - val_loss: 0.1606 - val_accuracy: 0.9714\n",
            "\n",
            "Epoch 00022: accuracy did not improve from 0.90893\n",
            "Epoch 23/100\n",
            "53/53 [==============================] - 17s 317ms/step - loss: 0.2989 - accuracy: 0.9042 - val_loss: 0.2076 - val_accuracy: 0.9571\n",
            "\n",
            "Epoch 00023: accuracy did not improve from 0.90893\n",
            "Epoch 24/100\n",
            "53/53 [==============================] - 17s 322ms/step - loss: 0.3133 - accuracy: 0.9131 - val_loss: 0.1649 - val_accuracy: 0.9571\n",
            "\n",
            "Epoch 00024: accuracy improved from 0.90893 to 0.91310, saving model to bestInceptionmodel.h5\n",
            "Epoch 25/100\n",
            "53/53 [==============================] - 17s 324ms/step - loss: 0.2695 - accuracy: 0.9089 - val_loss: 0.1578 - val_accuracy: 0.9524\n",
            "\n",
            "Epoch 00025: accuracy did not improve from 0.91310\n",
            "Epoch 26/100\n",
            "53/53 [==============================] - 17s 324ms/step - loss: 0.2548 - accuracy: 0.9280 - val_loss: 0.1426 - val_accuracy: 0.9762\n",
            "\n",
            "Epoch 00026: accuracy improved from 0.91310 to 0.92798, saving model to bestInceptionmodel.h5\n",
            "Epoch 27/100\n",
            "53/53 [==============================] - 18s 336ms/step - loss: 0.2857 - accuracy: 0.9071 - val_loss: 0.1596 - val_accuracy: 0.9571\n",
            "\n",
            "Epoch 00027: accuracy did not improve from 0.92798\n",
            "Epoch 28/100\n",
            "53/53 [==============================] - 18s 330ms/step - loss: 0.2453 - accuracy: 0.9202 - val_loss: 0.1705 - val_accuracy: 0.9476\n",
            "\n",
            "Epoch 00028: accuracy did not improve from 0.92798\n",
            "Epoch 29/100\n",
            "53/53 [==============================] - 17s 321ms/step - loss: 0.2602 - accuracy: 0.9202 - val_loss: 0.1461 - val_accuracy: 0.9571\n",
            "\n",
            "Epoch 00029: accuracy did not improve from 0.92798\n",
            "Epoch 30/100\n",
            "53/53 [==============================] - 17s 321ms/step - loss: 0.2737 - accuracy: 0.9119 - val_loss: 0.1438 - val_accuracy: 0.9571\n",
            "\n",
            "Epoch 00030: accuracy did not improve from 0.92798\n",
            "Epoch 31/100\n",
            "53/53 [==============================] - 17s 320ms/step - loss: 0.2920 - accuracy: 0.9077 - val_loss: 0.1434 - val_accuracy: 0.9810\n",
            "\n",
            "Epoch 00031: accuracy did not improve from 0.92798\n",
            "Epoch 32/100\n",
            "53/53 [==============================] - 17s 324ms/step - loss: 0.2426 - accuracy: 0.9179 - val_loss: 0.1783 - val_accuracy: 0.9381\n",
            "\n",
            "Epoch 00032: accuracy did not improve from 0.92798\n",
            "Epoch 33/100\n",
            "53/53 [==============================] - 17s 326ms/step - loss: 0.2636 - accuracy: 0.9131 - val_loss: 0.1408 - val_accuracy: 0.9667\n",
            "\n",
            "Epoch 00033: accuracy did not improve from 0.92798\n",
            "Epoch 34/100\n",
            "53/53 [==============================] - 17s 325ms/step - loss: 0.2414 - accuracy: 0.9220 - val_loss: 0.1288 - val_accuracy: 0.9619\n",
            "\n",
            "Epoch 00034: accuracy did not improve from 0.92798\n",
            "Epoch 35/100\n",
            "53/53 [==============================] - 17s 323ms/step - loss: 0.2389 - accuracy: 0.9232 - val_loss: 0.1327 - val_accuracy: 0.9667\n",
            "\n",
            "Epoch 00035: accuracy did not improve from 0.92798\n",
            "Epoch 36/100\n",
            "53/53 [==============================] - 17s 326ms/step - loss: 0.2524 - accuracy: 0.9202 - val_loss: 0.1388 - val_accuracy: 0.9714\n",
            "\n",
            "Epoch 00036: accuracy did not improve from 0.92798\n",
            "Epoch 37/100\n",
            "53/53 [==============================] - 17s 326ms/step - loss: 0.2192 - accuracy: 0.9321 - val_loss: 0.1399 - val_accuracy: 0.9571\n",
            "\n",
            "Epoch 00037: accuracy improved from 0.92798 to 0.93214, saving model to bestInceptionmodel.h5\n",
            "Epoch 38/100\n",
            "53/53 [==============================] - 17s 327ms/step - loss: 0.1944 - accuracy: 0.9327 - val_loss: 0.1429 - val_accuracy: 0.9667\n",
            "\n",
            "Epoch 00038: accuracy improved from 0.93214 to 0.93274, saving model to bestInceptionmodel.h5\n",
            "Epoch 39/100\n",
            "53/53 [==============================] - 17s 326ms/step - loss: 0.2118 - accuracy: 0.9286 - val_loss: 0.1446 - val_accuracy: 0.9524\n",
            "\n",
            "Epoch 00039: accuracy did not improve from 0.93274\n",
            "Epoch 40/100\n",
            "53/53 [==============================] - 17s 322ms/step - loss: 0.2364 - accuracy: 0.9274 - val_loss: 0.1410 - val_accuracy: 0.9619\n",
            "\n",
            "Epoch 00040: accuracy did not improve from 0.93274\n",
            "Epoch 41/100\n",
            "53/53 [==============================] - 17s 319ms/step - loss: 0.1989 - accuracy: 0.9387 - val_loss: 0.1102 - val_accuracy: 0.9667\n",
            "\n",
            "Epoch 00041: accuracy improved from 0.93274 to 0.93869, saving model to bestInceptionmodel.h5\n",
            "Epoch 42/100\n",
            "53/53 [==============================] - 17s 325ms/step - loss: 0.2193 - accuracy: 0.9274 - val_loss: 0.1184 - val_accuracy: 0.9619\n",
            "\n",
            "Epoch 00042: accuracy did not improve from 0.93869\n",
            "Epoch 43/100\n",
            "53/53 [==============================] - 17s 327ms/step - loss: 0.2286 - accuracy: 0.9304 - val_loss: 0.1547 - val_accuracy: 0.9476\n",
            "\n",
            "Epoch 00043: accuracy did not improve from 0.93869\n",
            "Epoch 44/100\n",
            "53/53 [==============================] - 17s 319ms/step - loss: 0.1825 - accuracy: 0.9381 - val_loss: 0.1068 - val_accuracy: 0.9667\n",
            "\n",
            "Epoch 00044: accuracy did not improve from 0.93869\n",
            "Epoch 45/100\n",
            "53/53 [==============================] - 17s 329ms/step - loss: 0.2223 - accuracy: 0.9333 - val_loss: 0.1192 - val_accuracy: 0.9619\n",
            "\n",
            "Epoch 00045: accuracy did not improve from 0.93869\n",
            "Epoch 46/100\n",
            "53/53 [==============================] - 17s 322ms/step - loss: 0.2166 - accuracy: 0.9327 - val_loss: 0.1376 - val_accuracy: 0.9619\n",
            "\n",
            "Epoch 00046: accuracy did not improve from 0.93869\n",
            "Epoch 47/100\n",
            "53/53 [==============================] - 17s 326ms/step - loss: 0.2156 - accuracy: 0.9226 - val_loss: 0.1323 - val_accuracy: 0.9571\n",
            "\n",
            "Epoch 00047: accuracy did not improve from 0.93869\n",
            "Epoch 48/100\n",
            "53/53 [==============================] - 17s 322ms/step - loss: 0.1897 - accuracy: 0.9315 - val_loss: 0.1063 - val_accuracy: 0.9667\n",
            "\n",
            "Epoch 00048: accuracy did not improve from 0.93869\n",
            "Epoch 49/100\n",
            "53/53 [==============================] - 17s 326ms/step - loss: 0.1748 - accuracy: 0.9375 - val_loss: 0.1161 - val_accuracy: 0.9667\n",
            "\n",
            "Epoch 00049: accuracy did not improve from 0.93869\n",
            "Epoch 50/100\n",
            "53/53 [==============================] - 17s 328ms/step - loss: 0.1653 - accuracy: 0.9470 - val_loss: 0.1006 - val_accuracy: 0.9714\n",
            "\n",
            "Epoch 00050: accuracy improved from 0.93869 to 0.94702, saving model to bestInceptionmodel.h5\n",
            "Epoch 51/100\n",
            "53/53 [==============================] - 17s 321ms/step - loss: 0.1752 - accuracy: 0.9351 - val_loss: 0.1086 - val_accuracy: 0.9619\n",
            "\n",
            "Epoch 00051: accuracy did not improve from 0.94702\n",
            "Epoch 52/100\n",
            "53/53 [==============================] - 17s 319ms/step - loss: 0.2261 - accuracy: 0.9268 - val_loss: 0.1015 - val_accuracy: 0.9667\n",
            "\n",
            "Epoch 00052: accuracy did not improve from 0.94702\n",
            "Epoch 53/100\n",
            "53/53 [==============================] - 17s 326ms/step - loss: 0.2318 - accuracy: 0.9244 - val_loss: 0.1233 - val_accuracy: 0.9714\n",
            "\n",
            "Epoch 00053: accuracy did not improve from 0.94702\n",
            "Epoch 54/100\n",
            "53/53 [==============================] - 18s 330ms/step - loss: 0.2213 - accuracy: 0.9327 - val_loss: 0.1242 - val_accuracy: 0.9571\n",
            "\n",
            "Epoch 00054: accuracy did not improve from 0.94702\n",
            "Epoch 55/100\n",
            "53/53 [==============================] - 17s 332ms/step - loss: 0.1539 - accuracy: 0.9488 - val_loss: 0.1020 - val_accuracy: 0.9619\n",
            "\n",
            "Epoch 00055: accuracy improved from 0.94702 to 0.94881, saving model to bestInceptionmodel.h5\n",
            "Epoch 56/100\n",
            "53/53 [==============================] - 18s 334ms/step - loss: 0.1592 - accuracy: 0.9440 - val_loss: 0.1250 - val_accuracy: 0.9619\n",
            "\n",
            "Epoch 00056: accuracy did not improve from 0.94881\n",
            "Epoch 57/100\n",
            "53/53 [==============================] - 17s 323ms/step - loss: 0.1546 - accuracy: 0.9435 - val_loss: 0.1391 - val_accuracy: 0.9571\n",
            "\n",
            "Epoch 00057: accuracy did not improve from 0.94881\n",
            "Epoch 58/100\n",
            "53/53 [==============================] - 17s 320ms/step - loss: 0.1939 - accuracy: 0.9411 - val_loss: 0.1427 - val_accuracy: 0.9571\n",
            "\n",
            "Epoch 00058: accuracy did not improve from 0.94881\n",
            "Epoch 59/100\n",
            "53/53 [==============================] - 18s 331ms/step - loss: 0.1853 - accuracy: 0.9363 - val_loss: 0.1051 - val_accuracy: 0.9714\n",
            "\n",
            "Epoch 00059: accuracy did not improve from 0.94881\n",
            "Epoch 60/100\n",
            "53/53 [==============================] - 18s 334ms/step - loss: 0.1697 - accuracy: 0.9387 - val_loss: 0.0848 - val_accuracy: 0.9762\n",
            "\n",
            "Epoch 00060: accuracy did not improve from 0.94881\n",
            "Epoch 61/100\n",
            "53/53 [==============================] - 18s 331ms/step - loss: 0.1671 - accuracy: 0.9429 - val_loss: 0.1240 - val_accuracy: 0.9524\n",
            "\n",
            "Epoch 00061: accuracy did not improve from 0.94881\n",
            "Epoch 62/100\n",
            "53/53 [==============================] - 18s 334ms/step - loss: 0.1614 - accuracy: 0.9429 - val_loss: 0.1024 - val_accuracy: 0.9714\n",
            "\n",
            "Epoch 00062: accuracy did not improve from 0.94881\n",
            "Epoch 63/100\n",
            "53/53 [==============================] - 17s 325ms/step - loss: 0.1720 - accuracy: 0.9411 - val_loss: 0.0844 - val_accuracy: 0.9762\n",
            "\n",
            "Epoch 00063: accuracy did not improve from 0.94881\n",
            "Epoch 64/100\n",
            "53/53 [==============================] - 17s 322ms/step - loss: 0.1881 - accuracy: 0.9417 - val_loss: 0.0887 - val_accuracy: 0.9619\n",
            "\n",
            "Epoch 00064: accuracy did not improve from 0.94881\n",
            "Epoch 65/100\n",
            "53/53 [==============================] - 18s 331ms/step - loss: 0.1712 - accuracy: 0.9488 - val_loss: 0.0863 - val_accuracy: 0.9762\n",
            "\n",
            "Epoch 00065: accuracy did not improve from 0.94881\n",
            "Epoch 66/100\n",
            "53/53 [==============================] - 18s 330ms/step - loss: 0.1601 - accuracy: 0.9482 - val_loss: 0.0848 - val_accuracy: 0.9667\n",
            "\n",
            "Epoch 00066: accuracy did not improve from 0.94881\n",
            "Epoch 67/100\n",
            "53/53 [==============================] - 17s 329ms/step - loss: 0.1512 - accuracy: 0.9512 - val_loss: 0.0871 - val_accuracy: 0.9762\n",
            "\n",
            "Epoch 00067: accuracy improved from 0.94881 to 0.95119, saving model to bestInceptionmodel.h5\n",
            "Epoch 68/100\n",
            "53/53 [==============================] - 18s 333ms/step - loss: 0.1573 - accuracy: 0.9488 - val_loss: 0.0808 - val_accuracy: 0.9714\n",
            "\n",
            "Epoch 00068: accuracy did not improve from 0.95119\n",
            "Epoch 69/100\n",
            "53/53 [==============================] - 18s 330ms/step - loss: 0.1856 - accuracy: 0.9411 - val_loss: 0.1277 - val_accuracy: 0.9619\n",
            "\n",
            "Epoch 00069: accuracy did not improve from 0.95119\n",
            "Epoch 70/100\n",
            "53/53 [==============================] - 17s 329ms/step - loss: 0.1746 - accuracy: 0.9446 - val_loss: 0.1034 - val_accuracy: 0.9667\n",
            "\n",
            "Epoch 00070: accuracy did not improve from 0.95119\n",
            "Epoch 71/100\n",
            "53/53 [==============================] - 17s 324ms/step - loss: 0.1777 - accuracy: 0.9429 - val_loss: 0.0912 - val_accuracy: 0.9619\n",
            "\n",
            "Epoch 00071: accuracy did not improve from 0.95119\n",
            "Epoch 72/100\n",
            "53/53 [==============================] - 17s 324ms/step - loss: 0.1736 - accuracy: 0.9470 - val_loss: 0.1092 - val_accuracy: 0.9619\n",
            "\n",
            "Epoch 00072: accuracy did not improve from 0.95119\n",
            "Epoch 73/100\n",
            "53/53 [==============================] - 18s 330ms/step - loss: 0.1523 - accuracy: 0.9470 - val_loss: 0.0888 - val_accuracy: 0.9714\n",
            "\n",
            "Epoch 00073: accuracy did not improve from 0.95119\n",
            "Epoch 74/100\n",
            "53/53 [==============================] - 18s 330ms/step - loss: 0.1607 - accuracy: 0.9494 - val_loss: 0.0945 - val_accuracy: 0.9667\n",
            "\n",
            "Epoch 00074: accuracy did not improve from 0.95119\n",
            "Epoch 75/100\n",
            "53/53 [==============================] - 17s 325ms/step - loss: 0.1542 - accuracy: 0.9429 - val_loss: 0.0801 - val_accuracy: 0.9762\n",
            "\n",
            "Epoch 00075: accuracy did not improve from 0.95119\n",
            "Epoch 76/100\n",
            "53/53 [==============================] - 17s 328ms/step - loss: 0.2144 - accuracy: 0.9327 - val_loss: 0.0956 - val_accuracy: 0.9524\n",
            "\n",
            "Epoch 00076: accuracy did not improve from 0.95119\n",
            "Epoch 77/100\n",
            "53/53 [==============================] - 17s 326ms/step - loss: 0.1586 - accuracy: 0.9554 - val_loss: 0.1088 - val_accuracy: 0.9571\n",
            "\n",
            "Epoch 00077: accuracy improved from 0.95119 to 0.95536, saving model to bestInceptionmodel.h5\n",
            "Epoch 78/100\n",
            "53/53 [==============================] - 17s 323ms/step - loss: 0.1806 - accuracy: 0.9470 - val_loss: 0.0803 - val_accuracy: 0.9714\n",
            "\n",
            "Epoch 00078: accuracy did not improve from 0.95536\n",
            "Epoch 79/100\n",
            "53/53 [==============================] - 17s 324ms/step - loss: 0.1477 - accuracy: 0.9494 - val_loss: 0.1066 - val_accuracy: 0.9667\n",
            "\n",
            "Epoch 00079: accuracy did not improve from 0.95536\n",
            "Epoch 80/100\n",
            "53/53 [==============================] - 17s 320ms/step - loss: 0.1337 - accuracy: 0.9524 - val_loss: 0.0682 - val_accuracy: 0.9810\n",
            "\n",
            "Epoch 00080: accuracy did not improve from 0.95536\n",
            "Epoch 81/100\n",
            "53/53 [==============================] - 17s 325ms/step - loss: 0.1231 - accuracy: 0.9571 - val_loss: 0.0819 - val_accuracy: 0.9619\n",
            "\n",
            "Epoch 00081: accuracy improved from 0.95536 to 0.95714, saving model to bestInceptionmodel.h5\n",
            "Epoch 82/100\n",
            "53/53 [==============================] - 18s 330ms/step - loss: 0.1561 - accuracy: 0.9482 - val_loss: 0.0838 - val_accuracy: 0.9667\n",
            "\n",
            "Epoch 00082: accuracy did not improve from 0.95714\n",
            "Epoch 83/100\n",
            "53/53 [==============================] - 17s 328ms/step - loss: 0.1508 - accuracy: 0.9494 - val_loss: 0.1016 - val_accuracy: 0.9667\n",
            "\n",
            "Epoch 00083: accuracy did not improve from 0.95714\n",
            "Epoch 84/100\n",
            "53/53 [==============================] - 17s 326ms/step - loss: 0.1531 - accuracy: 0.9565 - val_loss: 0.1013 - val_accuracy: 0.9667\n",
            "\n",
            "Epoch 00084: accuracy did not improve from 0.95714\n",
            "Epoch 85/100\n",
            "53/53 [==============================] - 17s 326ms/step - loss: 0.1588 - accuracy: 0.9506 - val_loss: 0.0579 - val_accuracy: 0.9810\n",
            "\n",
            "Epoch 00085: accuracy did not improve from 0.95714\n",
            "Epoch 86/100\n",
            "53/53 [==============================] - 18s 331ms/step - loss: 0.1432 - accuracy: 0.9524 - val_loss: 0.0821 - val_accuracy: 0.9667\n",
            "\n",
            "Epoch 00086: accuracy did not improve from 0.95714\n",
            "Epoch 87/100\n",
            "53/53 [==============================] - 18s 330ms/step - loss: 0.1588 - accuracy: 0.9464 - val_loss: 0.0787 - val_accuracy: 0.9667\n",
            "\n",
            "Epoch 00087: accuracy did not improve from 0.95714\n",
            "Epoch 88/100\n",
            "53/53 [==============================] - 17s 327ms/step - loss: 0.1410 - accuracy: 0.9554 - val_loss: 0.0643 - val_accuracy: 0.9762\n",
            "\n",
            "Epoch 00088: accuracy did not improve from 0.95714\n",
            "Epoch 89/100\n",
            "53/53 [==============================] - 17s 324ms/step - loss: 0.1392 - accuracy: 0.9571 - val_loss: 0.0896 - val_accuracy: 0.9571\n",
            "\n",
            "Epoch 00089: accuracy did not improve from 0.95714\n",
            "Epoch 90/100\n",
            "53/53 [==============================] - 18s 330ms/step - loss: 0.1099 - accuracy: 0.9631 - val_loss: 0.0726 - val_accuracy: 0.9667\n",
            "\n",
            "Epoch 00090: accuracy improved from 0.95714 to 0.96310, saving model to bestInceptionmodel.h5\n",
            "Epoch 91/100\n",
            "53/53 [==============================] - 17s 324ms/step - loss: 0.1551 - accuracy: 0.9512 - val_loss: 0.0760 - val_accuracy: 0.9714\n",
            "\n",
            "Epoch 00091: accuracy did not improve from 0.96310\n",
            "Epoch 92/100\n",
            "53/53 [==============================] - 17s 326ms/step - loss: 0.1366 - accuracy: 0.9571 - val_loss: 0.0616 - val_accuracy: 0.9762\n",
            "\n",
            "Epoch 00092: accuracy did not improve from 0.96310\n",
            "Epoch 93/100\n",
            "53/53 [==============================] - 17s 321ms/step - loss: 0.1472 - accuracy: 0.9500 - val_loss: 0.0856 - val_accuracy: 0.9810\n",
            "\n",
            "Epoch 00093: accuracy did not improve from 0.96310\n",
            "Epoch 94/100\n",
            "53/53 [==============================] - 17s 324ms/step - loss: 0.1314 - accuracy: 0.9506 - val_loss: 0.0706 - val_accuracy: 0.9714\n",
            "\n",
            "Epoch 00094: accuracy did not improve from 0.96310\n",
            "Epoch 95/100\n",
            "53/53 [==============================] - 17s 327ms/step - loss: 0.1685 - accuracy: 0.9446 - val_loss: 0.0670 - val_accuracy: 0.9714\n",
            "\n",
            "Epoch 00095: accuracy did not improve from 0.96310\n",
            "Epoch 96/100\n",
            "53/53 [==============================] - 17s 325ms/step - loss: 0.1345 - accuracy: 0.9512 - val_loss: 0.0608 - val_accuracy: 0.9762\n",
            "\n",
            "Epoch 00096: accuracy did not improve from 0.96310\n",
            "Epoch 97/100\n",
            "53/53 [==============================] - 17s 325ms/step - loss: 0.1314 - accuracy: 0.9589 - val_loss: 0.0702 - val_accuracy: 0.9762\n",
            "\n",
            "Epoch 00097: accuracy did not improve from 0.96310\n",
            "Epoch 98/100\n",
            "53/53 [==============================] - 17s 326ms/step - loss: 0.1357 - accuracy: 0.9518 - val_loss: 0.0502 - val_accuracy: 0.9810\n",
            "\n",
            "Epoch 00098: accuracy did not improve from 0.96310\n",
            "Epoch 99/100\n",
            "53/53 [==============================] - 17s 323ms/step - loss: 0.1277 - accuracy: 0.9589 - val_loss: 0.0757 - val_accuracy: 0.9762\n",
            "\n",
            "Epoch 00099: accuracy did not improve from 0.96310\n",
            "Epoch 100/100\n",
            "53/53 [==============================] - 17s 326ms/step - loss: 0.1362 - accuracy: 0.9500 - val_loss: 0.0699 - val_accuracy: 0.9810\n",
            "\n",
            "Epoch 00100: accuracy did not improve from 0.96310\n"
          ]
        }
      ]
    },
    {
      "cell_type": "markdown",
      "metadata": {
        "id": "b7gJXQvmS6ru"
      },
      "source": [
        "###10.2 Plot Model Accuracy and Loss"
      ]
    },
    {
      "cell_type": "markdown",
      "metadata": {
        "id": "qIE3lhfUiheZ"
      },
      "source": [
        "Check the plot of accuracy and loss from the model during training"
      ]
    },
    {
      "cell_type": "code",
      "metadata": {
        "colab": {
          "base_uri": "https://localhost:8080/",
          "height": 545
        },
        "id": "55EzjhSaECPS",
        "outputId": "224aeb52-10e0-4c32-b77d-dc57aef2c0cd"
      },
      "source": [
        "acc = history.history['accuracy']\n",
        "val_acc = history.history['val_accuracy']\n",
        "loss = history.history['loss']\n",
        "val_loss = history.history['val_loss']\n",
        "plt.plot(acc, label='Training acc')\n",
        "plt.plot(val_acc, label='Validation acc')\n",
        "plt.title('Training and validation accuracy')\n",
        "plt.legend()\n",
        "plt.figure()\n",
        "plt.plot(loss, label='Training loss')\n",
        "plt.plot(val_loss, label='Validation loss')\n",
        "plt.title('Training and validation loss')\n",
        "plt.legend()\n",
        "plt.show()"
      ],
      "execution_count": 40,
      "outputs": [
        {
          "output_type": "display_data",
          "data": {
            "image/png": "[encoded data removed]",
            "text/plain": [
              "<Figure size 432x288 with 1 Axes>"
            ]
          },
          "metadata": {
            "needs_background": "light"
          }
        },
        {
          "output_type": "display_data",
          "data": {
            "image/png": "[encoded data removed]",
            "text/plain": [
              "<Figure size 432x288 with 1 Axes>"
            ]
          },
          "metadata": {
            "needs_background": "light"
          }
        }
      ]
    },
    {
      "cell_type": "markdown",
      "metadata": {
        "id": "5fumGqNSilC5"
      },
      "source": [
        "The model is pretty good and no-overfitting"
      ]
    },
    {
      "cell_type": "markdown",
      "metadata": {
        "id": "8OY5pNx4S-gv"
      },
      "source": [
        "###10.3 Evaluate Model Performance"
      ]
    },
    {
      "cell_type": "markdown",
      "metadata": {
        "id": "i_pSs-4Pinct"
      },
      "source": [
        "Evaluate the model with test dataset that the model never seen before."
      ]
    },
    {
      "cell_type": "code",
      "metadata": {
        "colab": {
          "base_uri": "https://localhost:8080/"
        },
        "id": "kH-6LeFEZlbz",
        "outputId": "773e0229-53a4-4bce-c8f2-12b836b09ad7"
      },
      "source": [
        "model = tf.keras.models.load_model(\"bestInceptionmodel.h5\")\n",
        "akurasi = model.evaluate(test_generator)\n",
        "model.save(f\"/content/drive/Shareddrives/Data/Model Land Use/model_Inception Acc:{akurasi[1]}.h5\")"
      ],
      "execution_count": 44,
      "outputs": [
        {
          "output_type": "stream",
          "name": "stdout",
          "text": [
            "210/210 [==============================] - 9s 36ms/step - loss: 0.0457 - accuracy: 0.9905\n"
          ]
        }
      ]
    },
    {
      "cell_type": "code",
      "metadata": {
        "colab": {
          "base_uri": "https://localhost:8080/"
        },
        "id": "M4SNBBCCZcYw",
        "outputId": "f51507ee-1ec3-4771-a407-381e3f1dcae8"
      },
      "source": [
        "y_pred = model.predict(X_test)\n",
        "y_pred_class = [np.argmax(y) for y in y_pred]\n",
        "print(classification_report(y_test_class, y_pred_class))"
      ],
      "execution_count": 45,
      "outputs": [
        {
          "output_type": "stream",
          "name": "stdout",
          "text": [
            "              precision    recall  f1-score   support\n",
            "\n",
            "           0       1.00      1.00      1.00        10\n",
            "           1       1.00      1.00      1.00        10\n",
            "           2       1.00      1.00      1.00        10\n",
            "           3       1.00      1.00      1.00        10\n",
            "           4       0.91      1.00      0.95        10\n",
            "           5       1.00      1.00      1.00        10\n",
            "           6       0.91      1.00      0.95        10\n",
            "           7       1.00      1.00      1.00        10\n",
            "           8       1.00      1.00      1.00        10\n",
            "           9       1.00      1.00      1.00        10\n",
            "          10       1.00      1.00      1.00        10\n",
            "          11       1.00      1.00      1.00        10\n",
            "          12       1.00      1.00      1.00        10\n",
            "          13       1.00      0.90      0.95        10\n",
            "          14       1.00      1.00      1.00        10\n",
            "          15       1.00      1.00      1.00        10\n",
            "          16       1.00      1.00      1.00        10\n",
            "          17       1.00      1.00      1.00        10\n",
            "          18       1.00      1.00      1.00        10\n",
            "          19       1.00      1.00      1.00        10\n",
            "          20       1.00      0.90      0.95        10\n",
            "\n",
            "    accuracy                           0.99       210\n",
            "   macro avg       0.99      0.99      0.99       210\n",
            "weighted avg       0.99      0.99      0.99       210\n",
            "\n"
          ]
        }
      ]
    },
    {
      "cell_type": "markdown",
      "metadata": {
        "id": "mDWJRZOwTBd2"
      },
      "source": [
        "###10.4 Plot Confusion Matrix"
      ]
    },
    {
      "cell_type": "markdown",
      "metadata": {
        "id": "BASYe0tiiqv1"
      },
      "source": [
        "Plot the confusion matrix to see where the model successfully predicts and fails to predict"
      ]
    },
    {
      "cell_type": "code",
      "metadata": {
        "colab": {
          "base_uri": "https://localhost:8080/",
          "height": 1000
        },
        "id": "KFa_-LXeTD8W",
        "outputId": "f2855825-5b3f-4135-cb2a-497a51fc737c"
      },
      "source": [
        "y_pred = model.predict(X_test)\n",
        "y_pred_class = [np.argmax(y) for y in y_pred]\n",
        "cnf_mat = confusion_matrix(y_test_class, y_pred_class)\n",
        "np.set_printoptions(precision=2)\n",
        "\n",
        "plt.figure()\n",
        "plot_confusion_matrix(cnf_mat, classes=labels)\n",
        "plt.grid(None)\n",
        "plt.show();"
      ],
      "execution_count": 46,
      "outputs": [
        {
          "output_type": "display_data",
          "data": {
            "text/plain": [
              "<Figure size 432x288 with 0 Axes>"
            ]
          },
          "metadata": {}
        },
        {
          "output_type": "display_data",
          "data": {
            "image/png": "[encoded data removed]",
            "text/plain": [
              "<Figure size 1440x1440 with 2 Axes>"
            ]
          },
          "metadata": {
            "needs_background": "light"
          }
        }
      ]
    },
    {
      "cell_type": "markdown",
      "metadata": {
        "id": "MRYNHWM1i0Yr"
      },
      "source": [
        "The model perform very good with 99% accuracy on the test set and succesfully predict 100% on almost all classes almost the same as the model that uses MobileNet as the pretrained model"
      ]
    },
    {
      "cell_type": "markdown",
      "metadata": {
        "id": "dKcbn6Nu3sfV"
      },
      "source": [
        "##11. Test with random image"
      ]
    },
    {
      "cell_type": "markdown",
      "metadata": {
        "id": "aRD9jDLzTG8j"
      },
      "source": [
        "###11.1 Load Model with Best Accuracy"
      ]
    },
    {
      "cell_type": "markdown",
      "metadata": {
        "id": "m02bMnx0i8L3"
      },
      "source": [
        "We select the model we trained and saved in googl drive with the best accuracy"
      ]
    },
    {
      "cell_type": "code",
      "metadata": {
        "id": "tU6JKPoTac_m",
        "colab": {
          "base_uri": "https://localhost:8080/"
        },
        "outputId": "de92bb7e-5db2-4e39-88af-8e8b9bbf6023"
      },
      "source": [
        "import re\n",
        "_path = \"/content/drive/Shareddrives/Data/Model Land Use\"\n",
        "models = os.listdir(_path)\n",
        "best_acc = 0\n",
        "best_model = \"\"\n",
        "\n",
        "regex = r\"(\\d+)(?:\\.(\\d{1,}))\"\n",
        "for _model in models:\n",
        "  acc = re.search(regex,_model)\n",
        "  cur_acc = float(acc.group(0))\n",
        "  if cur_acc > best_acc:\n",
        "    best_acc = cur_acc\n",
        "    best_model = _model\n",
        "\n",
        "model= tf.keras.models.load_model(os.path.join(_path, best_model))\n",
        "print(f\"Model used: {best_model}\")"
      ],
      "execution_count": 47,
      "outputs": [
        {
          "output_type": "stream",
          "name": "stdout",
          "text": [
            "Model used: model_MobileNet Acc:0.9904761910438538.h5\n"
          ]
        }
      ]
    },
    {
      "cell_type": "markdown",
      "metadata": {
        "id": "FciEUitxTRXG"
      },
      "source": [
        "###11.2 Upload Image to Test the Model"
      ]
    },
    {
      "cell_type": "markdown",
      "metadata": {
        "id": "w-PqFtYmjDOY"
      },
      "source": [
        "Test the image from internet"
      ]
    },
    {
      "cell_type": "code",
      "metadata": {
        "colab": {
          "resources": {
            "http://localhost:8080/nbextensions/google.colab/files.js": {
              "data": "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",
              "ok": true,
              "headers": [
                [
                  "content-type",
                  "application/javascript"
                ]
              ],
              "status": 200,
              "status_text": ""
            }
          },
          "base_uri": "https://localhost:8080/",
          "height": 324
        },
        "id": "67JaLdLEcYTl",
        "outputId": "0602686e-e8a4-425b-ff38-68494519424c"
      },
      "source": [
        "from google.colab import files\n",
        "\n",
        "uploaded = files.upload()\n",
        "\n",
        "for fn in uploaded.keys():\n",
        "  img = cv2.imread(fn)\n",
        "  img = cv2.resize(img,(150,150))\n",
        "  img = np.reshape(img,[1,150,150,3])\n",
        "  img_arr = np.zeros((1,150,150,3))\n",
        "  img_arr[0, :, :, :] = img / 255.\n",
        "  y_pred = model.predict(img_arr)\n",
        "  plt.imshow(imread(fn))\n",
        "  plt.axis('off')\n",
        "  plt.show()\n",
        "  print(f\"Predicted as: {class_label[np.argmax(y_pred)]}\")"
      ],
      "execution_count": 49,
      "outputs": [
        {
          "output_type": "display_data",
          "data": {
            "text/html": [
              "\n",
              "     <input type=\"file\" id=\"files-46559aaf-7e02-4556-b638-89b0a2a35923\" name=\"files[]\" multiple disabled\n",
              "        style=\"border:none\" />\n",
              "     <output id=\"result-46559aaf-7e02-4556-b638-89b0a2a35923\">\n",
              "      Upload widget is only available when the cell has been executed in the\n",
              "      current browser session. Please rerun this cell to enable.\n",
              "      </output>\n",
              "      <script src=\"/nbextensions/google.colab/files.js\"></script> "
            ],
            "text/plain": [
              "<IPython.core.display.HTML object>"
            ]
          },
          "metadata": {}
        },
        {
          "output_type": "stream",
          "name": "stdout",
          "text": [
            "Saving airplane.jpg to airplane.jpg\n"
          ]
        },
        {
          "output_type": "display_data",
          "data": {
            "image/png": "[encoded data removed]",
            "text/plain": [
              "<Figure size 432x288 with 1 Axes>"
            ]
          },
          "metadata": {
            "needs_background": "light"
          }
        },
        {
          "output_type": "stream",
          "name": "stdout",
          "text": [
            "Predicted as: airplane\n"
          ]
        }
      ]
    },
    {
      "cell_type": "markdown",
      "metadata": {
        "id": "btf8CJO4jHTF"
      },
      "source": [
        "The model succesfully recognize it as airplane"
      ]
    },
    {
      "cell_type": "code",
      "metadata": {
        "id": "vESVcUkh4o-J"
      },
      "source": [
        ""
      ],
      "execution_count": null,
      "outputs": []
    }
  ]
}